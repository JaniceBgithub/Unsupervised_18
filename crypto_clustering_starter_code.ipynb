{
 "cells": [
  {
   "cell_type": "markdown",
   "metadata": {},
   "source": [
    "# Clustering Crypto"
   ]
  },
  {
   "cell_type": "code",
   "execution_count": 91,
   "metadata": {},
   "outputs": [],
   "source": [
    "# Initial imports\n",
    "import pandas as pd\n",
    "import hvplot.pandas\n",
    "from path import Path\n",
    "import plotly.express as px\n",
    "from sklearn.preprocessing import StandardScaler, MinMaxScaler\n",
    "from sklearn.decomposition import PCA\n",
    "from sklearn.cluster import KMeans\n",
    "import matplotlib.pyplot as plt"
   ]
  },
  {
   "cell_type": "markdown",
   "metadata": {},
   "source": [
    "### Deliverable 1: Preprocessing the Data for PCA"
   ]
  },
  {
   "cell_type": "code",
   "execution_count": 92,
   "metadata": {},
   "outputs": [
    {
     "data": {
      "text/html": [
       "<div>\n",
       "<style scoped>\n",
       "    .dataframe tbody tr th:only-of-type {\n",
       "        vertical-align: middle;\n",
       "    }\n",
       "\n",
       "    .dataframe tbody tr th {\n",
       "        vertical-align: top;\n",
       "    }\n",
       "\n",
       "    .dataframe thead th {\n",
       "        text-align: right;\n",
       "    }\n",
       "</style>\n",
       "<table border=\"1\" class=\"dataframe\">\n",
       "  <thead>\n",
       "    <tr style=\"text-align: right;\">\n",
       "      <th></th>\n",
       "      <th>Name</th>\n",
       "      <th>CoinName</th>\n",
       "      <th>Algorithm</th>\n",
       "      <th>IsTrading</th>\n",
       "      <th>ProofType</th>\n",
       "      <th>TotalCoinsMined</th>\n",
       "      <th>TotalCoinSupply</th>\n",
       "    </tr>\n",
       "  </thead>\n",
       "  <tbody>\n",
       "    <tr>\n",
       "      <th>0</th>\n",
       "      <td>42</td>\n",
       "      <td>42 Coin</td>\n",
       "      <td>Scrypt</td>\n",
       "      <td>True</td>\n",
       "      <td>PoW/PoS</td>\n",
       "      <td>4.199995e+01</td>\n",
       "      <td>42</td>\n",
       "    </tr>\n",
       "    <tr>\n",
       "      <th>1</th>\n",
       "      <td>365</td>\n",
       "      <td>365Coin</td>\n",
       "      <td>X11</td>\n",
       "      <td>True</td>\n",
       "      <td>PoW/PoS</td>\n",
       "      <td>NaN</td>\n",
       "      <td>2300000000</td>\n",
       "    </tr>\n",
       "    <tr>\n",
       "      <th>2</th>\n",
       "      <td>404</td>\n",
       "      <td>404Coin</td>\n",
       "      <td>Scrypt</td>\n",
       "      <td>True</td>\n",
       "      <td>PoW/PoS</td>\n",
       "      <td>1.055185e+09</td>\n",
       "      <td>532000000</td>\n",
       "    </tr>\n",
       "    <tr>\n",
       "      <th>3</th>\n",
       "      <td>611</td>\n",
       "      <td>SixEleven</td>\n",
       "      <td>SHA-256</td>\n",
       "      <td>True</td>\n",
       "      <td>PoW</td>\n",
       "      <td>NaN</td>\n",
       "      <td>611000</td>\n",
       "    </tr>\n",
       "    <tr>\n",
       "      <th>4</th>\n",
       "      <td>808</td>\n",
       "      <td>808</td>\n",
       "      <td>SHA-256</td>\n",
       "      <td>True</td>\n",
       "      <td>PoW/PoS</td>\n",
       "      <td>0.000000e+00</td>\n",
       "      <td>0</td>\n",
       "    </tr>\n",
       "    <tr>\n",
       "      <th>...</th>\n",
       "      <td>...</td>\n",
       "      <td>...</td>\n",
       "      <td>...</td>\n",
       "      <td>...</td>\n",
       "      <td>...</td>\n",
       "      <td>...</td>\n",
       "      <td>...</td>\n",
       "    </tr>\n",
       "    <tr>\n",
       "      <th>95</th>\n",
       "      <td>FRK</td>\n",
       "      <td>Franko</td>\n",
       "      <td>Scrypt</td>\n",
       "      <td>True</td>\n",
       "      <td>PoW</td>\n",
       "      <td>1.142732e+06</td>\n",
       "      <td>11235813</td>\n",
       "    </tr>\n",
       "    <tr>\n",
       "      <th>96</th>\n",
       "      <td>FRAC</td>\n",
       "      <td>FractalCoin</td>\n",
       "      <td>X11</td>\n",
       "      <td>True</td>\n",
       "      <td>PoW</td>\n",
       "      <td>NaN</td>\n",
       "      <td>1000000</td>\n",
       "    </tr>\n",
       "    <tr>\n",
       "      <th>97</th>\n",
       "      <td>FSTC</td>\n",
       "      <td>FastCoin</td>\n",
       "      <td>Scrypt</td>\n",
       "      <td>False</td>\n",
       "      <td>PoW</td>\n",
       "      <td>NaN</td>\n",
       "      <td>165888000</td>\n",
       "    </tr>\n",
       "    <tr>\n",
       "      <th>98</th>\n",
       "      <td>FTC</td>\n",
       "      <td>FeatherCoin</td>\n",
       "      <td>NeoScrypt</td>\n",
       "      <td>True</td>\n",
       "      <td>PoW</td>\n",
       "      <td>2.086691e+08</td>\n",
       "      <td>336000000</td>\n",
       "    </tr>\n",
       "    <tr>\n",
       "      <th>99</th>\n",
       "      <td>GDC</td>\n",
       "      <td>GrandCoin</td>\n",
       "      <td>Scrypt</td>\n",
       "      <td>True</td>\n",
       "      <td>PoW</td>\n",
       "      <td>8.841258e+08</td>\n",
       "      <td>1420609614</td>\n",
       "    </tr>\n",
       "  </tbody>\n",
       "</table>\n",
       "<p>100 rows × 7 columns</p>\n",
       "</div>"
      ],
      "text/plain": [
       "    Name     CoinName  Algorithm  IsTrading ProofType  TotalCoinsMined  \\\n",
       "0     42      42 Coin     Scrypt       True   PoW/PoS     4.199995e+01   \n",
       "1    365      365Coin        X11       True   PoW/PoS              NaN   \n",
       "2    404      404Coin     Scrypt       True   PoW/PoS     1.055185e+09   \n",
       "3    611    SixEleven    SHA-256       True       PoW              NaN   \n",
       "4    808          808    SHA-256       True   PoW/PoS     0.000000e+00   \n",
       "..   ...          ...        ...        ...       ...              ...   \n",
       "95   FRK       Franko     Scrypt       True       PoW     1.142732e+06   \n",
       "96  FRAC  FractalCoin        X11       True       PoW              NaN   \n",
       "97  FSTC     FastCoin     Scrypt      False       PoW              NaN   \n",
       "98   FTC  FeatherCoin  NeoScrypt       True       PoW     2.086691e+08   \n",
       "99   GDC    GrandCoin     Scrypt       True       PoW     8.841258e+08   \n",
       "\n",
       "   TotalCoinSupply  \n",
       "0               42  \n",
       "1       2300000000  \n",
       "2        532000000  \n",
       "3           611000  \n",
       "4                0  \n",
       "..             ...  \n",
       "95        11235813  \n",
       "96         1000000  \n",
       "97       165888000  \n",
       "98       336000000  \n",
       "99      1420609614  \n",
       "\n",
       "[100 rows x 7 columns]"
      ]
     },
     "execution_count": 92,
     "metadata": {},
     "output_type": "execute_result"
    }
   ],
   "source": [
    "# Load the crypto_data.csv dataset.\n",
    "df = pd.read_csv(\"crypto_data.csv\", index_col=None)\n",
    "df.head(100)"
   ]
  },
  {
   "cell_type": "code",
   "execution_count": 93,
   "metadata": {},
   "outputs": [
    {
     "data": {
      "text/html": [
       "<div>\n",
       "<style scoped>\n",
       "    .dataframe tbody tr th:only-of-type {\n",
       "        vertical-align: middle;\n",
       "    }\n",
       "\n",
       "    .dataframe tbody tr th {\n",
       "        vertical-align: top;\n",
       "    }\n",
       "\n",
       "    .dataframe thead th {\n",
       "        text-align: right;\n",
       "    }\n",
       "</style>\n",
       "<table border=\"1\" class=\"dataframe\">\n",
       "  <thead>\n",
       "    <tr style=\"text-align: right;\">\n",
       "      <th></th>\n",
       "      <th>CoinName</th>\n",
       "      <th>Algorithm</th>\n",
       "      <th>IsTrading</th>\n",
       "      <th>ProofType</th>\n",
       "      <th>TotalCoinsMined</th>\n",
       "      <th>TotalCoinSupply</th>\n",
       "    </tr>\n",
       "    <tr>\n",
       "      <th>Name</th>\n",
       "      <th></th>\n",
       "      <th></th>\n",
       "      <th></th>\n",
       "      <th></th>\n",
       "      <th></th>\n",
       "      <th></th>\n",
       "    </tr>\n",
       "  </thead>\n",
       "  <tbody>\n",
       "    <tr>\n",
       "      <th>42</th>\n",
       "      <td>42 Coin</td>\n",
       "      <td>Scrypt</td>\n",
       "      <td>True</td>\n",
       "      <td>PoW/PoS</td>\n",
       "      <td>4.199995e+01</td>\n",
       "      <td>42</td>\n",
       "    </tr>\n",
       "    <tr>\n",
       "      <th>365</th>\n",
       "      <td>365Coin</td>\n",
       "      <td>X11</td>\n",
       "      <td>True</td>\n",
       "      <td>PoW/PoS</td>\n",
       "      <td>NaN</td>\n",
       "      <td>2300000000</td>\n",
       "    </tr>\n",
       "    <tr>\n",
       "      <th>404</th>\n",
       "      <td>404Coin</td>\n",
       "      <td>Scrypt</td>\n",
       "      <td>True</td>\n",
       "      <td>PoW/PoS</td>\n",
       "      <td>1.055185e+09</td>\n",
       "      <td>532000000</td>\n",
       "    </tr>\n",
       "    <tr>\n",
       "      <th>611</th>\n",
       "      <td>SixEleven</td>\n",
       "      <td>SHA-256</td>\n",
       "      <td>True</td>\n",
       "      <td>PoW</td>\n",
       "      <td>NaN</td>\n",
       "      <td>611000</td>\n",
       "    </tr>\n",
       "    <tr>\n",
       "      <th>808</th>\n",
       "      <td>808</td>\n",
       "      <td>SHA-256</td>\n",
       "      <td>True</td>\n",
       "      <td>PoW/PoS</td>\n",
       "      <td>0.000000e+00</td>\n",
       "      <td>0</td>\n",
       "    </tr>\n",
       "    <tr>\n",
       "      <th>...</th>\n",
       "      <td>...</td>\n",
       "      <td>...</td>\n",
       "      <td>...</td>\n",
       "      <td>...</td>\n",
       "      <td>...</td>\n",
       "      <td>...</td>\n",
       "    </tr>\n",
       "    <tr>\n",
       "      <th>XBC</th>\n",
       "      <td>BitcoinPlus</td>\n",
       "      <td>Scrypt</td>\n",
       "      <td>True</td>\n",
       "      <td>PoS</td>\n",
       "      <td>1.283270e+05</td>\n",
       "      <td>1000000</td>\n",
       "    </tr>\n",
       "    <tr>\n",
       "      <th>DVTC</th>\n",
       "      <td>DivotyCoin</td>\n",
       "      <td>Scrypt</td>\n",
       "      <td>False</td>\n",
       "      <td>PoW/PoS</td>\n",
       "      <td>2.149121e+07</td>\n",
       "      <td>100000000</td>\n",
       "    </tr>\n",
       "    <tr>\n",
       "      <th>GIOT</th>\n",
       "      <td>Giotto Coin</td>\n",
       "      <td>Scrypt</td>\n",
       "      <td>False</td>\n",
       "      <td>PoW/PoS</td>\n",
       "      <td>NaN</td>\n",
       "      <td>233100000</td>\n",
       "    </tr>\n",
       "    <tr>\n",
       "      <th>OPSC</th>\n",
       "      <td>OpenSourceCoin</td>\n",
       "      <td>SHA-256</td>\n",
       "      <td>False</td>\n",
       "      <td>PoW/PoS</td>\n",
       "      <td>NaN</td>\n",
       "      <td>21000000</td>\n",
       "    </tr>\n",
       "    <tr>\n",
       "      <th>PUNK</th>\n",
       "      <td>SteamPunk</td>\n",
       "      <td>PoS</td>\n",
       "      <td>False</td>\n",
       "      <td>PoS</td>\n",
       "      <td>NaN</td>\n",
       "      <td>40000000</td>\n",
       "    </tr>\n",
       "  </tbody>\n",
       "</table>\n",
       "<p>1252 rows × 6 columns</p>\n",
       "</div>"
      ],
      "text/plain": [
       "            CoinName Algorithm  IsTrading ProofType  TotalCoinsMined  \\\n",
       "Name                                                                   \n",
       "42           42 Coin    Scrypt       True   PoW/PoS     4.199995e+01   \n",
       "365          365Coin       X11       True   PoW/PoS              NaN   \n",
       "404          404Coin    Scrypt       True   PoW/PoS     1.055185e+09   \n",
       "611        SixEleven   SHA-256       True       PoW              NaN   \n",
       "808              808   SHA-256       True   PoW/PoS     0.000000e+00   \n",
       "...              ...       ...        ...       ...              ...   \n",
       "XBC      BitcoinPlus    Scrypt       True       PoS     1.283270e+05   \n",
       "DVTC      DivotyCoin    Scrypt      False   PoW/PoS     2.149121e+07   \n",
       "GIOT     Giotto Coin    Scrypt      False   PoW/PoS              NaN   \n",
       "OPSC  OpenSourceCoin   SHA-256      False   PoW/PoS              NaN   \n",
       "PUNK       SteamPunk       PoS      False       PoS              NaN   \n",
       "\n",
       "     TotalCoinSupply  \n",
       "Name                  \n",
       "42                42  \n",
       "365       2300000000  \n",
       "404        532000000  \n",
       "611           611000  \n",
       "808                0  \n",
       "...              ...  \n",
       "XBC          1000000  \n",
       "DVTC       100000000  \n",
       "GIOT       233100000  \n",
       "OPSC        21000000  \n",
       "PUNK        40000000  \n",
       "\n",
       "[1252 rows x 6 columns]"
      ]
     },
     "execution_count": 93,
     "metadata": {},
     "output_type": "execute_result"
    }
   ],
   "source": [
    "df= df.set_index('Name')\n",
    "df"
   ]
  },
  {
   "cell_type": "code",
   "execution_count": 94,
   "metadata": {},
   "outputs": [
    {
     "data": {
      "text/html": [
       "<div>\n",
       "<style scoped>\n",
       "    .dataframe tbody tr th:only-of-type {\n",
       "        vertical-align: middle;\n",
       "    }\n",
       "\n",
       "    .dataframe tbody tr th {\n",
       "        vertical-align: top;\n",
       "    }\n",
       "\n",
       "    .dataframe thead th {\n",
       "        text-align: right;\n",
       "    }\n",
       "</style>\n",
       "<table border=\"1\" class=\"dataframe\">\n",
       "  <thead>\n",
       "    <tr style=\"text-align: right;\">\n",
       "      <th></th>\n",
       "      <th>CoinName</th>\n",
       "      <th>Algorithm</th>\n",
       "      <th>IsTrading</th>\n",
       "      <th>ProofType</th>\n",
       "      <th>TotalCoinsMined</th>\n",
       "      <th>TotalCoinSupply</th>\n",
       "    </tr>\n",
       "    <tr>\n",
       "      <th>Name</th>\n",
       "      <th></th>\n",
       "      <th></th>\n",
       "      <th></th>\n",
       "      <th></th>\n",
       "      <th></th>\n",
       "      <th></th>\n",
       "    </tr>\n",
       "  </thead>\n",
       "  <tbody>\n",
       "    <tr>\n",
       "      <th>42</th>\n",
       "      <td>42 Coin</td>\n",
       "      <td>Scrypt</td>\n",
       "      <td>True</td>\n",
       "      <td>PoW/PoS</td>\n",
       "      <td>4.199995e+01</td>\n",
       "      <td>42</td>\n",
       "    </tr>\n",
       "    <tr>\n",
       "      <th>365</th>\n",
       "      <td>365Coin</td>\n",
       "      <td>X11</td>\n",
       "      <td>True</td>\n",
       "      <td>PoW/PoS</td>\n",
       "      <td>NaN</td>\n",
       "      <td>2300000000</td>\n",
       "    </tr>\n",
       "    <tr>\n",
       "      <th>404</th>\n",
       "      <td>404Coin</td>\n",
       "      <td>Scrypt</td>\n",
       "      <td>True</td>\n",
       "      <td>PoW/PoS</td>\n",
       "      <td>1.055185e+09</td>\n",
       "      <td>532000000</td>\n",
       "    </tr>\n",
       "    <tr>\n",
       "      <th>611</th>\n",
       "      <td>SixEleven</td>\n",
       "      <td>SHA-256</td>\n",
       "      <td>True</td>\n",
       "      <td>PoW</td>\n",
       "      <td>NaN</td>\n",
       "      <td>611000</td>\n",
       "    </tr>\n",
       "    <tr>\n",
       "      <th>808</th>\n",
       "      <td>808</td>\n",
       "      <td>SHA-256</td>\n",
       "      <td>True</td>\n",
       "      <td>PoW/PoS</td>\n",
       "      <td>0.000000e+00</td>\n",
       "      <td>0</td>\n",
       "    </tr>\n",
       "    <tr>\n",
       "      <th>...</th>\n",
       "      <td>...</td>\n",
       "      <td>...</td>\n",
       "      <td>...</td>\n",
       "      <td>...</td>\n",
       "      <td>...</td>\n",
       "      <td>...</td>\n",
       "    </tr>\n",
       "    <tr>\n",
       "      <th>SERO</th>\n",
       "      <td>Super Zero</td>\n",
       "      <td>Ethash</td>\n",
       "      <td>True</td>\n",
       "      <td>PoW</td>\n",
       "      <td>NaN</td>\n",
       "      <td>1000000000</td>\n",
       "    </tr>\n",
       "    <tr>\n",
       "      <th>UOS</th>\n",
       "      <td>UOS</td>\n",
       "      <td>SHA-256</td>\n",
       "      <td>True</td>\n",
       "      <td>DPoI</td>\n",
       "      <td>NaN</td>\n",
       "      <td>1000000000</td>\n",
       "    </tr>\n",
       "    <tr>\n",
       "      <th>BDX</th>\n",
       "      <td>Beldex</td>\n",
       "      <td>CryptoNight</td>\n",
       "      <td>True</td>\n",
       "      <td>PoW</td>\n",
       "      <td>9.802226e+08</td>\n",
       "      <td>1400222610</td>\n",
       "    </tr>\n",
       "    <tr>\n",
       "      <th>ZEN</th>\n",
       "      <td>Horizen</td>\n",
       "      <td>Equihash</td>\n",
       "      <td>True</td>\n",
       "      <td>PoW</td>\n",
       "      <td>7.296538e+06</td>\n",
       "      <td>21000000</td>\n",
       "    </tr>\n",
       "    <tr>\n",
       "      <th>XBC</th>\n",
       "      <td>BitcoinPlus</td>\n",
       "      <td>Scrypt</td>\n",
       "      <td>True</td>\n",
       "      <td>PoS</td>\n",
       "      <td>1.283270e+05</td>\n",
       "      <td>1000000</td>\n",
       "    </tr>\n",
       "  </tbody>\n",
       "</table>\n",
       "<p>1144 rows × 6 columns</p>\n",
       "</div>"
      ],
      "text/plain": [
       "         CoinName    Algorithm  IsTrading ProofType  TotalCoinsMined  \\\n",
       "Name                                                                   \n",
       "42        42 Coin       Scrypt       True   PoW/PoS     4.199995e+01   \n",
       "365       365Coin          X11       True   PoW/PoS              NaN   \n",
       "404       404Coin       Scrypt       True   PoW/PoS     1.055185e+09   \n",
       "611     SixEleven      SHA-256       True       PoW              NaN   \n",
       "808           808      SHA-256       True   PoW/PoS     0.000000e+00   \n",
       "...           ...          ...        ...       ...              ...   \n",
       "SERO   Super Zero       Ethash       True       PoW              NaN   \n",
       "UOS           UOS      SHA-256       True      DPoI              NaN   \n",
       "BDX        Beldex  CryptoNight       True       PoW     9.802226e+08   \n",
       "ZEN       Horizen     Equihash       True       PoW     7.296538e+06   \n",
       "XBC   BitcoinPlus       Scrypt       True       PoS     1.283270e+05   \n",
       "\n",
       "     TotalCoinSupply  \n",
       "Name                  \n",
       "42                42  \n",
       "365       2300000000  \n",
       "404        532000000  \n",
       "611           611000  \n",
       "808                0  \n",
       "...              ...  \n",
       "SERO      1000000000  \n",
       "UOS       1000000000  \n",
       "BDX       1400222610  \n",
       "ZEN         21000000  \n",
       "XBC          1000000  \n",
       "\n",
       "[1144 rows x 6 columns]"
      ]
     },
     "execution_count": 94,
     "metadata": {},
     "output_type": "execute_result"
    }
   ],
   "source": [
    "#keep the is trading true values\n",
    "\n",
    "df = df[df['IsTrading']]\n",
    "df"
   ]
  },
  {
   "cell_type": "code",
   "execution_count": 95,
   "metadata": {},
   "outputs": [
    {
     "data": {
      "text/plain": [
       "array(['Scrypt', 'X11', 'SHA-256', 'X13', 'Ethash', 'CryptoNight-V7',\n",
       "       'Equihash', 'SHA-512', 'Multiple', 'X15', 'NIST5', 'Quark',\n",
       "       'Groestl', 'PoS', 'NeoScrypt', 'SHA3', 'HybridScryptHash256',\n",
       "       'Scrypt-n', 'PHI1612', 'Lyra2REv2', 'CryptoNight', 'Shabal256',\n",
       "       'Counterparty', 'Blake', 'Momentum', 'Stanford Folding', 'QuBit',\n",
       "       'XG Hash', 'M7 POW', 'Curve25519', 'Lyra2RE', 'QUAIT', 'vDPOS',\n",
       "       'Blake2b', 'BLAKE256', '1GB AES Pattern Search', 'Dagger',\n",
       "       'CryptoNight-Lite', 'X11GOST', 'SHA-256D', 'POS 3.0',\n",
       "       'Progressive-n', 'DPoS', 'Lyra2Z', 'X14', 'Time Travel', 'Argon2',\n",
       "       'Keccak', 'Blake2S', 'Dagger-Hashimoto', '536', 'Argon2d',\n",
       "       'Cloverhash', 'Skein', 'SkunkHash v2 Raptor',\n",
       "       'VeChainThor Authority', 'Ouroboros', 'POS 2.0', 'SkunkHash',\n",
       "       'C11', 'Proof-of-BibleHash', 'SHA-256 + Hive',\n",
       "       'Proof-of-Authority', 'XEVAN', 'VBFT', 'YescryptR16', 'IMesh',\n",
       "       'Green Protocol', 'Semux BFT consensus', 'X16R', 'Tribus',\n",
       "       'CryptoNight Heavy', 'Jump Consistent Hash', 'HMQ1725', 'Zhash',\n",
       "       'Cryptonight-GPU', 'ECC 256K1', 'CryptoNight Heavy X',\n",
       "       'Rainforest', 'Exosis', 'CryptoNight-lite', 'QuarkTX',\n",
       "       'Leased POS', 'Equihash1927', 'T-Inside', 'SHA3-256',\n",
       "       'Equihash+Scrypt', 'Slatechain', 'TRC10'], dtype=object)"
      ]
     },
     "execution_count": 95,
     "metadata": {},
     "output_type": "execute_result"
    }
   ],
   "source": [
    "# Keep all the cryptocurrencies that have a working algorithm.\n",
    "df.Algorithm.unique()\n"
   ]
  },
  {
   "cell_type": "code",
   "execution_count": 96,
   "metadata": {},
   "outputs": [
    {
     "data": {
      "text/html": [
       "<div>\n",
       "<style scoped>\n",
       "    .dataframe tbody tr th:only-of-type {\n",
       "        vertical-align: middle;\n",
       "    }\n",
       "\n",
       "    .dataframe tbody tr th {\n",
       "        vertical-align: top;\n",
       "    }\n",
       "\n",
       "    .dataframe thead th {\n",
       "        text-align: right;\n",
       "    }\n",
       "</style>\n",
       "<table border=\"1\" class=\"dataframe\">\n",
       "  <thead>\n",
       "    <tr style=\"text-align: right;\">\n",
       "      <th></th>\n",
       "      <th>CoinName</th>\n",
       "      <th>Algorithm</th>\n",
       "      <th>ProofType</th>\n",
       "      <th>TotalCoinsMined</th>\n",
       "      <th>TotalCoinSupply</th>\n",
       "    </tr>\n",
       "    <tr>\n",
       "      <th>Name</th>\n",
       "      <th></th>\n",
       "      <th></th>\n",
       "      <th></th>\n",
       "      <th></th>\n",
       "      <th></th>\n",
       "    </tr>\n",
       "  </thead>\n",
       "  <tbody>\n",
       "    <tr>\n",
       "      <th>42</th>\n",
       "      <td>42 Coin</td>\n",
       "      <td>Scrypt</td>\n",
       "      <td>PoW/PoS</td>\n",
       "      <td>4.199995e+01</td>\n",
       "      <td>42</td>\n",
       "    </tr>\n",
       "    <tr>\n",
       "      <th>365</th>\n",
       "      <td>365Coin</td>\n",
       "      <td>X11</td>\n",
       "      <td>PoW/PoS</td>\n",
       "      <td>NaN</td>\n",
       "      <td>2300000000</td>\n",
       "    </tr>\n",
       "    <tr>\n",
       "      <th>404</th>\n",
       "      <td>404Coin</td>\n",
       "      <td>Scrypt</td>\n",
       "      <td>PoW/PoS</td>\n",
       "      <td>1.055185e+09</td>\n",
       "      <td>532000000</td>\n",
       "    </tr>\n",
       "    <tr>\n",
       "      <th>611</th>\n",
       "      <td>SixEleven</td>\n",
       "      <td>SHA-256</td>\n",
       "      <td>PoW</td>\n",
       "      <td>NaN</td>\n",
       "      <td>611000</td>\n",
       "    </tr>\n",
       "    <tr>\n",
       "      <th>808</th>\n",
       "      <td>808</td>\n",
       "      <td>SHA-256</td>\n",
       "      <td>PoW/PoS</td>\n",
       "      <td>0.000000e+00</td>\n",
       "      <td>0</td>\n",
       "    </tr>\n",
       "    <tr>\n",
       "      <th>...</th>\n",
       "      <td>...</td>\n",
       "      <td>...</td>\n",
       "      <td>...</td>\n",
       "      <td>...</td>\n",
       "      <td>...</td>\n",
       "    </tr>\n",
       "    <tr>\n",
       "      <th>SERO</th>\n",
       "      <td>Super Zero</td>\n",
       "      <td>Ethash</td>\n",
       "      <td>PoW</td>\n",
       "      <td>NaN</td>\n",
       "      <td>1000000000</td>\n",
       "    </tr>\n",
       "    <tr>\n",
       "      <th>UOS</th>\n",
       "      <td>UOS</td>\n",
       "      <td>SHA-256</td>\n",
       "      <td>DPoI</td>\n",
       "      <td>NaN</td>\n",
       "      <td>1000000000</td>\n",
       "    </tr>\n",
       "    <tr>\n",
       "      <th>BDX</th>\n",
       "      <td>Beldex</td>\n",
       "      <td>CryptoNight</td>\n",
       "      <td>PoW</td>\n",
       "      <td>9.802226e+08</td>\n",
       "      <td>1400222610</td>\n",
       "    </tr>\n",
       "    <tr>\n",
       "      <th>ZEN</th>\n",
       "      <td>Horizen</td>\n",
       "      <td>Equihash</td>\n",
       "      <td>PoW</td>\n",
       "      <td>7.296538e+06</td>\n",
       "      <td>21000000</td>\n",
       "    </tr>\n",
       "    <tr>\n",
       "      <th>XBC</th>\n",
       "      <td>BitcoinPlus</td>\n",
       "      <td>Scrypt</td>\n",
       "      <td>PoS</td>\n",
       "      <td>1.283270e+05</td>\n",
       "      <td>1000000</td>\n",
       "    </tr>\n",
       "  </tbody>\n",
       "</table>\n",
       "<p>1144 rows × 5 columns</p>\n",
       "</div>"
      ],
      "text/plain": [
       "         CoinName    Algorithm ProofType  TotalCoinsMined TotalCoinSupply\n",
       "Name                                                                     \n",
       "42        42 Coin       Scrypt   PoW/PoS     4.199995e+01              42\n",
       "365       365Coin          X11   PoW/PoS              NaN      2300000000\n",
       "404       404Coin       Scrypt   PoW/PoS     1.055185e+09       532000000\n",
       "611     SixEleven      SHA-256       PoW              NaN          611000\n",
       "808           808      SHA-256   PoW/PoS     0.000000e+00               0\n",
       "...           ...          ...       ...              ...             ...\n",
       "SERO   Super Zero       Ethash       PoW              NaN      1000000000\n",
       "UOS           UOS      SHA-256      DPoI              NaN      1000000000\n",
       "BDX        Beldex  CryptoNight       PoW     9.802226e+08      1400222610\n",
       "ZEN       Horizen     Equihash       PoW     7.296538e+06        21000000\n",
       "XBC   BitcoinPlus       Scrypt       PoS     1.283270e+05         1000000\n",
       "\n",
       "[1144 rows x 5 columns]"
      ]
     },
     "execution_count": 96,
     "metadata": {},
     "output_type": "execute_result"
    }
   ],
   "source": [
    "# Remove the \"IsTrading\" column. \n",
    "df = df.drop(columns = [\"IsTrading\"])\n",
    "df"
   ]
  },
  {
   "cell_type": "code",
   "execution_count": 119,
   "metadata": {},
   "outputs": [
    {
     "data": {
      "text/html": [
       "<div>\n",
       "<style scoped>\n",
       "    .dataframe tbody tr th:only-of-type {\n",
       "        vertical-align: middle;\n",
       "    }\n",
       "\n",
       "    .dataframe tbody tr th {\n",
       "        vertical-align: top;\n",
       "    }\n",
       "\n",
       "    .dataframe thead th {\n",
       "        text-align: right;\n",
       "    }\n",
       "</style>\n",
       "<table border=\"1\" class=\"dataframe\">\n",
       "  <thead>\n",
       "    <tr style=\"text-align: right;\">\n",
       "      <th></th>\n",
       "      <th>Algorithm</th>\n",
       "      <th>ProofType</th>\n",
       "      <th>TotalCoinsMined</th>\n",
       "      <th>TotalCoinSupply</th>\n",
       "    </tr>\n",
       "    <tr>\n",
       "      <th>Name</th>\n",
       "      <th></th>\n",
       "      <th></th>\n",
       "      <th></th>\n",
       "      <th></th>\n",
       "    </tr>\n",
       "  </thead>\n",
       "  <tbody>\n",
       "    <tr>\n",
       "      <th>42</th>\n",
       "      <td>Scrypt</td>\n",
       "      <td>PoW/PoS</td>\n",
       "      <td>4.199995e+01</td>\n",
       "      <td>42</td>\n",
       "    </tr>\n",
       "    <tr>\n",
       "      <th>404</th>\n",
       "      <td>Scrypt</td>\n",
       "      <td>PoW/PoS</td>\n",
       "      <td>1.055185e+09</td>\n",
       "      <td>532000000</td>\n",
       "    </tr>\n",
       "    <tr>\n",
       "      <th>1337</th>\n",
       "      <td>X13</td>\n",
       "      <td>PoW/PoS</td>\n",
       "      <td>2.927942e+10</td>\n",
       "      <td>3.14159E+11</td>\n",
       "    </tr>\n",
       "    <tr>\n",
       "      <th>BTC</th>\n",
       "      <td>SHA-256</td>\n",
       "      <td>PoW</td>\n",
       "      <td>1.792718e+07</td>\n",
       "      <td>21000000</td>\n",
       "    </tr>\n",
       "    <tr>\n",
       "      <th>ETH</th>\n",
       "      <td>Ethash</td>\n",
       "      <td>PoW</td>\n",
       "      <td>1.076842e+08</td>\n",
       "      <td>0</td>\n",
       "    </tr>\n",
       "    <tr>\n",
       "      <th>...</th>\n",
       "      <td>...</td>\n",
       "      <td>...</td>\n",
       "      <td>...</td>\n",
       "      <td>...</td>\n",
       "    </tr>\n",
       "    <tr>\n",
       "      <th>ZEPH</th>\n",
       "      <td>SHA-256</td>\n",
       "      <td>DPoS</td>\n",
       "      <td>2.000000e+09</td>\n",
       "      <td>2000000000</td>\n",
       "    </tr>\n",
       "    <tr>\n",
       "      <th>GAP</th>\n",
       "      <td>Scrypt</td>\n",
       "      <td>PoW/PoS</td>\n",
       "      <td>1.493105e+07</td>\n",
       "      <td>250000000</td>\n",
       "    </tr>\n",
       "    <tr>\n",
       "      <th>BDX</th>\n",
       "      <td>CryptoNight</td>\n",
       "      <td>PoW</td>\n",
       "      <td>9.802226e+08</td>\n",
       "      <td>1400222610</td>\n",
       "    </tr>\n",
       "    <tr>\n",
       "      <th>ZEN</th>\n",
       "      <td>Equihash</td>\n",
       "      <td>PoW</td>\n",
       "      <td>7.296538e+06</td>\n",
       "      <td>21000000</td>\n",
       "    </tr>\n",
       "    <tr>\n",
       "      <th>XBC</th>\n",
       "      <td>Scrypt</td>\n",
       "      <td>PoS</td>\n",
       "      <td>1.283270e+05</td>\n",
       "      <td>1000000</td>\n",
       "    </tr>\n",
       "  </tbody>\n",
       "</table>\n",
       "<p>532 rows × 4 columns</p>\n",
       "</div>"
      ],
      "text/plain": [
       "        Algorithm ProofType  TotalCoinsMined TotalCoinSupply\n",
       "Name                                                        \n",
       "42         Scrypt   PoW/PoS     4.199995e+01              42\n",
       "404        Scrypt   PoW/PoS     1.055185e+09       532000000\n",
       "1337          X13   PoW/PoS     2.927942e+10     3.14159E+11\n",
       "BTC       SHA-256       PoW     1.792718e+07        21000000\n",
       "ETH        Ethash       PoW     1.076842e+08               0\n",
       "...           ...       ...              ...             ...\n",
       "ZEPH      SHA-256      DPoS     2.000000e+09      2000000000\n",
       "GAP        Scrypt   PoW/PoS     1.493105e+07       250000000\n",
       "BDX   CryptoNight       PoW     9.802226e+08      1400222610\n",
       "ZEN      Equihash       PoW     7.296538e+06        21000000\n",
       "XBC        Scrypt       PoS     1.283270e+05         1000000\n",
       "\n",
       "[532 rows x 4 columns]"
      ]
     },
     "execution_count": 119,
     "metadata": {},
     "output_type": "execute_result"
    }
   ],
   "source": [
    "# Remove rows that have at least 1 null value.\n",
    "df = df.dropna()\n",
    "df"
   ]
  },
  {
   "cell_type": "code",
   "execution_count": 120,
   "metadata": {},
   "outputs": [
    {
     "data": {
      "text/html": [
       "<div>\n",
       "<style scoped>\n",
       "    .dataframe tbody tr th:only-of-type {\n",
       "        vertical-align: middle;\n",
       "    }\n",
       "\n",
       "    .dataframe tbody tr th {\n",
       "        vertical-align: top;\n",
       "    }\n",
       "\n",
       "    .dataframe thead th {\n",
       "        text-align: right;\n",
       "    }\n",
       "</style>\n",
       "<table border=\"1\" class=\"dataframe\">\n",
       "  <thead>\n",
       "    <tr style=\"text-align: right;\">\n",
       "      <th></th>\n",
       "      <th>Algorithm</th>\n",
       "      <th>ProofType</th>\n",
       "      <th>TotalCoinsMined</th>\n",
       "      <th>TotalCoinSupply</th>\n",
       "    </tr>\n",
       "    <tr>\n",
       "      <th>Name</th>\n",
       "      <th></th>\n",
       "      <th></th>\n",
       "      <th></th>\n",
       "      <th></th>\n",
       "    </tr>\n",
       "  </thead>\n",
       "  <tbody>\n",
       "    <tr>\n",
       "      <th>42</th>\n",
       "      <td>Scrypt</td>\n",
       "      <td>PoW/PoS</td>\n",
       "      <td>4.199995e+01</td>\n",
       "      <td>42</td>\n",
       "    </tr>\n",
       "    <tr>\n",
       "      <th>404</th>\n",
       "      <td>Scrypt</td>\n",
       "      <td>PoW/PoS</td>\n",
       "      <td>1.055185e+09</td>\n",
       "      <td>532000000</td>\n",
       "    </tr>\n",
       "    <tr>\n",
       "      <th>1337</th>\n",
       "      <td>X13</td>\n",
       "      <td>PoW/PoS</td>\n",
       "      <td>2.927942e+10</td>\n",
       "      <td>3.14159E+11</td>\n",
       "    </tr>\n",
       "    <tr>\n",
       "      <th>BTC</th>\n",
       "      <td>SHA-256</td>\n",
       "      <td>PoW</td>\n",
       "      <td>1.792718e+07</td>\n",
       "      <td>21000000</td>\n",
       "    </tr>\n",
       "    <tr>\n",
       "      <th>ETH</th>\n",
       "      <td>Ethash</td>\n",
       "      <td>PoW</td>\n",
       "      <td>1.076842e+08</td>\n",
       "      <td>0</td>\n",
       "    </tr>\n",
       "    <tr>\n",
       "      <th>...</th>\n",
       "      <td>...</td>\n",
       "      <td>...</td>\n",
       "      <td>...</td>\n",
       "      <td>...</td>\n",
       "    </tr>\n",
       "    <tr>\n",
       "      <th>ZEPH</th>\n",
       "      <td>SHA-256</td>\n",
       "      <td>DPoS</td>\n",
       "      <td>2.000000e+09</td>\n",
       "      <td>2000000000</td>\n",
       "    </tr>\n",
       "    <tr>\n",
       "      <th>GAP</th>\n",
       "      <td>Scrypt</td>\n",
       "      <td>PoW/PoS</td>\n",
       "      <td>1.493105e+07</td>\n",
       "      <td>250000000</td>\n",
       "    </tr>\n",
       "    <tr>\n",
       "      <th>BDX</th>\n",
       "      <td>CryptoNight</td>\n",
       "      <td>PoW</td>\n",
       "      <td>9.802226e+08</td>\n",
       "      <td>1400222610</td>\n",
       "    </tr>\n",
       "    <tr>\n",
       "      <th>ZEN</th>\n",
       "      <td>Equihash</td>\n",
       "      <td>PoW</td>\n",
       "      <td>7.296538e+06</td>\n",
       "      <td>21000000</td>\n",
       "    </tr>\n",
       "    <tr>\n",
       "      <th>XBC</th>\n",
       "      <td>Scrypt</td>\n",
       "      <td>PoS</td>\n",
       "      <td>1.283270e+05</td>\n",
       "      <td>1000000</td>\n",
       "    </tr>\n",
       "  </tbody>\n",
       "</table>\n",
       "<p>532 rows × 4 columns</p>\n",
       "</div>"
      ],
      "text/plain": [
       "        Algorithm ProofType  TotalCoinsMined TotalCoinSupply\n",
       "Name                                                        \n",
       "42         Scrypt   PoW/PoS     4.199995e+01              42\n",
       "404        Scrypt   PoW/PoS     1.055185e+09       532000000\n",
       "1337          X13   PoW/PoS     2.927942e+10     3.14159E+11\n",
       "BTC       SHA-256       PoW     1.792718e+07        21000000\n",
       "ETH        Ethash       PoW     1.076842e+08               0\n",
       "...           ...       ...              ...             ...\n",
       "ZEPH      SHA-256      DPoS     2.000000e+09      2000000000\n",
       "GAP        Scrypt   PoW/PoS     1.493105e+07       250000000\n",
       "BDX   CryptoNight       PoW     9.802226e+08      1400222610\n",
       "ZEN      Equihash       PoW     7.296538e+06        21000000\n",
       "XBC        Scrypt       PoS     1.283270e+05         1000000\n",
       "\n",
       "[532 rows x 4 columns]"
      ]
     },
     "execution_count": 120,
     "metadata": {},
     "output_type": "execute_result"
    }
   ],
   "source": [
    "# Keep the rows where coins are mined.\n",
    "df = df[df[\"TotalCoinsMined\"] > 0]\n",
    "df"
   ]
  },
  {
   "cell_type": "code",
   "execution_count": 99,
   "metadata": {},
   "outputs": [
    {
     "data": {
      "text/plain": [
       "Name\n",
       "42        42 Coin\n",
       "404       404Coin\n",
       "1337    EliteCoin\n",
       "BTC       Bitcoin\n",
       "ETH      Ethereum\n",
       "Name: CoinName, dtype: object"
      ]
     },
     "execution_count": 99,
     "metadata": {},
     "output_type": "execute_result"
    }
   ],
   "source": [
    "df_CoinName =df[\"CoinName\"]\n",
    "df_CoinName.head()"
   ]
  },
  {
   "cell_type": "code",
   "execution_count": 100,
   "metadata": {},
   "outputs": [
    {
     "data": {
      "text/plain": [
       "Index(['42', '404', '1337', 'BTC', 'ETH', 'LTC', 'DASH', 'XMR', 'ETC', 'ZEC',\n",
       "       ...\n",
       "       'TCH', 'WAVES', 'PART', 'BTT', 'NXT', 'ZEPH', 'GAP', 'BDX', 'ZEN',\n",
       "       'XBC'],\n",
       "      dtype='object', name='Name', length=532)"
      ]
     },
     "execution_count": 100,
     "metadata": {},
     "output_type": "execute_result"
    }
   ],
   "source": [
    "# Create a new DataFrame that holds only the cryptocurrencies names.\n",
    "CryptoNames = df.index\n",
    "CryptoNames"
   ]
  },
  {
   "cell_type": "code",
   "execution_count": 122,
   "metadata": {
    "scrolled": true
   },
   "outputs": [
    {
     "data": {
      "text/html": [
       "<div>\n",
       "<style scoped>\n",
       "    .dataframe tbody tr th:only-of-type {\n",
       "        vertical-align: middle;\n",
       "    }\n",
       "\n",
       "    .dataframe tbody tr th {\n",
       "        vertical-align: top;\n",
       "    }\n",
       "\n",
       "    .dataframe thead th {\n",
       "        text-align: right;\n",
       "    }\n",
       "</style>\n",
       "<table border=\"1\" class=\"dataframe\">\n",
       "  <thead>\n",
       "    <tr style=\"text-align: right;\">\n",
       "      <th></th>\n",
       "      <th>Algorithm</th>\n",
       "      <th>ProofType</th>\n",
       "      <th>TotalCoinsMined</th>\n",
       "      <th>TotalCoinSupply</th>\n",
       "    </tr>\n",
       "    <tr>\n",
       "      <th>Name</th>\n",
       "      <th></th>\n",
       "      <th></th>\n",
       "      <th></th>\n",
       "      <th></th>\n",
       "    </tr>\n",
       "  </thead>\n",
       "  <tbody>\n",
       "    <tr>\n",
       "      <th>42</th>\n",
       "      <td>Scrypt</td>\n",
       "      <td>PoW/PoS</td>\n",
       "      <td>4.199995e+01</td>\n",
       "      <td>42</td>\n",
       "    </tr>\n",
       "    <tr>\n",
       "      <th>404</th>\n",
       "      <td>Scrypt</td>\n",
       "      <td>PoW/PoS</td>\n",
       "      <td>1.055185e+09</td>\n",
       "      <td>532000000</td>\n",
       "    </tr>\n",
       "    <tr>\n",
       "      <th>1337</th>\n",
       "      <td>X13</td>\n",
       "      <td>PoW/PoS</td>\n",
       "      <td>2.927942e+10</td>\n",
       "      <td>3.14159E+11</td>\n",
       "    </tr>\n",
       "    <tr>\n",
       "      <th>BTC</th>\n",
       "      <td>SHA-256</td>\n",
       "      <td>PoW</td>\n",
       "      <td>1.792718e+07</td>\n",
       "      <td>21000000</td>\n",
       "    </tr>\n",
       "    <tr>\n",
       "      <th>ETH</th>\n",
       "      <td>Ethash</td>\n",
       "      <td>PoW</td>\n",
       "      <td>1.076842e+08</td>\n",
       "      <td>0</td>\n",
       "    </tr>\n",
       "  </tbody>\n",
       "</table>\n",
       "</div>"
      ],
      "text/plain": [
       "     Algorithm ProofType  TotalCoinsMined TotalCoinSupply\n",
       "Name                                                     \n",
       "42      Scrypt   PoW/PoS     4.199995e+01              42\n",
       "404     Scrypt   PoW/PoS     1.055185e+09       532000000\n",
       "1337       X13   PoW/PoS     2.927942e+10     3.14159E+11\n",
       "BTC    SHA-256       PoW     1.792718e+07        21000000\n",
       "ETH     Ethash       PoW     1.076842e+08               0"
      ]
     },
     "execution_count": 122,
     "metadata": {},
     "output_type": "execute_result"
    }
   ],
   "source": [
    "# Drop the 'CoinName' column since it's not going to be used on the clustering algorithm.\n",
    "df = df.drop(columns = [\"CoinName\"])\n",
    "df.head()\n"
   ]
  },
  {
   "cell_type": "code",
   "execution_count": 102,
   "metadata": {},
   "outputs": [
    {
     "data": {
      "text/html": [
       "<div>\n",
       "<style scoped>\n",
       "    .dataframe tbody tr th:only-of-type {\n",
       "        vertical-align: middle;\n",
       "    }\n",
       "\n",
       "    .dataframe tbody tr th {\n",
       "        vertical-align: top;\n",
       "    }\n",
       "\n",
       "    .dataframe thead th {\n",
       "        text-align: right;\n",
       "    }\n",
       "</style>\n",
       "<table border=\"1\" class=\"dataframe\">\n",
       "  <thead>\n",
       "    <tr style=\"text-align: right;\">\n",
       "      <th></th>\n",
       "      <th>TotalCoinsMined</th>\n",
       "      <th>TotalCoinSupply</th>\n",
       "      <th>Algorithm_1GB AES Pattern Search</th>\n",
       "      <th>Algorithm_536</th>\n",
       "      <th>Algorithm_Argon2d</th>\n",
       "      <th>Algorithm_BLAKE256</th>\n",
       "      <th>Algorithm_Blake</th>\n",
       "      <th>Algorithm_Blake2S</th>\n",
       "      <th>Algorithm_Blake2b</th>\n",
       "      <th>Algorithm_C11</th>\n",
       "      <th>...</th>\n",
       "      <th>ProofType_PoW/PoS</th>\n",
       "      <th>ProofType_PoW/PoS</th>\n",
       "      <th>ProofType_PoW/PoW</th>\n",
       "      <th>ProofType_PoW/nPoS</th>\n",
       "      <th>ProofType_Pos</th>\n",
       "      <th>ProofType_Proof of Authority</th>\n",
       "      <th>ProofType_Proof of Trust</th>\n",
       "      <th>ProofType_TPoS</th>\n",
       "      <th>ProofType_Zero-Knowledge Proof</th>\n",
       "      <th>ProofType_dPoW/PoW</th>\n",
       "    </tr>\n",
       "    <tr>\n",
       "      <th>Name</th>\n",
       "      <th></th>\n",
       "      <th></th>\n",
       "      <th></th>\n",
       "      <th></th>\n",
       "      <th></th>\n",
       "      <th></th>\n",
       "      <th></th>\n",
       "      <th></th>\n",
       "      <th></th>\n",
       "      <th></th>\n",
       "      <th></th>\n",
       "      <th></th>\n",
       "      <th></th>\n",
       "      <th></th>\n",
       "      <th></th>\n",
       "      <th></th>\n",
       "      <th></th>\n",
       "      <th></th>\n",
       "      <th></th>\n",
       "      <th></th>\n",
       "      <th></th>\n",
       "    </tr>\n",
       "  </thead>\n",
       "  <tbody>\n",
       "    <tr>\n",
       "      <th>42</th>\n",
       "      <td>4.199995e+01</td>\n",
       "      <td>42</td>\n",
       "      <td>0</td>\n",
       "      <td>0</td>\n",
       "      <td>0</td>\n",
       "      <td>0</td>\n",
       "      <td>0</td>\n",
       "      <td>0</td>\n",
       "      <td>0</td>\n",
       "      <td>0</td>\n",
       "      <td>...</td>\n",
       "      <td>1</td>\n",
       "      <td>0</td>\n",
       "      <td>0</td>\n",
       "      <td>0</td>\n",
       "      <td>0</td>\n",
       "      <td>0</td>\n",
       "      <td>0</td>\n",
       "      <td>0</td>\n",
       "      <td>0</td>\n",
       "      <td>0</td>\n",
       "    </tr>\n",
       "    <tr>\n",
       "      <th>404</th>\n",
       "      <td>1.055185e+09</td>\n",
       "      <td>532000000</td>\n",
       "      <td>0</td>\n",
       "      <td>0</td>\n",
       "      <td>0</td>\n",
       "      <td>0</td>\n",
       "      <td>0</td>\n",
       "      <td>0</td>\n",
       "      <td>0</td>\n",
       "      <td>0</td>\n",
       "      <td>...</td>\n",
       "      <td>1</td>\n",
       "      <td>0</td>\n",
       "      <td>0</td>\n",
       "      <td>0</td>\n",
       "      <td>0</td>\n",
       "      <td>0</td>\n",
       "      <td>0</td>\n",
       "      <td>0</td>\n",
       "      <td>0</td>\n",
       "      <td>0</td>\n",
       "    </tr>\n",
       "    <tr>\n",
       "      <th>1337</th>\n",
       "      <td>2.927942e+10</td>\n",
       "      <td>3.14159E+11</td>\n",
       "      <td>0</td>\n",
       "      <td>0</td>\n",
       "      <td>0</td>\n",
       "      <td>0</td>\n",
       "      <td>0</td>\n",
       "      <td>0</td>\n",
       "      <td>0</td>\n",
       "      <td>0</td>\n",
       "      <td>...</td>\n",
       "      <td>1</td>\n",
       "      <td>0</td>\n",
       "      <td>0</td>\n",
       "      <td>0</td>\n",
       "      <td>0</td>\n",
       "      <td>0</td>\n",
       "      <td>0</td>\n",
       "      <td>0</td>\n",
       "      <td>0</td>\n",
       "      <td>0</td>\n",
       "    </tr>\n",
       "    <tr>\n",
       "      <th>BTC</th>\n",
       "      <td>1.792718e+07</td>\n",
       "      <td>21000000</td>\n",
       "      <td>0</td>\n",
       "      <td>0</td>\n",
       "      <td>0</td>\n",
       "      <td>0</td>\n",
       "      <td>0</td>\n",
       "      <td>0</td>\n",
       "      <td>0</td>\n",
       "      <td>0</td>\n",
       "      <td>...</td>\n",
       "      <td>0</td>\n",
       "      <td>0</td>\n",
       "      <td>0</td>\n",
       "      <td>0</td>\n",
       "      <td>0</td>\n",
       "      <td>0</td>\n",
       "      <td>0</td>\n",
       "      <td>0</td>\n",
       "      <td>0</td>\n",
       "      <td>0</td>\n",
       "    </tr>\n",
       "    <tr>\n",
       "      <th>ETH</th>\n",
       "      <td>1.076842e+08</td>\n",
       "      <td>0</td>\n",
       "      <td>0</td>\n",
       "      <td>0</td>\n",
       "      <td>0</td>\n",
       "      <td>0</td>\n",
       "      <td>0</td>\n",
       "      <td>0</td>\n",
       "      <td>0</td>\n",
       "      <td>0</td>\n",
       "      <td>...</td>\n",
       "      <td>0</td>\n",
       "      <td>0</td>\n",
       "      <td>0</td>\n",
       "      <td>0</td>\n",
       "      <td>0</td>\n",
       "      <td>0</td>\n",
       "      <td>0</td>\n",
       "      <td>0</td>\n",
       "      <td>0</td>\n",
       "      <td>0</td>\n",
       "    </tr>\n",
       "  </tbody>\n",
       "</table>\n",
       "<p>5 rows × 98 columns</p>\n",
       "</div>"
      ],
      "text/plain": [
       "      TotalCoinsMined TotalCoinSupply  Algorithm_1GB AES Pattern Search  \\\n",
       "Name                                                                      \n",
       "42       4.199995e+01              42                                 0   \n",
       "404      1.055185e+09       532000000                                 0   \n",
       "1337     2.927942e+10     3.14159E+11                                 0   \n",
       "BTC      1.792718e+07        21000000                                 0   \n",
       "ETH      1.076842e+08               0                                 0   \n",
       "\n",
       "      Algorithm_536  Algorithm_Argon2d  Algorithm_BLAKE256  Algorithm_Blake  \\\n",
       "Name                                                                          \n",
       "42                0                  0                   0                0   \n",
       "404               0                  0                   0                0   \n",
       "1337              0                  0                   0                0   \n",
       "BTC               0                  0                   0                0   \n",
       "ETH               0                  0                   0                0   \n",
       "\n",
       "      Algorithm_Blake2S  Algorithm_Blake2b  Algorithm_C11  ...  \\\n",
       "Name                                                       ...   \n",
       "42                    0                  0              0  ...   \n",
       "404                   0                  0              0  ...   \n",
       "1337                  0                  0              0  ...   \n",
       "BTC                   0                  0              0  ...   \n",
       "ETH                   0                  0              0  ...   \n",
       "\n",
       "      ProofType_PoW/PoS  ProofType_PoW/PoS   ProofType_PoW/PoW  \\\n",
       "Name                                                             \n",
       "42                    1                   0                  0   \n",
       "404                   1                   0                  0   \n",
       "1337                  1                   0                  0   \n",
       "BTC                   0                   0                  0   \n",
       "ETH                   0                   0                  0   \n",
       "\n",
       "      ProofType_PoW/nPoS  ProofType_Pos  ProofType_Proof of Authority  \\\n",
       "Name                                                                    \n",
       "42                     0              0                             0   \n",
       "404                    0              0                             0   \n",
       "1337                   0              0                             0   \n",
       "BTC                    0              0                             0   \n",
       "ETH                    0              0                             0   \n",
       "\n",
       "      ProofType_Proof of Trust  ProofType_TPoS  \\\n",
       "Name                                             \n",
       "42                           0               0   \n",
       "404                          0               0   \n",
       "1337                         0               0   \n",
       "BTC                          0               0   \n",
       "ETH                          0               0   \n",
       "\n",
       "      ProofType_Zero-Knowledge Proof  ProofType_dPoW/PoW  \n",
       "Name                                                      \n",
       "42                                 0                   0  \n",
       "404                                0                   0  \n",
       "1337                               0                   0  \n",
       "BTC                                0                   0  \n",
       "ETH                                0                   0  \n",
       "\n",
       "[5 rows x 98 columns]"
      ]
     },
     "execution_count": 102,
     "metadata": {},
     "output_type": "execute_result"
    }
   ],
   "source": [
    "# Use get_dummies() to create variables for text features.\n",
    "X = pd.get_dummies(df, columns=[\"Algorithm\", \"ProofType\"])\n",
    "\n",
    "X.head()"
   ]
  },
  {
   "cell_type": "code",
   "execution_count": 103,
   "metadata": {},
   "outputs": [
    {
     "name": "stdout",
     "output_type": "stream",
     "text": [
      "[[-0.11710816 -0.15287029 -0.0433963  -0.0433963  -0.0433963  -0.06142951\n",
      "  -0.07530656 -0.0433963  -0.06142951 -0.06142951 -0.0433963  -0.0433963\n",
      "  -0.19245009 -0.06142951 -0.09740465 -0.0433963  -0.11547005 -0.07530656\n",
      "  -0.0433963  -0.0433963  -0.15191091 -0.0433963  -0.13118084 -0.0433963\n",
      "  -0.0433963  -0.08703883 -0.0433963  -0.0433963  -0.0433963  -0.0433963\n",
      "  -0.06142951 -0.0433963  -0.08703883 -0.08703883 -0.08703883 -0.0433963\n",
      "  -0.13118084 -0.13840913 -0.13840913 -0.0433963  -0.06142951 -0.0433963\n",
      "  -0.07530656 -0.18168574 -0.0433963  -0.0433963  -0.0433963  -0.07530656\n",
      "  -0.15826614 -0.31491833 -0.0433963  -0.08703883 -0.07530656 -0.06142951\n",
      "   1.38675049 -0.0433963  -0.0433963  -0.06142951 -0.0433963  -0.0433963\n",
      "  -0.0433963  -0.0433963  -0.0433963  -0.0433963  -0.0433963  -0.0433963\n",
      "  -0.39879994 -0.0433963  -0.18168574 -0.0433963  -0.08703883 -0.08703883\n",
      "  -0.10680283 -0.0433963  -0.13118084 -0.0433963  -0.0433963  -0.0433963\n",
      "  -0.0433963  -0.07530656 -0.43911856 -0.0433963  -0.06142951 -0.0433963\n",
      "  -0.0433963  -0.89632016 -0.0433963  -0.0433963   1.42222617 -0.0433963\n",
      "  -0.0433963  -0.0433963  -0.0433963  -0.0433963  -0.0433963  -0.0433963\n",
      "  -0.0433963  -0.0433963 ]\n",
      " [-0.09396955 -0.14500899 -0.0433963  -0.0433963  -0.0433963  -0.06142951\n",
      "  -0.07530656 -0.0433963  -0.06142951 -0.06142951 -0.0433963  -0.0433963\n",
      "  -0.19245009 -0.06142951 -0.09740465 -0.0433963  -0.11547005 -0.07530656\n",
      "  -0.0433963  -0.0433963  -0.15191091 -0.0433963  -0.13118084 -0.0433963\n",
      "  -0.0433963  -0.08703883 -0.0433963  -0.0433963  -0.0433963  -0.0433963\n",
      "  -0.06142951 -0.0433963  -0.08703883 -0.08703883 -0.08703883 -0.0433963\n",
      "  -0.13118084 -0.13840913 -0.13840913 -0.0433963  -0.06142951 -0.0433963\n",
      "  -0.07530656 -0.18168574 -0.0433963  -0.0433963  -0.0433963  -0.07530656\n",
      "  -0.15826614 -0.31491833 -0.0433963  -0.08703883 -0.07530656 -0.06142951\n",
      "   1.38675049 -0.0433963  -0.0433963  -0.06142951 -0.0433963  -0.0433963\n",
      "  -0.0433963  -0.0433963  -0.0433963  -0.0433963  -0.0433963  -0.0433963\n",
      "  -0.39879994 -0.0433963  -0.18168574 -0.0433963  -0.08703883 -0.08703883\n",
      "  -0.10680283 -0.0433963  -0.13118084 -0.0433963  -0.0433963  -0.0433963\n",
      "  -0.0433963  -0.07530656 -0.43911856 -0.0433963  -0.06142951 -0.0433963\n",
      "  -0.0433963  -0.89632016 -0.0433963  -0.0433963   1.42222617 -0.0433963\n",
      "  -0.0433963  -0.0433963  -0.0433963  -0.0433963  -0.0433963  -0.0433963\n",
      "  -0.0433963  -0.0433963 ]]\n"
     ]
    }
   ],
   "source": [
    "# Standardize the data with StandardScaler().\n",
    "X_scaled = StandardScaler().fit_transform(X)\n",
    "print(X_scaled[0:2])\n"
   ]
  },
  {
   "cell_type": "markdown",
   "metadata": {},
   "source": [
    "### Deliverable 2: Reducing Data Dimensions Using PCA"
   ]
  },
  {
   "cell_type": "code",
   "execution_count": 104,
   "metadata": {},
   "outputs": [],
   "source": [
    "# Using PCA to reduce dimension to three principal components.\n",
    "#initialize a PCA model \n",
    "pca = PCA(n_components=3)\n",
    "\n",
    "#get 3 principal components \n",
    "X_pca = pca.fit_transform(X_scaled)"
   ]
  },
  {
   "cell_type": "code",
   "execution_count": 105,
   "metadata": {},
   "outputs": [
    {
     "data": {
      "text/html": [
       "<div>\n",
       "<style scoped>\n",
       "    .dataframe tbody tr th:only-of-type {\n",
       "        vertical-align: middle;\n",
       "    }\n",
       "\n",
       "    .dataframe tbody tr th {\n",
       "        vertical-align: top;\n",
       "    }\n",
       "\n",
       "    .dataframe thead th {\n",
       "        text-align: right;\n",
       "    }\n",
       "</style>\n",
       "<table border=\"1\" class=\"dataframe\">\n",
       "  <thead>\n",
       "    <tr style=\"text-align: right;\">\n",
       "      <th></th>\n",
       "      <th>PC1</th>\n",
       "      <th>PC2</th>\n",
       "      <th>PC3</th>\n",
       "    </tr>\n",
       "    <tr>\n",
       "      <th>Name</th>\n",
       "      <th></th>\n",
       "      <th></th>\n",
       "      <th></th>\n",
       "    </tr>\n",
       "  </thead>\n",
       "  <tbody>\n",
       "    <tr>\n",
       "      <th>42</th>\n",
       "      <td>-0.340240</td>\n",
       "      <td>0.984728</td>\n",
       "      <td>-0.573656</td>\n",
       "    </tr>\n",
       "    <tr>\n",
       "      <th>404</th>\n",
       "      <td>-0.323582</td>\n",
       "      <td>0.984806</td>\n",
       "      <td>-0.574071</td>\n",
       "    </tr>\n",
       "    <tr>\n",
       "      <th>1337</th>\n",
       "      <td>2.294462</td>\n",
       "      <td>1.573018</td>\n",
       "      <td>-0.723921</td>\n",
       "    </tr>\n",
       "    <tr>\n",
       "      <th>BTC</th>\n",
       "      <td>-0.139392</td>\n",
       "      <td>-1.365181</td>\n",
       "      <td>0.158454</td>\n",
       "    </tr>\n",
       "    <tr>\n",
       "      <th>ETH</th>\n",
       "      <td>-0.143906</td>\n",
       "      <td>-2.038238</td>\n",
       "      <td>0.433191</td>\n",
       "    </tr>\n",
       "    <tr>\n",
       "      <th>...</th>\n",
       "      <td>...</td>\n",
       "      <td>...</td>\n",
       "      <td>...</td>\n",
       "    </tr>\n",
       "    <tr>\n",
       "      <th>ZEPH</th>\n",
       "      <td>2.478768</td>\n",
       "      <td>0.790086</td>\n",
       "      <td>-0.100865</td>\n",
       "    </tr>\n",
       "    <tr>\n",
       "      <th>GAP</th>\n",
       "      <td>-0.338286</td>\n",
       "      <td>0.984608</td>\n",
       "      <td>-0.573684</td>\n",
       "    </tr>\n",
       "    <tr>\n",
       "      <th>BDX</th>\n",
       "      <td>0.327426</td>\n",
       "      <td>-2.298078</td>\n",
       "      <td>0.407649</td>\n",
       "    </tr>\n",
       "    <tr>\n",
       "      <th>ZEN</th>\n",
       "      <td>-0.145149</td>\n",
       "      <td>-2.022417</td>\n",
       "      <td>0.398572</td>\n",
       "    </tr>\n",
       "    <tr>\n",
       "      <th>XBC</th>\n",
       "      <td>-0.287554</td>\n",
       "      <td>0.853938</td>\n",
       "      <td>-0.266942</td>\n",
       "    </tr>\n",
       "  </tbody>\n",
       "</table>\n",
       "<p>532 rows × 3 columns</p>\n",
       "</div>"
      ],
      "text/plain": [
       "           PC1       PC2       PC3\n",
       "Name                              \n",
       "42   -0.340240  0.984728 -0.573656\n",
       "404  -0.323582  0.984806 -0.574071\n",
       "1337  2.294462  1.573018 -0.723921\n",
       "BTC  -0.139392 -1.365181  0.158454\n",
       "ETH  -0.143906 -2.038238  0.433191\n",
       "...        ...       ...       ...\n",
       "ZEPH  2.478768  0.790086 -0.100865\n",
       "GAP  -0.338286  0.984608 -0.573684\n",
       "BDX   0.327426 -2.298078  0.407649\n",
       "ZEN  -0.145149 -2.022417  0.398572\n",
       "XBC  -0.287554  0.853938 -0.266942\n",
       "\n",
       "[532 rows x 3 columns]"
      ]
     },
     "execution_count": 105,
     "metadata": {},
     "output_type": "execute_result"
    }
   ],
   "source": [
    "# Create a DataFrame with the three principal components.\n",
    "#transform PCA data to DF\n",
    "df_X_pca = pd.DataFrame(data= X_pca, columns = \n",
    "                           [\"PC1\", \"PC2\", \"PC3\"], index = df.index)\n",
    "\n",
    "df_X_pca"
   ]
  },
  {
   "cell_type": "code",
   "execution_count": 106,
   "metadata": {},
   "outputs": [
    {
     "data": {
      "text/plain": [
       "array([0.0279313 , 0.02138738, 0.02050814])"
      ]
     },
     "execution_count": 106,
     "metadata": {},
     "output_type": "execute_result"
    }
   ],
   "source": [
    "pca.explained_variance_ratio_"
   ]
  },
  {
   "cell_type": "markdown",
   "metadata": {},
   "source": [
    "### Deliverable 3: Clustering Crytocurrencies Using K-Means\n",
    "\n",
    "#### Finding the Best Value for `k` Using the Elbow Curve"
   ]
  },
  {
   "cell_type": "code",
   "execution_count": 107,
   "metadata": {},
   "outputs": [
    {
     "data": {},
     "metadata": {},
     "output_type": "display_data"
    },
    {
     "data": {
      "application/vnd.holoviews_exec.v0+json": "",
      "text/html": [
       "<div id='2438'>\n",
       "\n",
       "\n",
       "\n",
       "\n",
       "\n",
       "  <div class=\"bk-root\" id=\"1a2b40ce-4c06-4b8f-9eca-bf3035ac0316\" data-root-id=\"2438\"></div>\n",
       "</div>\n",
       "<script type=\"application/javascript\">(function(root) {\n",
       "  function embed_document(root) {\n",
       "  var docs_json = {\"3173616d-17b5-44dc-8815-d0d04a3a2c83\":{\"roots\":{\"references\":[{\"attributes\":{},\"id\":\"2487\",\"type\":\"BasicTickFormatter\"},{\"attributes\":{},\"id\":\"2493\",\"type\":\"UnionRenderers\"},{\"attributes\":{},\"id\":\"2448\",\"type\":\"LinearScale\"},{\"attributes\":{\"text\":\"elbow curve\",\"text_color\":{\"value\":\"black\"},\"text_font_size\":{\"value\":\"12pt\"}},\"id\":\"2444\",\"type\":\"Title\"},{\"attributes\":{},\"id\":\"2450\",\"type\":\"LinearScale\"},{\"attributes\":{\"axis\":{\"id\":\"2456\"},\"dimension\":1,\"grid_line_color\":null,\"ticker\":null},\"id\":\"2459\",\"type\":\"Grid\"},{\"attributes\":{},\"id\":\"2460\",\"type\":\"SaveTool\"},{\"attributes\":{},\"id\":\"2461\",\"type\":\"PanTool\"},{\"attributes\":{\"end\":8.0,\"reset_end\":8.0,\"reset_start\":1.0,\"start\":1.0,\"tags\":[[[\"k\",\"k\",null]]]},\"id\":\"2440\",\"type\":\"Range1d\"},{\"attributes\":{},\"id\":\"2462\",\"type\":\"WheelZoomTool\"},{\"attributes\":{\"axis_label\":\"inertia\",\"bounds\":\"auto\",\"formatter\":{\"id\":\"2487\"},\"major_label_orientation\":\"horizontal\",\"ticker\":{\"id\":\"2457\"}},\"id\":\"2456\",\"type\":\"LinearAxis\"},{\"attributes\":{\"overlay\":{\"id\":\"2465\"}},\"id\":\"2463\",\"type\":\"BoxZoomTool\"},{\"attributes\":{\"data\":{\"inertia\":{\"__ndarray__\":\"dzwuS/twrEB041qQNFajQNsvAm7bKpdApbzfVdaEfkCuNwD79GpyQDfXKuRUIG1AZzg6ESzGZkBCs9xux9RhQA==\",\"dtype\":\"float64\",\"order\":\"little\",\"shape\":[8]},\"k\":[1,2,3,4,5,6,7,8]},\"selected\":{\"id\":\"2474\"},\"selection_policy\":{\"id\":\"2493\"}},\"id\":\"2473\",\"type\":\"ColumnDataSource\"},{\"attributes\":{},\"id\":\"2464\",\"type\":\"ResetTool\"},{\"attributes\":{},\"id\":\"2474\",\"type\":\"Selection\"},{\"attributes\":{\"end\":3990.274954267753,\"reset_end\":3990.274954267753,\"reset_start\":-207.13480145485636,\"start\":-207.13480145485636,\"tags\":[[[\"inertia\",\"inertia\",null]]]},\"id\":\"2441\",\"type\":\"Range1d\"},{\"attributes\":{\"active_drag\":\"auto\",\"active_inspect\":\"auto\",\"active_multi\":null,\"active_scroll\":\"auto\",\"active_tap\":\"auto\",\"tools\":[{\"id\":\"2442\"},{\"id\":\"2460\"},{\"id\":\"2461\"},{\"id\":\"2462\"},{\"id\":\"2463\"},{\"id\":\"2464\"}]},\"id\":\"2466\",\"type\":\"Toolbar\"},{\"attributes\":{\"line_alpha\":0.1,\"line_color\":\"#1f77b3\",\"line_width\":2,\"x\":{\"field\":\"k\"},\"y\":{\"field\":\"inertia\"}},\"id\":\"2477\",\"type\":\"Line\"},{\"attributes\":{},\"id\":\"2457\",\"type\":\"BasicTicker\"},{\"attributes\":{\"line_color\":\"#1f77b3\",\"line_width\":2,\"x\":{\"field\":\"k\"},\"y\":{\"field\":\"inertia\"}},\"id\":\"2476\",\"type\":\"Line\"},{\"attributes\":{\"data_source\":{\"id\":\"2473\"},\"glyph\":{\"id\":\"2476\"},\"hover_glyph\":null,\"muted_glyph\":{\"id\":\"2478\"},\"nonselection_glyph\":{\"id\":\"2477\"},\"selection_glyph\":null,\"view\":{\"id\":\"2480\"}},\"id\":\"2479\",\"type\":\"GlyphRenderer\"},{\"attributes\":{\"children\":[{\"id\":\"2439\"},{\"id\":\"2443\"},{\"id\":\"2502\"}],\"margin\":[0,0,0,0],\"name\":\"Row04987\",\"tags\":[\"embedded\"]},\"id\":\"2438\",\"type\":\"Row\"},{\"attributes\":{\"ticks\":[1,2,3,4,5,6,7,8]},\"id\":\"2481\",\"type\":\"FixedTicker\"},{\"attributes\":{\"callback\":null,\"renderers\":[{\"id\":\"2479\"}],\"tags\":[\"hv_created\"],\"tooltips\":[[\"k\",\"@{k}\"],[\"inertia\",\"@{inertia}\"]]},\"id\":\"2442\",\"type\":\"HoverTool\"},{\"attributes\":{\"margin\":[5,5,5,5],\"name\":\"HSpacer04991\",\"sizing_mode\":\"stretch_width\"},\"id\":\"2439\",\"type\":\"Spacer\"},{\"attributes\":{\"below\":[{\"id\":\"2452\"}],\"center\":[{\"id\":\"2455\"},{\"id\":\"2459\"}],\"left\":[{\"id\":\"2456\"}],\"margin\":null,\"min_border_bottom\":10,\"min_border_left\":10,\"min_border_right\":10,\"min_border_top\":10,\"plot_height\":300,\"plot_width\":700,\"renderers\":[{\"id\":\"2479\"}],\"sizing_mode\":\"fixed\",\"title\":{\"id\":\"2444\"},\"toolbar\":{\"id\":\"2466\"},\"x_range\":{\"id\":\"2440\"},\"x_scale\":{\"id\":\"2448\"},\"y_range\":{\"id\":\"2441\"},\"y_scale\":{\"id\":\"2450\"}},\"id\":\"2443\",\"subtype\":\"Figure\",\"type\":\"Plot\"},{\"attributes\":{\"axis\":{\"id\":\"2452\"},\"grid_line_color\":null,\"ticker\":null},\"id\":\"2455\",\"type\":\"Grid\"},{\"attributes\":{\"line_alpha\":0.2,\"line_color\":\"#1f77b3\",\"line_width\":2,\"x\":{\"field\":\"k\"},\"y\":{\"field\":\"inertia\"}},\"id\":\"2478\",\"type\":\"Line\"},{\"attributes\":{\"source\":{\"id\":\"2473\"}},\"id\":\"2480\",\"type\":\"CDSView\"},{\"attributes\":{\"axis_label\":\"k\",\"bounds\":\"auto\",\"formatter\":{\"id\":\"2483\"},\"major_label_orientation\":\"horizontal\",\"ticker\":{\"id\":\"2481\"}},\"id\":\"2452\",\"type\":\"LinearAxis\"},{\"attributes\":{\"margin\":[5,5,5,5],\"name\":\"HSpacer04992\",\"sizing_mode\":\"stretch_width\"},\"id\":\"2502\",\"type\":\"Spacer\"},{\"attributes\":{},\"id\":\"2483\",\"type\":\"BasicTickFormatter\"},{\"attributes\":{\"bottom_units\":\"screen\",\"fill_alpha\":0.5,\"fill_color\":\"lightgrey\",\"left_units\":\"screen\",\"level\":\"overlay\",\"line_alpha\":1.0,\"line_color\":\"black\",\"line_dash\":[4,4],\"line_width\":2,\"right_units\":\"screen\",\"top_units\":\"screen\"},\"id\":\"2465\",\"type\":\"BoxAnnotation\"}],\"root_ids\":[\"2438\"]},\"title\":\"Bokeh Application\",\"version\":\"2.1.1\"}};\n",
       "  var render_items = [{\"docid\":\"3173616d-17b5-44dc-8815-d0d04a3a2c83\",\"root_ids\":[\"2438\"],\"roots\":{\"2438\":\"1a2b40ce-4c06-4b8f-9eca-bf3035ac0316\"}}];\n",
       "  root.Bokeh.embed.embed_items_notebook(docs_json, render_items);\n",
       "  }\n",
       "if (root.Bokeh !== undefined) {\n",
       "    embed_document(root);\n",
       "  } else {\n",
       "    var attempts = 0;\n",
       "    var timer = setInterval(function(root) {\n",
       "      if (root.Bokeh !== undefined) {\n",
       "        clearInterval(timer);\n",
       "        embed_document(root);\n",
       "      } else if (document.readyState == \"complete\") {\n",
       "        attempts++;\n",
       "        if (attempts > 100) {\n",
       "          clearInterval(timer);\n",
       "          console.log(\"Bokeh: ERROR: Unable to run BokehJS code because BokehJS library is missing\");\n",
       "        }\n",
       "      }\n",
       "    }, 10, root)\n",
       "  }\n",
       "})(window);</script>"
      ],
      "text/plain": [
       ":Curve   [k]   (inertia)"
      ]
     },
     "execution_count": 107,
     "metadata": {
      "application/vnd.holoviews_exec.v0+json": {
       "id": "2438"
      }
     },
     "output_type": "execute_result"
    }
   ],
   "source": [
    "#plot elbow curve, calc inertia values\n",
    "inertia = []\n",
    "k = list(range(1, 9))\n",
    "\n",
    "# Calculate the inertia for the range of K values\n",
    "for i in k:\n",
    "   km = KMeans(n_clusters=i, random_state=0)\n",
    "   km.fit(df_X_pca)\n",
    "   inertia.append(km.inertia_)\n",
    "\n",
    "#create plot\n",
    "\n",
    "elbow_data = {\"k\": k, \"inertia\": inertia}\n",
    "\n",
    "df_elbow = pd.DataFrame(elbow_data)\n",
    "df_elbow.hvplot.line(x=\"k\", y = \"inertia\", xticks = k, title = \"elbow curve\")\n",
    "\n",
    "#plt.plot(elbow_data[\"k\"], elbow_data[\"inertia\"])\n",
    "\n"
   ]
  },
  {
   "cell_type": "markdown",
   "metadata": {},
   "source": [
    "Running K-Means with `k=4`"
   ]
  },
  {
   "cell_type": "code",
   "execution_count": 108,
   "metadata": {},
   "outputs": [
    {
     "data": {
      "text/html": [
       "<div>\n",
       "<style scoped>\n",
       "    .dataframe tbody tr th:only-of-type {\n",
       "        vertical-align: middle;\n",
       "    }\n",
       "\n",
       "    .dataframe tbody tr th {\n",
       "        vertical-align: top;\n",
       "    }\n",
       "\n",
       "    .dataframe thead th {\n",
       "        text-align: right;\n",
       "    }\n",
       "</style>\n",
       "<table border=\"1\" class=\"dataframe\">\n",
       "  <thead>\n",
       "    <tr style=\"text-align: right;\">\n",
       "      <th></th>\n",
       "      <th>PC1</th>\n",
       "      <th>PC2</th>\n",
       "      <th>PC3</th>\n",
       "      <th>class</th>\n",
       "    </tr>\n",
       "    <tr>\n",
       "      <th>Name</th>\n",
       "      <th></th>\n",
       "      <th></th>\n",
       "      <th></th>\n",
       "      <th></th>\n",
       "    </tr>\n",
       "  </thead>\n",
       "  <tbody>\n",
       "    <tr>\n",
       "      <th>42</th>\n",
       "      <td>-0.340240</td>\n",
       "      <td>0.984728</td>\n",
       "      <td>-0.573656</td>\n",
       "      <td>0</td>\n",
       "    </tr>\n",
       "    <tr>\n",
       "      <th>404</th>\n",
       "      <td>-0.323582</td>\n",
       "      <td>0.984806</td>\n",
       "      <td>-0.574071</td>\n",
       "      <td>0</td>\n",
       "    </tr>\n",
       "    <tr>\n",
       "      <th>1337</th>\n",
       "      <td>2.294462</td>\n",
       "      <td>1.573018</td>\n",
       "      <td>-0.723921</td>\n",
       "      <td>0</td>\n",
       "    </tr>\n",
       "    <tr>\n",
       "      <th>BTC</th>\n",
       "      <td>-0.139392</td>\n",
       "      <td>-1.365181</td>\n",
       "      <td>0.158454</td>\n",
       "      <td>1</td>\n",
       "    </tr>\n",
       "    <tr>\n",
       "      <th>ETH</th>\n",
       "      <td>-0.143906</td>\n",
       "      <td>-2.038238</td>\n",
       "      <td>0.433191</td>\n",
       "      <td>1</td>\n",
       "    </tr>\n",
       "    <tr>\n",
       "      <th>...</th>\n",
       "      <td>...</td>\n",
       "      <td>...</td>\n",
       "      <td>...</td>\n",
       "      <td>...</td>\n",
       "    </tr>\n",
       "    <tr>\n",
       "      <th>ZEPH</th>\n",
       "      <td>2.478768</td>\n",
       "      <td>0.790086</td>\n",
       "      <td>-0.100865</td>\n",
       "      <td>0</td>\n",
       "    </tr>\n",
       "    <tr>\n",
       "      <th>GAP</th>\n",
       "      <td>-0.338286</td>\n",
       "      <td>0.984608</td>\n",
       "      <td>-0.573684</td>\n",
       "      <td>0</td>\n",
       "    </tr>\n",
       "    <tr>\n",
       "      <th>BDX</th>\n",
       "      <td>0.327426</td>\n",
       "      <td>-2.298078</td>\n",
       "      <td>0.407649</td>\n",
       "      <td>1</td>\n",
       "    </tr>\n",
       "    <tr>\n",
       "      <th>ZEN</th>\n",
       "      <td>-0.145149</td>\n",
       "      <td>-2.022417</td>\n",
       "      <td>0.398572</td>\n",
       "      <td>1</td>\n",
       "    </tr>\n",
       "    <tr>\n",
       "      <th>XBC</th>\n",
       "      <td>-0.287554</td>\n",
       "      <td>0.853938</td>\n",
       "      <td>-0.266942</td>\n",
       "      <td>0</td>\n",
       "    </tr>\n",
       "  </tbody>\n",
       "</table>\n",
       "<p>532 rows × 4 columns</p>\n",
       "</div>"
      ],
      "text/plain": [
       "           PC1       PC2       PC3  class\n",
       "Name                                     \n",
       "42   -0.340240  0.984728 -0.573656      0\n",
       "404  -0.323582  0.984806 -0.574071      0\n",
       "1337  2.294462  1.573018 -0.723921      0\n",
       "BTC  -0.139392 -1.365181  0.158454      1\n",
       "ETH  -0.143906 -2.038238  0.433191      1\n",
       "...        ...       ...       ...    ...\n",
       "ZEPH  2.478768  0.790086 -0.100865      0\n",
       "GAP  -0.338286  0.984608 -0.573684      0\n",
       "BDX   0.327426 -2.298078  0.407649      1\n",
       "ZEN  -0.145149 -2.022417  0.398572      1\n",
       "XBC  -0.287554  0.853938 -0.266942      0\n",
       "\n",
       "[532 rows x 4 columns]"
      ]
     },
     "execution_count": 108,
     "metadata": {},
     "output_type": "execute_result"
    }
   ],
   "source": [
    "# Initialize the K-Means model.\n",
    "# Initialize the K-means model\n",
    "model = KMeans(n_clusters=4, random_state=0)\n",
    "\n",
    "# Fit the model\n",
    "model.fit(df_X_pca)\n",
    "\n",
    "# Predict clusters\n",
    "predictions = model.predict(df_X_pca)\n",
    "\n",
    "# Add the predicted class columns\n",
    "df_X_pca[\"class\"] = model.labels_\n",
    "df_X_pca\n",
    "\n"
   ]
  },
  {
   "cell_type": "code",
   "execution_count": 109,
   "metadata": {},
   "outputs": [
    {
     "name": "stdout",
     "output_type": "stream",
     "text": [
      "(532, 9)\n"
     ]
    }
   ],
   "source": [
    "# Create a new DataFrame including predicted clusters and cryptocurrencies features.\n",
    "# Concatentate the crypto_df and pcs_df DataFrames on the same columns.\n",
    "frames = [df_X_pca, df]\n",
    "\n",
    "clustered_df = pd.concat(frames, axis=1, join='inner')\n",
    "clustered_df\n",
    "\n",
    "frames2=[clustered_df,df_CoinName]\n",
    "clustered_df2=pd.concat(frames2,axis=1, join='inner')\n",
    "\n",
    "\n",
    "\n",
    "# Print the shape of the clustered_df\n",
    "print(clustered_df2.shape)"
   ]
  },
  {
   "cell_type": "code",
   "execution_count": 110,
   "metadata": {},
   "outputs": [
    {
     "data": {
      "text/html": [
       "<div>\n",
       "<style scoped>\n",
       "    .dataframe tbody tr th:only-of-type {\n",
       "        vertical-align: middle;\n",
       "    }\n",
       "\n",
       "    .dataframe tbody tr th {\n",
       "        vertical-align: top;\n",
       "    }\n",
       "\n",
       "    .dataframe thead th {\n",
       "        text-align: right;\n",
       "    }\n",
       "</style>\n",
       "<table border=\"1\" class=\"dataframe\">\n",
       "  <thead>\n",
       "    <tr style=\"text-align: right;\">\n",
       "      <th></th>\n",
       "      <th>PC1</th>\n",
       "      <th>PC2</th>\n",
       "      <th>PC3</th>\n",
       "      <th>class</th>\n",
       "      <th>Algorithm</th>\n",
       "      <th>ProofType</th>\n",
       "      <th>TotalCoinsMined</th>\n",
       "      <th>TotalCoinSupply</th>\n",
       "      <th>CoinName</th>\n",
       "    </tr>\n",
       "    <tr>\n",
       "      <th>Name</th>\n",
       "      <th></th>\n",
       "      <th></th>\n",
       "      <th></th>\n",
       "      <th></th>\n",
       "      <th></th>\n",
       "      <th></th>\n",
       "      <th></th>\n",
       "      <th></th>\n",
       "      <th></th>\n",
       "    </tr>\n",
       "  </thead>\n",
       "  <tbody>\n",
       "    <tr>\n",
       "      <th>42</th>\n",
       "      <td>-0.340240</td>\n",
       "      <td>0.984728</td>\n",
       "      <td>-0.573656</td>\n",
       "      <td>0</td>\n",
       "      <td>Scrypt</td>\n",
       "      <td>PoW/PoS</td>\n",
       "      <td>4.199995e+01</td>\n",
       "      <td>42</td>\n",
       "      <td>42 Coin</td>\n",
       "    </tr>\n",
       "    <tr>\n",
       "      <th>404</th>\n",
       "      <td>-0.323582</td>\n",
       "      <td>0.984806</td>\n",
       "      <td>-0.574071</td>\n",
       "      <td>0</td>\n",
       "      <td>Scrypt</td>\n",
       "      <td>PoW/PoS</td>\n",
       "      <td>1.055185e+09</td>\n",
       "      <td>532000000</td>\n",
       "      <td>404Coin</td>\n",
       "    </tr>\n",
       "    <tr>\n",
       "      <th>1337</th>\n",
       "      <td>2.294462</td>\n",
       "      <td>1.573018</td>\n",
       "      <td>-0.723921</td>\n",
       "      <td>0</td>\n",
       "      <td>X13</td>\n",
       "      <td>PoW/PoS</td>\n",
       "      <td>2.927942e+10</td>\n",
       "      <td>3.14159E+11</td>\n",
       "      <td>EliteCoin</td>\n",
       "    </tr>\n",
       "    <tr>\n",
       "      <th>BTC</th>\n",
       "      <td>-0.139392</td>\n",
       "      <td>-1.365181</td>\n",
       "      <td>0.158454</td>\n",
       "      <td>1</td>\n",
       "      <td>SHA-256</td>\n",
       "      <td>PoW</td>\n",
       "      <td>1.792718e+07</td>\n",
       "      <td>21000000</td>\n",
       "      <td>Bitcoin</td>\n",
       "    </tr>\n",
       "    <tr>\n",
       "      <th>ETH</th>\n",
       "      <td>-0.143906</td>\n",
       "      <td>-2.038238</td>\n",
       "      <td>0.433191</td>\n",
       "      <td>1</td>\n",
       "      <td>Ethash</td>\n",
       "      <td>PoW</td>\n",
       "      <td>1.076842e+08</td>\n",
       "      <td>0</td>\n",
       "      <td>Ethereum</td>\n",
       "    </tr>\n",
       "    <tr>\n",
       "      <th>...</th>\n",
       "      <td>...</td>\n",
       "      <td>...</td>\n",
       "      <td>...</td>\n",
       "      <td>...</td>\n",
       "      <td>...</td>\n",
       "      <td>...</td>\n",
       "      <td>...</td>\n",
       "      <td>...</td>\n",
       "      <td>...</td>\n",
       "    </tr>\n",
       "    <tr>\n",
       "      <th>ZEPH</th>\n",
       "      <td>2.478768</td>\n",
       "      <td>0.790086</td>\n",
       "      <td>-0.100865</td>\n",
       "      <td>0</td>\n",
       "      <td>SHA-256</td>\n",
       "      <td>DPoS</td>\n",
       "      <td>2.000000e+09</td>\n",
       "      <td>2000000000</td>\n",
       "      <td>ZEPHYR</td>\n",
       "    </tr>\n",
       "    <tr>\n",
       "      <th>GAP</th>\n",
       "      <td>-0.338286</td>\n",
       "      <td>0.984608</td>\n",
       "      <td>-0.573684</td>\n",
       "      <td>0</td>\n",
       "      <td>Scrypt</td>\n",
       "      <td>PoW/PoS</td>\n",
       "      <td>1.493105e+07</td>\n",
       "      <td>250000000</td>\n",
       "      <td>Gapcoin</td>\n",
       "    </tr>\n",
       "    <tr>\n",
       "      <th>BDX</th>\n",
       "      <td>0.327426</td>\n",
       "      <td>-2.298078</td>\n",
       "      <td>0.407649</td>\n",
       "      <td>1</td>\n",
       "      <td>CryptoNight</td>\n",
       "      <td>PoW</td>\n",
       "      <td>9.802226e+08</td>\n",
       "      <td>1400222610</td>\n",
       "      <td>Beldex</td>\n",
       "    </tr>\n",
       "    <tr>\n",
       "      <th>ZEN</th>\n",
       "      <td>-0.145149</td>\n",
       "      <td>-2.022417</td>\n",
       "      <td>0.398572</td>\n",
       "      <td>1</td>\n",
       "      <td>Equihash</td>\n",
       "      <td>PoW</td>\n",
       "      <td>7.296538e+06</td>\n",
       "      <td>21000000</td>\n",
       "      <td>Horizen</td>\n",
       "    </tr>\n",
       "    <tr>\n",
       "      <th>XBC</th>\n",
       "      <td>-0.287554</td>\n",
       "      <td>0.853938</td>\n",
       "      <td>-0.266942</td>\n",
       "      <td>0</td>\n",
       "      <td>Scrypt</td>\n",
       "      <td>PoS</td>\n",
       "      <td>1.283270e+05</td>\n",
       "      <td>1000000</td>\n",
       "      <td>BitcoinPlus</td>\n",
       "    </tr>\n",
       "  </tbody>\n",
       "</table>\n",
       "<p>532 rows × 9 columns</p>\n",
       "</div>"
      ],
      "text/plain": [
       "           PC1       PC2       PC3  class    Algorithm ProofType  \\\n",
       "Name                                                               \n",
       "42   -0.340240  0.984728 -0.573656      0       Scrypt   PoW/PoS   \n",
       "404  -0.323582  0.984806 -0.574071      0       Scrypt   PoW/PoS   \n",
       "1337  2.294462  1.573018 -0.723921      0          X13   PoW/PoS   \n",
       "BTC  -0.139392 -1.365181  0.158454      1      SHA-256       PoW   \n",
       "ETH  -0.143906 -2.038238  0.433191      1       Ethash       PoW   \n",
       "...        ...       ...       ...    ...          ...       ...   \n",
       "ZEPH  2.478768  0.790086 -0.100865      0      SHA-256      DPoS   \n",
       "GAP  -0.338286  0.984608 -0.573684      0       Scrypt   PoW/PoS   \n",
       "BDX   0.327426 -2.298078  0.407649      1  CryptoNight       PoW   \n",
       "ZEN  -0.145149 -2.022417  0.398572      1     Equihash       PoW   \n",
       "XBC  -0.287554  0.853938 -0.266942      0       Scrypt       PoS   \n",
       "\n",
       "      TotalCoinsMined TotalCoinSupply     CoinName  \n",
       "Name                                                \n",
       "42       4.199995e+01              42      42 Coin  \n",
       "404      1.055185e+09       532000000      404Coin  \n",
       "1337     2.927942e+10     3.14159E+11    EliteCoin  \n",
       "BTC      1.792718e+07        21000000      Bitcoin  \n",
       "ETH      1.076842e+08               0     Ethereum  \n",
       "...               ...             ...          ...  \n",
       "ZEPH     2.000000e+09      2000000000       ZEPHYR  \n",
       "GAP      1.493105e+07       250000000      Gapcoin  \n",
       "BDX      9.802226e+08      1400222610       Beldex  \n",
       "ZEN      7.296538e+06        21000000      Horizen  \n",
       "XBC      1.283270e+05         1000000  BitcoinPlus  \n",
       "\n",
       "[532 rows x 9 columns]"
      ]
     },
     "execution_count": 110,
     "metadata": {},
     "output_type": "execute_result"
    }
   ],
   "source": [
    "clustered_df2"
   ]
  },
  {
   "cell_type": "markdown",
   "metadata": {},
   "source": [
    "### Deliverable 4: Visualizing Cryptocurrencies Results\n",
    "\n",
    "#### 3D-Scatter with Clusters"
   ]
  },
  {
   "cell_type": "code",
   "execution_count": 111,
   "metadata": {
    "scrolled": true
   },
   "outputs": [
    {
     "data": {
      "application/vnd.plotly.v1+json": {
       "config": {
        "plotlyServerURL": "https://plot.ly"
       },
       "data": [
        {
         "customdata": [
          [
           "Scrypt"
          ],
          [
           "Scrypt"
          ],
          [
           "X13"
          ],
          [
           "X11"
          ],
          [
           "SHA-512"
          ],
          [
           "SHA-256"
          ],
          [
           "SHA-256"
          ],
          [
           "X15"
          ],
          [
           "Scrypt"
          ],
          [
           "Scrypt"
          ],
          [
           "Scrypt"
          ],
          [
           "Scrypt"
          ],
          [
           "Scrypt"
          ],
          [
           "Scrypt"
          ],
          [
           "Groestl"
          ],
          [
           "PoS"
          ],
          [
           "Scrypt"
          ],
          [
           "Scrypt"
          ],
          [
           "X11"
          ],
          [
           "X11"
          ],
          [
           "SHA3"
          ],
          [
           "Scrypt"
          ],
          [
           "SHA-256"
          ],
          [
           "Scrypt"
          ],
          [
           "X13"
          ],
          [
           "X13"
          ],
          [
           "NeoScrypt"
          ],
          [
           "Scrypt"
          ],
          [
           "Scrypt"
          ],
          [
           "Scrypt"
          ],
          [
           "X11"
          ],
          [
           "X11"
          ],
          [
           "Multiple"
          ],
          [
           "PHI1612"
          ],
          [
           "X11"
          ],
          [
           "Scrypt"
          ],
          [
           "Scrypt"
          ],
          [
           "Scrypt"
          ],
          [
           "X11"
          ],
          [
           "Multiple"
          ],
          [
           "X13"
          ],
          [
           "Scrypt"
          ],
          [
           "Shabal256"
          ],
          [
           "Counterparty"
          ],
          [
           "SHA-256"
          ],
          [
           "Groestl"
          ],
          [
           "Scrypt"
          ],
          [
           "X13"
          ],
          [
           "Scrypt"
          ],
          [
           "Scrypt"
          ],
          [
           "X13"
          ],
          [
           "X11"
          ],
          [
           "Scrypt"
          ],
          [
           "X11"
          ],
          [
           "SHA3"
          ],
          [
           "QUAIT"
          ],
          [
           "X11"
          ],
          [
           "Scrypt"
          ],
          [
           "X13"
          ],
          [
           "SHA-256"
          ],
          [
           "X15"
          ],
          [
           "BLAKE256"
          ],
          [
           "SHA-256"
          ],
          [
           "X11"
          ],
          [
           "SHA-256"
          ],
          [
           "NIST5"
          ],
          [
           "Scrypt"
          ],
          [
           "Scrypt"
          ],
          [
           "X11"
          ],
          [
           "Scrypt"
          ],
          [
           "SHA-256"
          ],
          [
           "Scrypt"
          ],
          [
           "PoS"
          ],
          [
           "X11"
          ],
          [
           "SHA-256"
          ],
          [
           "SHA-256"
          ],
          [
           "NIST5"
          ],
          [
           "X11"
          ],
          [
           "POS 3.0"
          ],
          [
           "Scrypt"
          ],
          [
           "Scrypt"
          ],
          [
           "Scrypt"
          ],
          [
           "X13"
          ],
          [
           "X11"
          ],
          [
           "X11"
          ],
          [
           "Scrypt"
          ],
          [
           "SHA-256"
          ],
          [
           "X11"
          ],
          [
           "Scrypt"
          ],
          [
           "Scrypt"
          ],
          [
           "Scrypt"
          ],
          [
           "Scrypt"
          ],
          [
           "SHA-256D"
          ],
          [
           "PoS"
          ],
          [
           "Scrypt"
          ],
          [
           "X11"
          ],
          [
           "PoS"
          ],
          [
           "X13"
          ],
          [
           "X14"
          ],
          [
           "PoS"
          ],
          [
           "SHA-256D"
          ],
          [
           "DPoS"
          ],
          [
           "X11"
          ],
          [
           "X13"
          ],
          [
           "X11"
          ],
          [
           "PoS"
          ],
          [
           "Scrypt"
          ],
          [
           "Scrypt"
          ],
          [
           "PoS"
          ],
          [
           "X11"
          ],
          [
           "SHA-256"
          ],
          [
           "Scrypt"
          ],
          [
           "X11"
          ],
          [
           "Scrypt"
          ],
          [
           "Scrypt"
          ],
          [
           "X11"
          ],
          [
           "Scrypt"
          ],
          [
           "Scrypt"
          ],
          [
           "Scrypt"
          ],
          [
           "Scrypt"
          ],
          [
           "Quark"
          ],
          [
           "QuBit"
          ],
          [
           "Scrypt"
          ],
          [
           "SHA-256"
          ],
          [
           "X11"
          ],
          [
           "Scrypt"
          ],
          [
           "Scrypt"
          ],
          [
           "Scrypt"
          ],
          [
           "Scrypt"
          ],
          [
           "X13"
          ],
          [
           "Scrypt"
          ],
          [
           "Scrypt"
          ],
          [
           "X11"
          ],
          [
           "Blake2S"
          ],
          [
           "X11"
          ],
          [
           "PoS"
          ],
          [
           "X11"
          ],
          [
           "PoS"
          ],
          [
           "X11"
          ],
          [
           "Scrypt"
          ],
          [
           "Scrypt"
          ],
          [
           "Scrypt"
          ],
          [
           "SHA-256"
          ],
          [
           "X11"
          ],
          [
           "Scrypt"
          ],
          [
           "PoS"
          ],
          [
           "Scrypt"
          ],
          [
           "X15"
          ],
          [
           "SHA-256"
          ],
          [
           "POS 3.0"
          ],
          [
           "536"
          ],
          [
           "NIST5"
          ],
          [
           "NIST5"
          ],
          [
           "Skein"
          ],
          [
           "X13"
          ],
          [
           "Scrypt"
          ],
          [
           "X13"
          ],
          [
           "SkunkHash v2 Raptor"
          ],
          [
           "Skein"
          ],
          [
           "X11"
          ],
          [
           "Scrypt"
          ],
          [
           "PoS"
          ],
          [
           "Scrypt"
          ],
          [
           "Scrypt"
          ],
          [
           "SHA-512"
          ],
          [
           "Ouroboros"
          ],
          [
           "X11"
          ],
          [
           "NeoScrypt"
          ],
          [
           "Scrypt"
          ],
          [
           "Lyra2REv2"
          ],
          [
           "Scrypt"
          ],
          [
           "SHA-256"
          ],
          [
           "NIST5"
          ],
          [
           "PHI1612"
          ],
          [
           "Scrypt"
          ],
          [
           "Quark"
          ],
          [
           "POS 2.0"
          ],
          [
           "Scrypt"
          ],
          [
           "SHA-256"
          ],
          [
           "X11"
          ],
          [
           "DPoS"
          ],
          [
           "NIST5"
          ],
          [
           "X13"
          ],
          [
           "Scrypt"
          ],
          [
           "NIST5"
          ],
          [
           "Quark"
          ],
          [
           "Scrypt"
          ],
          [
           "Scrypt"
          ],
          [
           "X11"
          ],
          [
           "Quark"
          ],
          [
           "Scrypt"
          ],
          [
           "Scrypt"
          ],
          [
           "X11"
          ],
          [
           "POS 3.0"
          ],
          [
           "Ethash"
          ],
          [
           "Scrypt"
          ],
          [
           "Scrypt"
          ],
          [
           "X13"
          ],
          [
           "C11"
          ],
          [
           "X11"
          ],
          [
           "XEVAN"
          ],
          [
           "Scrypt"
          ],
          [
           "VBFT"
          ],
          [
           "NIST5"
          ],
          [
           "Scrypt"
          ],
          [
           "Scrypt"
          ],
          [
           "Scrypt"
          ],
          [
           "Green Protocol"
          ],
          [
           "PoS"
          ],
          [
           "Scrypt"
          ],
          [
           "Semux BFT consensus"
          ],
          [
           "Quark"
          ],
          [
           "PoS"
          ],
          [
           "X16R"
          ],
          [
           "Scrypt"
          ],
          [
           "XEVAN"
          ],
          [
           "Scrypt"
          ],
          [
           "Scrypt"
          ],
          [
           "Scrypt"
          ],
          [
           "SHA-256D"
          ],
          [
           "Scrypt"
          ],
          [
           "X15"
          ],
          [
           "Scrypt"
          ],
          [
           "Quark"
          ],
          [
           "SHA-256"
          ],
          [
           "DPoS"
          ],
          [
           "X16R"
          ],
          [
           "Quark"
          ],
          [
           "Quark"
          ],
          [
           "Scrypt"
          ],
          [
           "Lyra2REv2"
          ],
          [
           "Quark"
          ],
          [
           "Scrypt"
          ],
          [
           "X11"
          ],
          [
           "X11"
          ],
          [
           "Scrypt"
          ],
          [
           "PoS"
          ],
          [
           "Keccak"
          ],
          [
           "X11"
          ],
          [
           "Scrypt"
          ],
          [
           "SHA-512"
          ],
          [
           "XEVAN"
          ],
          [
           "XEVAN"
          ],
          [
           "X11"
          ],
          [
           "Quark"
          ],
          [
           "Equihash"
          ],
          [
           "Scrypt"
          ],
          [
           "Quark"
          ],
          [
           "Quark"
          ],
          [
           "Scrypt"
          ],
          [
           "X11"
          ],
          [
           "Scrypt"
          ],
          [
           "XEVAN"
          ],
          [
           "SHA-256D"
          ],
          [
           "X11"
          ],
          [
           "X11"
          ],
          [
           "DPoS"
          ],
          [
           "Scrypt"
          ],
          [
           "X11"
          ],
          [
           "Scrypt"
          ],
          [
           "Scrypt"
          ],
          [
           "SHA-256"
          ],
          [
           "Scrypt"
          ],
          [
           "X11"
          ],
          [
           "Scrypt"
          ],
          [
           "SHA-256"
          ],
          [
           "X11"
          ],
          [
           "Scrypt"
          ],
          [
           "Scrypt"
          ],
          [
           "X11"
          ],
          [
           "Scrypt"
          ],
          [
           "PoS"
          ],
          [
           "X11"
          ],
          [
           "SHA-256"
          ],
          [
           "DPoS"
          ],
          [
           "Scrypt"
          ],
          [
           "Scrypt"
          ],
          [
           "NeoScrypt"
          ],
          [
           "X13"
          ],
          [
           "DPoS"
          ],
          [
           "DPoS"
          ],
          [
           "SHA-256"
          ],
          [
           "PoS"
          ],
          [
           "PoS"
          ],
          [
           "SHA-256"
          ],
          [
           "Scrypt"
          ],
          [
           "Scrypt"
          ]
         ],
         "hovertemplate": "<b>%{hovertext}</b><br><br>class=%{marker.color}<br>PC1=%{x}<br>PC2=%{y}<br>PC3=%{z}<br>Algorithm=%{customdata[0]}<extra></extra>",
         "hovertext": [
          "42 Coin",
          "404Coin",
          "EliteCoin",
          "Dash",
          "Bitshares",
          "BitcoinDark",
          "PayCoin",
          "KoboCoin",
          "Aurora Coin",
          "BlueCoin",
          "EnergyCoin",
          "BitBar",
          "CryptoBullion",
          "CasinoCoin",
          "Diamond",
          "Exclusive Coin",
          "FlutterCoin",
          "HoboNickels",
          "HyperStake",
          "IOCoin",
          "MaxCoin",
          "MintCoin",
          "MazaCoin",
          "Nautilus Coin",
          "NavCoin",
          "OpalCoin",
          "Orbitcoin",
          "PotCoin",
          "PhoenixCoin",
          "Reddcoin",
          "SuperCoin",
          "SyncCoin",
          "TeslaCoin",
          "TittieCoin",
          "TorCoin",
          "UnitaryStatus Dollar",
          "UltraCoin",
          "VeriCoin",
          "X11 Coin",
          "Crypti",
          "StealthCoin",
          "ZCC Coin",
          "BurstCoin",
          "StorjCoin",
          "Neutron",
          "FairCoin",
          "RubyCoin",
          "Kore",
          "Dnotes",
          "8BIT Coin",
          "Sativa Coin",
          "Ucoin",
          "Vtorrent",
          "IslaCoin",
          "Nexus",
          "Droidz",
          "Squall Coin",
          "Diggits",
          "Paycon",
          "Emercoin",
          "EverGreenCoin",
          "Decred",
          "EDRCoin",
          "Hitcoin",
          "DubaiCoin",
          "PWR Coin",
          "BillaryCoin",
          "GPU Coin",
          "EuropeCoin",
          "ZeitCoin",
          "SwingCoin",
          "SafeExchangeCoin",
          "Nebuchadnezzar",
          "Ratecoin",
          "Revenu",
          "Clockcoin",
          "VIP Tokens",
          "BitSend",
          "Let it Ride",
          "PutinCoin",
          "iBankCoin",
          "Frankywillcoin",
          "MudraCoin",
          "Lutetium Coin",
          "GoldBlocks",
          "CarterCoin",
          "BitTokens",
          "MustangCoin",
          "ZoneCoin",
          "RootCoin",
          "BitCurrency",
          "Swiscoin",
          "BuzzCoin",
          "Opair",
          "PesoBit",
          "Halloween Coin",
          "CoffeeCoin",
          "RoyalCoin",
          "GanjaCoin V2",
          "TeamUP",
          "LanaCoin",
          "ARK",
          "InsaneCoin",
          "EmberCoin",
          "XenixCoin",
          "FreeCoin",
          "PLNCoin",
          "AquariusCoin",
          "Creatio",
          "Eternity",
          "Eurocoin",
          "BitcoinFast",
          "Stakenet",
          "BitConnect Coin",
          "MoneyCoin",
          "Enigma",
          "Russiacoin",
          "PandaCoin",
          "GameUnits",
          "GAKHcoin",
          "Allsafe",
          "LiteCreed",
          "Klingon Empire Darsek",
          "Internet of People",
          "KushCoin",
          "Printerium",
          "Impeach",
          "Zilbercoin",
          "FirstCoin",
          "FindCoin",
          "OpenChat",
          "RenosCoin",
          "VirtacoinPlus",
          "TajCoin",
          "Impact",
          "Atmos",
          "HappyCoin",
          "MacronCoin",
          "Condensate",
          "Independent Money System",
          "ArgusCoin",
          "LomoCoin",
          "ProCurrency",
          "GoldReserve",
          "GrowthCoin",
          "Phreak",
          "Degas Coin",
          "HTML5 Coin",
          "Ultimate Secure Cash",
          "QTUM",
          "Espers",
          "Denarius",
          "Virta Unique Coin",
          "Bitcoin Planet",
          "BritCoin",
          "Linda",
          "DeepOnion",
          "Signatum",
          "Cream",
          "Monoeci",
          "Draftcoin",
          "Stakecoin",
          "CoinonatX",
          "Ethereum Dark",
          "Obsidian",
          "Cardano",
          "Regalcoin",
          "TrezarCoin",
          "TerraNovaCoin",
          "Rupee",
          "WomenCoin",
          "Theresa May Coin",
          "NamoCoin",
          "LUXCoin",
          "Xios",
          "Bitcloud 2.0",
          "KekCoin",
          "BlackholeCoin",
          "Infinity Economics",
          "Magnet",
          "Lamden Tau",
          "Electra",
          "Bitcoin Diamond",
          "Cash & Back Coin",
          "Bulwark",
          "Kalkulus",
          "GermanCoin",
          "LiteCoin Ultra",
          "PhantomX",
          "Digiwage",
          "Trollcoin",
          "Litecoin Plus",
          "Monkey Project",
          "TokenPay",
          "1717 Masonic Commemorative Token",
          "My Big Coin",
          "Unified Society USDEX",
          "Tokyo Coin",
          "Stipend",
          "Pushi",
          "Ellerium",
          "Velox",
          "Ontology",
          "Bitspace",
          "Briacoin",
          "Ignition",
          "MedicCoin",
          "Bitcoin Green",
          "Deviant Coin",
          "Abjcoin",
          "Semux",
          "Carebit",
          "Zealium",
          "Proton",
          "iDealCash",
          "Bitcoin Incognito",
          "HollyWoodCoin",
          "Swisscoin",
          "Xt3ch",
          "TheVig",
          "EmaratCoin",
          "Dekado",
          "Lynx",
          "Poseidon Quark",
          "BitcoinWSpectrum",
          "Muse",
          "Trivechain",
          "Dystem",
          "Giant",
          "Peony Coin",
          "Absolute Coin",
          "Vitae",
          "TPCash",
          "ARENON",
          "EUNO",
          "MMOCoin",
          "Ketan",
          "XDNA",
          "PAXEX",
          "ThunderStake",
          "Kcash",
          "Bettex coin",
          "BitMoney",
          "Junson Ming Chan Coin",
          "HerbCoin",
          "PirateCash",
          "Oduwa",
          "Galilel",
          "Crypto Sports",
          "Credit",
          "Dash Platinum",
          "Nasdacoin",
          "Beetle Coin",
          "Titan Coin",
          "Award",
          "Insane Coin",
          "ALAX",
          "LiteDoge",
          "TruckCoin",
          "OrangeCoin",
          "BitstarCoin",
          "NeosCoin",
          "HyperCoin",
          "PinkCoin",
          "AudioCoin",
          "IncaKoin",
          "Piggy Coin",
          "Genstake",
          "XiaoMiCoin",
          "CapriCoin",
          " ClubCoin",
          "Radium",
          "Creditbit ",
          "OKCash",
          "Lisk",
          "HiCoin",
          "WhiteCoin",
          "FriendshipCoin",
          "Triangles Coin",
          "EOS",
          "Oxycoin",
          "TigerCash",
          "Particl",
          "Nxt",
          "ZEPHYR",
          "Gapcoin",
          "BitcoinPlus"
         ],
         "legendgroup": "0",
         "marker": {
          "color": [
           0,
           0,
           0,
           0,
           0,
           0,
           0,
           0,
           0,
           0,
           0,
           0,
           0,
           0,
           0,
           0,
           0,
           0,
           0,
           0,
           0,
           0,
           0,
           0,
           0,
           0,
           0,
           0,
           0,
           0,
           0,
           0,
           0,
           0,
           0,
           0,
           0,
           0,
           0,
           0,
           0,
           0,
           0,
           0,
           0,
           0,
           0,
           0,
           0,
           0,
           0,
           0,
           0,
           0,
           0,
           0,
           0,
           0,
           0,
           0,
           0,
           0,
           0,
           0,
           0,
           0,
           0,
           0,
           0,
           0,
           0,
           0,
           0,
           0,
           0,
           0,
           0,
           0,
           0,
           0,
           0,
           0,
           0,
           0,
           0,
           0,
           0,
           0,
           0,
           0,
           0,
           0,
           0,
           0,
           0,
           0,
           0,
           0,
           0,
           0,
           0,
           0,
           0,
           0,
           0,
           0,
           0,
           0,
           0,
           0,
           0,
           0,
           0,
           0,
           0,
           0,
           0,
           0,
           0,
           0,
           0,
           0,
           0,
           0,
           0,
           0,
           0,
           0,
           0,
           0,
           0,
           0,
           0,
           0,
           0,
           0,
           0,
           0,
           0,
           0,
           0,
           0,
           0,
           0,
           0,
           0,
           0,
           0,
           0,
           0,
           0,
           0,
           0,
           0,
           0,
           0,
           0,
           0,
           0,
           0,
           0,
           0,
           0,
           0,
           0,
           0,
           0,
           0,
           0,
           0,
           0,
           0,
           0,
           0,
           0,
           0,
           0,
           0,
           0,
           0,
           0,
           0,
           0,
           0,
           0,
           0,
           0,
           0,
           0,
           0,
           0,
           0,
           0,
           0,
           0,
           0,
           0,
           0,
           0,
           0,
           0,
           0,
           0,
           0,
           0,
           0,
           0,
           0,
           0,
           0,
           0,
           0,
           0,
           0,
           0,
           0,
           0,
           0,
           0,
           0,
           0,
           0,
           0,
           0,
           0,
           0,
           0,
           0,
           0,
           0,
           0,
           0,
           0,
           0,
           0,
           0,
           0,
           0,
           0,
           0,
           0,
           0,
           0,
           0,
           0,
           0,
           0,
           0,
           0,
           0,
           0,
           0,
           0,
           0,
           0,
           0,
           0,
           0,
           0,
           0,
           0,
           0,
           0,
           0,
           0,
           0,
           0,
           0,
           0,
           0,
           0,
           0,
           0,
           0,
           0,
           0,
           0,
           0,
           0,
           0,
           0,
           0,
           0,
           0,
           0,
           0,
           0
          ],
          "coloraxis": "coloraxis",
          "symbol": "circle"
         },
         "mode": "markers",
         "name": "0",
         "scene": "scene",
         "showlegend": true,
         "type": "scatter3d",
         "x": [
          -0.3402398389451021,
          -0.32358242082296795,
          2.2944617099188758,
          -0.40012163655153987,
          -0.3031687380481916,
          -0.31050569421268825,
          -0.25776554728545775,
          -0.2343504181026963,
          -0.33989951964145165,
          -0.3324790751565715,
          -0.33873680936881645,
          -0.3402357765772104,
          -0.3402200622141831,
          0.6806664009413799,
          -0.37544219147254393,
          -0.33832927957810327,
          -0.29598903559992706,
          -0.33829922405143825,
          -0.3272104914130462,
          -0.4000163606269127,
          -0.4344902934039984,
          -0.027489282784001718,
          -0.27382361389505,
          -0.2872508664642704,
          -0.2885503375326708,
          -0.2891723812124591,
          -0.35300081249942467,
          -0.3345439345118931,
          -0.3386420823557312,
          0.017806522504576313,
          -0.34709181642289744,
          -0.40038781686815295,
          -0.2367812948774587,
          -0.3067536499760017,
          -0.40029948772328194,
          -0.31547973092313475,
          -0.33891766422541947,
          -0.2982156551473897,
          -0.4002639697287678,
          -0.2372488322008057,
          -0.2889533028352195,
          -0.33134609144542737,
          0.05827185695197931,
          -0.30818163369922147,
          -0.30971765379783356,
          -0.37486390466248565,
          -0.28723111865001594,
          -0.2892477572060337,
          -0.2818869596313127,
          -0.3402219122454555,
          -0.28919995381289504,
          -0.3475365582271146,
          -0.33995637989146776,
          -0.40036935067068385,
          -0.45449952929315096,
          -0.40459709776534164,
          -0.35644824885427334,
          -0.28563315811857876,
          -0.2887217491359932,
          -0.303065155713939,
          -0.2367909651966261,
          -0.07928752344485199,
          -0.3104766158919364,
          -0.07794368641564424,
          -0.3105402844868766,
          -0.23613112957542426,
          -0.339832310219692,
          -0.2855023319906307,
          -0.39753960271834926,
          0.8655262584578125,
          -0.31034042338090706,
          -0.049879159134806915,
          -0.33801265299981165,
          -0.3982129784652198,
          -0.3090844434249241,
          -0.3067535321742051,
          -0.3574575924161594,
          -0.39910498730182625,
          -0.33021381308982856,
          -0.3161365853598445,
          -0.33987039959771637,
          -0.3383098608178562,
          -0.23520247028695684,
          -0.33503117400889565,
          -0.39984343529981276,
          -0.33907487296797645,
          -0.3105212497388734,
          -0.40035854747463934,
          -0.34005949321703094,
          -0.3402161468762156,
          -0.28549174041062597,
          -0.23131248225532267,
          0.0318022688834999,
          -0.3369700514733649,
          -0.3398304063397547,
          -0.386525782677465,
          -0.33629884257125064,
          -0.23663253925523733,
          -0.40367568342343935,
          -0.3360480538039718,
          -0.28263028169607346,
          3.7254434241615084,
          -0.39995121997325933,
          0.8426650194848672,
          -0.400313469934534,
          -0.33743365931846164,
          -0.33975801083294177,
          -0.3399122986090115,
          -0.33801265299981165,
          -0.39988853260351337,
          -0.31038395841951183,
          -0.33975874212051255,
          -0.39986257367156625,
          -0.3399060896442896,
          -0.33549578754505044,
          -0.40034245699604515,
          -0.33911709409141805,
          0.3558238354956565,
          -0.34010530093774616,
          -0.34017584572636617,
          -0.3447085138542506,
          -0.34631005803623444,
          -0.33640400508053425,
          -0.31049766970655335,
          -0.400252435884246,
          -0.33995372948363345,
          -0.3400806503703663,
          -0.28713769700762715,
          -0.31761842223972186,
          -0.23640046454754152,
          -0.3209400503773589,
          -0.28687888029003045,
          -0.3995184481779826,
          -0.4071000862191105,
          -0.39825716224082375,
          -0.33625974415557996,
          -0.3994163605529867,
          -0.33066137272183405,
          -0.39535874145734445,
          -0.34002395142147007,
          -0.3400231474635339,
          -0.3331474669016949,
          0.2746973438107045,
          -0.3998946646121324,
          -0.2697859609803149,
          -0.3380469460144905,
          -0.3392349160545185,
          0.8972112602784588,
          -0.2564564551799419,
          -0.32899254159288177,
          0.5775799493952957,
          -0.3589927698726208,
          -0.35749548337497333,
          -0.4163847806512666,
          -0.2888851475014734,
          0.12454393955426953,
          -0.2889558922246831,
          -0.32890388430639406,
          -0.415889797813243,
          -0.4001669522968978,
          -0.28721184966301666,
          -0.33791328095096484,
          -0.3396592660311645,
          -0.3401587806403,
          -0.3612146232733707,
          0.6485940435602133,
          -0.4001078096287781,
          -0.3480016980062573,
          -0.3401144167790597,
          -0.30415663249179486,
          0.4287777077962801,
          -0.3088444424142413,
          -0.34376460855318103,
          -0.39501646830496656,
          -0.34006477290330417,
          -0.39582762015117284,
          -0.32782406305526035,
          -0.33993520177272357,
          -0.08430252663065571,
          -0.3989008765849892,
          3.730297846128246,
          0.20032708533322338,
          -0.285627780854855,
          -0.3373963039798342,
          -0.3060796785692803,
          -0.3445944519566276,
          0.07406018776639028,
          -0.33907406927553474,
          -0.3994817887091599,
          -0.3437594896994506,
          -0.3266437301773318,
          -0.3401809060904544,
          -0.3475084959675899,
          -0.3304956478725076,
          -0.26343084725469207,
          -0.3135943801675192,
          -0.3357275256862901,
          -0.2281990169647527,
          -0.3761492590151507,
          -0.4001842048706612,
          -0.3055112182770396,
          -0.28637214011017414,
          -0.31763094790891416,
          -0.358591868216531,
          -0.34020825274028543,
          -0.34018997016592756,
          -0.28075535761645803,
          -0.33561317344996106,
          -0.33750786716834114,
          -0.3399065760271209,
          3.919633970558182,
          -0.39449600357289355,
          -0.3376964796262639,
          -0.30816635960183425,
          -0.2867946198211024,
          -0.26172394668022897,
          -0.28690614761922284,
          -0.14338198809672115,
          -0.2871581521654929,
          -0.34792223159918034,
          -0.3393807893659104,
          -0.1834582322030797,
          2.210339256456784,
          -0.34030401878262995,
          -0.25658407024295715,
          1.0254174521271027,
          -0.3601798218781175,
          -0.3447079543573439,
          -0.3975111704244256,
          -0.16793423877417846,
          -0.35676166292663025,
          -0.3434278897261141,
          -0.3330875741957201,
          -0.3470860423870176,
          -0.39965770116142585,
          -0.28440453136241667,
          -0.3367966157690331,
          -0.34815222604171353,
          -0.34694749150790205,
          -0.19974127625522053,
          -0.42304514812640304,
          -0.2528276009370854,
          0.5588961538150157,
          -0.13751733142860667,
          -0.3968060250353884,
          -0.26271844767605007,
          -0.33991054222416506,
          -0.39726199531272144,
          -0.3448248940062986,
          0.5663033908440128,
          -0.34756279546517455,
          -0.3393936479031928,
          -0.2999686463669231,
          -0.3026577550794924,
          -0.3972232711773188,
          -0.39988486210195046,
          3.7425359016057684,
          0.0948770575556773,
          -0.39742515384730004,
          -0.33877938547332775,
          -0.33960405450659015,
          -0.2577981743771872,
          -0.3401222088703026,
          -0.3915152901298081,
          -0.25385584620574375,
          -0.09022369347405303,
          -0.3872651523543159,
          -0.33940073436714513,
          -0.33246720463032436,
          -0.39645452708086143,
          -0.33784044898300714,
          -0.3382882015186959,
          -0.3949852277476957,
          -0.30902121781490044,
          3.725835107629392,
          -0.09449964323195448,
          -0.3350360841014309,
          -0.3526268114604106,
          -0.289354924076834,
          3.7357005565234775,
          3.7369443543766283,
          -0.2387008415351619,
          -0.3382240851571525,
          -0.3430366658577053,
          2.4787679646457055,
          -0.3382859125527643,
          -0.28755448346556195
         ],
         "y": [
          0.9847284372039085,
          0.9848056781150787,
          1.573018484407418,
          1.2088126812135447,
          1.4596264522250626,
          0.7467431381530192,
          0.6159619249060625,
          1.7797638226886674,
          0.984725934944546,
          0.9849358541702492,
          0.9847686077367712,
          0.9847281999864432,
          0.9847282741553026,
          0.9350564240746495,
          0.8748707927002499,
          1.676537700333421,
          0.40494498979379573,
          0.9846973062847966,
          1.0785792107195298,
          1.2088154948554037,
          2.0110870633364475,
          0.8608897842381483,
          0.7460655228219811,
          0.8539361129325851,
          1.7212681638650136,
          1.721251538904064,
          0.4802242628108319,
          0.9845901802080421,
          0.9847033589590233,
          0.9942977118204075,
          1.078047855345853,
          1.2088207825193436,
          0.1824311017805559,
          1.6192247723814763,
          1.208816227551083,
          0.9842835645254521,
          0.9846946103845979,
          0.40018671423614116,
          1.2088202891868944,
          0.1824877699723793,
          1.7212573940708071,
          0.9842744970878918,
          2.172270508313745,
          1.6502327590976624,
          0.7467323842718414,
          0.8748892775722393,
          0.8539478314162094,
          1.7212412247271083,
          0.8537448425093742,
          0.9847289163483163,
          1.7212438856128378,
          1.0780221362658102,
          0.9847221803084163,
          1.2088212767451518,
          2.325773508310114,
          1.9307240189698767,
          1.154485134874194,
          0.8539213753176875,
          1.72122900077702,
          0.7462655750539711,
          1.7799224802349154,
          0.8930729141122614,
          0.746743915310577,
          1.1990755613840964,
          0.7467501675135292,
          1.4238202313234218,
          0.9847102802112676,
          0.8538411472704734,
          1.2086313167551523,
          0.8162847124247039,
          0.7467351057631826,
          0.9417118271143844,
          1.6765323298559593,
          1.2088270358961435,
          0.7466422940488224,
          0.7464955260550167,
          1.420515369677898,
          1.2087589309433053,
          1.6059933514671172,
          0.9839893541563843,
          0.9847076484001278,
          0.9847108547549598,
          1.5903582946887536,
          1.0779157864620161,
          1.2088007506662495,
          0.9846973251438347,
          0.746743414048094,
          1.2088194905623926,
          0.9847187328273415,
          0.9847290704356285,
          0.8539943186585788,
          0.23894810869937508,
          1.7739419275051602,
          1.6765228463648527,
          0.9847393798746013,
          1.2081538084613714,
          1.6765643010822853,
          1.5904566724980662,
          1.8067191002954341,
          1.6763904862658219,
          1.7741796114432173,
          1.9375638267499322,
          1.2088117027268472,
          1.7509135364532242,
          1.2088201051278933,
          1.6765270551190594,
          0.984714659029268,
          0.9847081424130836,
          1.6765323298559593,
          1.208792629003562,
          0.7467477749824054,
          0.9847184711569676,
          0.7646777448452721,
          0.9847179912826067,
          0.9844052076295501,
          1.2088185373270368,
          0.984658848296188,
          0.848645807801974,
          0.9847230416547501,
          0.9847278542141389,
          1.5306231426320256,
          0.5843738621267662,
          0.9844851362908064,
          0.7467440442564369,
          1.2088179318731873,
          0.9847222511441601,
          0.9847175218455215,
          0.8539122881678282,
          0.2864042146282971,
          1.5904545582556078,
          0.9845526126479707,
          0.8539334348552057,
          1.208774854507395,
          1.882623178999292,
          1.208801647708519,
          1.6765167307416653,
          1.2087775829376224,
          1.6764659804998374,
          1.2086093732674126,
          0.984719536019168,
          0.98471444777107,
          0.9842263528858216,
          0.5783285426166777,
          1.208806297869487,
          0.8530308016966729,
          1.6765244969525483,
          0.9846826732111695,
          1.7480010315435428,
          0.6158671718804614,
          1.605979997703176,
          1.6890991999823275,
          1.4205296709870723,
          1.420493607862379,
          1.772035677917875,
          1.721238466486275,
          0.9625685336181767,
          1.7212442541685695,
          1.6378440722104641,
          1.7720489070055105,
          1.2088201105300032,
          0.8539363078370545,
          1.6765062136084223,
          0.9847105809335573,
          0.9847276987481264,
          1.4605021791608093,
          1.5962880080293407,
          1.2088095925687643,
          0.4800838233557487,
          0.9847209075456286,
          0.7311357034968068,
          0.9879905338866044,
          0.7467335896268316,
          1.4201136154963603,
          1.7506124328603376,
          0.9847185917205653,
          1.6613262979879562,
          1.5954473358467145,
          0.9847263509466924,
          0.6143818663742341,
          1.2087609278909826,
          1.9374342036572785,
          1.414736040778427,
          1.72120102925796,
          0.9846591906634665,
          1.2897342562202694,
          1.530622732902886,
          0.9612192868862539,
          0.9846558483670903,
          1.208810416161845,
          1.5305758846407158,
          0.984469337830919,
          0.9847272457429862,
          1.0780221946301456,
          1.6059916979700029,
          -0.05713260537035095,
          0.3645672862266372,
          0.9846885749991475,
          1.590130488911635,
          0.8404803072395303,
          1.2088089340775356,
          1.7107862831275187,
          0.853885025719159,
          1.5677275628281524,
          1.4205127201231864,
          0.9847272065042911,
          0.984726311855668,
          0.8537750861078849,
          1.5591806776199195,
          1.6764987895845058,
          0.9847165950081488,
          1.9415186427921993,
          1.6613618872469318,
          1.6764992817616424,
          0.7547241224616231,
          0.9826142991027014,
          1.6564735383291784,
          0.853938534129906,
          0.9829350266654113,
          0.8539193494896873,
          1.77755686366309,
          0.9846932989388714,
          1.649106475398016,
          0.3907977273590966,
          1.5303016688546873,
          0.6159328018407371,
          1.7631145731776465,
          0.8855053592829424,
          1.5306190077596875,
          1.6614160677200884,
          0.8454613594869863,
          0.8619073868007026,
          1.530598579851886,
          0.9842279535996146,
          1.0780099695963212,
          1.2088057146629885,
          0.853843550016621,
          1.676433418954496,
          0.9382357581787345,
          1.0779825488640806,
          0.9760339749087744,
          1.3150406020102707,
          1.5800039048694823,
          1.9872255487385566,
          1.0836490176794518,
          1.661401127881378,
          -0.041316283961248756,
          0.9847227137446315,
          1.6614131238753733,
          1.5306211595839312,
          0.9572225413695231,
          1.0780216425313238,
          0.9846929552770239,
          1.7106300953308071,
          1.775377593903142,
          1.2086148721906824,
          1.2088134762309513,
          1.9374154634827154,
          0.9721502100915582,
          1.2088999643981373,
          0.9846291423109221,
          0.9847079038619221,
          0.6159551739831144,
          0.9847315810562338,
          1.2087120947165786,
          0.9797749717016997,
          0.7525142782480351,
          1.2084798666083214,
          0.984740488876656,
          0.9846595163827319,
          1.2087820450922384,
          0.9846819021663417,
          1.6765325734617915,
          0.8426686332144161,
          0.7467254068764654,
          1.9375501441431346,
          0.8521763543334071,
          0.984660023355844,
          0.48019525141767905,
          1.7212465772019376,
          1.9379244172239622,
          1.937957659408411,
          0.6157884628840714,
          1.6765345401010423,
          1.921550705055599,
          0.7900862108900949,
          0.9846077491635369,
          0.8539384974153625
         ],
         "z": [
          -0.5736559770286312,
          -0.574070579454154,
          -0.723920905608235,
          -0.5139097657599712,
          -0.0021268212478453307,
          -0.40923266835434813,
          -0.10252122586885759,
          -0.6035488140533828,
          -0.573663784822714,
          -0.5738769862760669,
          -0.5736987799632519,
          -0.5736560365516398,
          -0.5736564278927638,
          -0.35382737893498806,
          -0.42026618161886525,
          -0.13745043985875635,
          -0.29803287224320024,
          -0.5736977608846409,
          -0.20777415253530443,
          -0.5139127637834902,
          -0.6269666534157857,
          -0.274347983854358,
          -0.41000799608131017,
          -0.2669487357106899,
          -0.6856544053572295,
          -0.685636690940665,
          -0.30756857615768124,
          -0.573771001823653,
          -0.5736904684758096,
          -0.583852338803693,
          -0.2072079767432829,
          -0.5139046568568628,
          0.13758263259783254,
          -0.1979998130283748,
          -0.5139060490085298,
          -0.5741813492511681,
          -0.573682395843291,
          -0.20899889453086945,
          -0.513907566001759,
          0.13758471324095164,
          -0.6856429298042065,
          -0.5737969133547768,
          -0.28822644974741846,
          -0.05510636519852137,
          -0.40924994245024554,
          -0.4202831419768112,
          -0.26695111570951713,
          -0.6856331963472461,
          -0.2670471365533405,
          -0.5736564875457697,
          -0.6856347823568008,
          -0.20719306473326574,
          -0.5736618025595489,
          -0.5139051828453168,
          -0.4334040747410555,
          -0.6340715008068979,
          -0.05680866959652841,
          -0.26698538828425267,
          -0.6856439070485755,
          -0.40933469195568434,
          -0.60351567667659,
          -0.4572813905196498,
          -0.40923349644006557,
          -0.5201045788076067,
          -0.4092329751848498,
          -0.6129356840709036,
          -0.5736628643561231,
          -0.26697551513780515,
          -0.51394263005159,
          -0.28865763538240274,
          -0.40923535281914364,
          -0.33727533811599003,
          -0.13745720992208066,
          -0.5139581661832785,
          -0.40925059340781,
          -0.40928301566173036,
          -0.6094704666222205,
          -0.5139255741438903,
          -0.08555159920294714,
          -0.5741177083937615,
          -0.5736615175341668,
          -0.5736997047286646,
          -0.37893673462803806,
          -0.20747763102349778,
          -0.5139145428535361,
          -0.5736790422666522,
          -0.4092323377054286,
          -0.5139051534829332,
          -0.5736587537842556,
          -0.5736566517306267,
          -0.2670006493221824,
          -0.3122175302443865,
          -0.7958974390900047,
          -0.13748083464848807,
          -0.5736676367607306,
          -0.5141309101289233,
          -0.137503768676573,
          -0.3789181961492246,
          -0.5877556423734633,
          -0.13748159041178123,
          -0.788346649477317,
          -0.099083532905722,
          -0.5139137201418509,
          -0.7177734085034373,
          -0.513906341329905,
          -0.13747032823760033,
          -0.5736653689256219,
          -0.5736605864652053,
          -0.13745720992208066,
          -0.5139121352052111,
          -0.40923635979375333,
          -0.5736659704514308,
          -0.31226525958549906,
          -0.5736623360114563,
          -0.5737179833609852,
          -0.5139053870283338,
          -0.5736717736636313,
          -0.28161123323649795,
          -0.5736583479847038,
          -0.5736574269291415,
          -0.20288229854696352,
          -0.22587361740978543,
          -0.573709044141023,
          -0.40923300921215505,
          -0.5139074615101584,
          -0.5736618780372523,
          -0.5736580464271703,
          -0.26694759757215253,
          -0.37162248501457873,
          -0.37892345428819557,
          -0.5740932541942635,
          -0.26695727928476026,
          -0.5139181808733829,
          -0.6618385189224324,
          -0.5139529761059374,
          -0.13749698587554016,
          -0.5139210881012418,
          -0.13762386963502724,
          -0.5139917049346487,
          -0.5736597421061188,
          -0.5736589350631934,
          -0.5737456141996561,
          -0.10926065282450877,
          -0.513914207334689,
          -0.2672232393487907,
          -0.13745510995580806,
          -0.5736727995299605,
          -0.625702085654948,
          -0.10253743310138526,
          -0.08557890782947124,
          -0.6552716328785636,
          -0.6094357352140195,
          -0.6094660174391177,
          -0.760110633320385,
          -0.6856415005829848,
          -0.5812750938529059,
          -0.6856407330839093,
          -0.09001394664470844,
          -0.7601247293275784,
          -0.5139098786739371,
          -0.26694970910828053,
          -0.13745536656907406,
          -0.5736670899329062,
          -0.5736578135744377,
          -0.0008680175366105001,
          -0.26777745512745793,
          -0.5139095978310377,
          -0.30766642819344764,
          -0.5736577813293408,
          -0.02367244833743794,
          -0.5927474372529387,
          -0.40927121475414757,
          -0.6097357173360937,
          -0.503952352878151,
          -0.5736586034305666,
          -0.5096201893752673,
          -0.16551483255575788,
          -0.5736629911385889,
          -0.10645143008610984,
          -0.5139308250729959,
          -0.09917964935192912,
          -0.6219949074245369,
          -0.6857140423210356,
          -0.5737133636350353,
          -0.3027261604002669,
          -0.202884985086547,
          -0.5798374292033632,
          -0.573672324887801,
          -0.5139248417418041,
          -0.20289752917225942,
          -0.5739420598923526,
          -0.5736572059585209,
          -0.20719375154605518,
          -0.0855445280480019,
          0.17224992109229623,
          -0.3747091006587508,
          -0.5737584152877651,
          -0.37906877469562367,
          -0.49078777562420306,
          -0.5139076469404854,
          -0.36914804082430275,
          -0.2669616476189051,
          -0.12456145883441053,
          -0.6094426584881818,
          -0.5736565395246994,
          -0.5736568354960981,
          -0.2670793620547443,
          -0.11537366396201884,
          -0.1374639461282804,
          -0.5736620974848174,
          -0.13610111313092213,
          -0.5096581108453152,
          -0.1374594735683318,
          0.002251726082987534,
          -0.5746025890874705,
          0.08794790243759547,
          -0.26695744937761484,
          -0.5781162042870494,
          -0.2669482507703542,
          -0.7873192539013748,
          -0.5736710044765914,
          -0.296812886371072,
          -0.49807846689023627,
          -0.20293639425845197,
          -0.10254501268937675,
          -0.10156857452149298,
          -0.304477260072065,
          -0.2028816404535655,
          -0.5095941345207655,
          -0.2684521631998685,
          -0.33038560422162555,
          -0.20290921915529014,
          -0.5737473198103349,
          -0.20720196259757814,
          -0.5139198321475273,
          -0.26700240279062853,
          -0.13747049577374418,
          -0.4182120124886839,
          -0.20720085301792043,
          -0.5756349828582344,
          0.24671415121253126,
          -0.06243504467113772,
          0.13391821988606895,
          -0.21317619063095766,
          -0.5096087279009128,
          0.137584904238114,
          -0.5736629955763047,
          -0.5095996706623461,
          -0.20287916741037873,
          -0.5910694410002176,
          -0.2071923512565777,
          -0.5736706382941299,
          -0.3692564522909433,
          -0.7880578301580209,
          -0.5139475943085859,
          -0.5139156098660181,
          -0.09947199299042357,
          -0.5821153137788552,
          -0.5139890270039692,
          -0.5736750999366951,
          -0.5736679877446386,
          -0.10251934185101041,
          -0.5736593268755112,
          -0.5141011578558391,
          -0.5749364538831884,
          -0.41548693566245226,
          -0.5141660234148133,
          -0.573678187793595,
          -0.5738323892140488,
          -0.5139933020331179,
          -0.5737063322645031,
          -0.137450598630333,
          -0.21361340146574367,
          -0.4092656188961732,
          -0.09909076452205863,
          -0.27131530797315656,
          -0.5737704670334958,
          -0.307572891231223,
          -0.6856314790465077,
          -0.09938967537868282,
          -0.09942509596731375,
          -0.10295321261760047,
          -0.13745246562119784,
          -0.17897378715739207,
          -0.10086457719418965,
          -0.573683536056291,
          -0.26694179466304857
         ]
        },
        {
         "customdata": [
          [
           "SHA-256"
          ],
          [
           "Ethash"
          ],
          [
           "Scrypt"
          ],
          [
           "CryptoNight-V7"
          ],
          [
           "Ethash"
          ],
          [
           "Equihash"
          ],
          [
           "Multiple"
          ],
          [
           "Scrypt"
          ],
          [
           "X11"
          ],
          [
           "Scrypt"
          ],
          [
           "Multiple"
          ],
          [
           "Scrypt"
          ],
          [
           "SHA-256"
          ],
          [
           "Scrypt"
          ],
          [
           "Scrypt"
          ],
          [
           "Quark"
          ],
          [
           "Groestl"
          ],
          [
           "Scrypt"
          ],
          [
           "Scrypt"
          ],
          [
           "Scrypt"
          ],
          [
           "X11"
          ],
          [
           "Multiple"
          ],
          [
           "SHA-256"
          ],
          [
           "Scrypt"
          ],
          [
           "Scrypt"
          ],
          [
           "Scrypt"
          ],
          [
           "Scrypt"
          ],
          [
           "Scrypt"
          ],
          [
           "NeoScrypt"
          ],
          [
           "Scrypt"
          ],
          [
           "Scrypt"
          ],
          [
           "Scrypt"
          ],
          [
           "Scrypt"
          ],
          [
           "SHA-256"
          ],
          [
           "Scrypt"
          ],
          [
           "Scrypt"
          ],
          [
           "Scrypt"
          ],
          [
           "Scrypt"
          ],
          [
           "HybridScryptHash256"
          ],
          [
           "Scrypt"
          ],
          [
           "Scrypt"
          ],
          [
           "SHA-256"
          ],
          [
           "Scrypt"
          ],
          [
           "Scrypt"
          ],
          [
           "Scrypt"
          ],
          [
           "Scrypt"
          ],
          [
           "SHA-256"
          ],
          [
           "SHA-256"
          ],
          [
           "SHA-256"
          ],
          [
           "SHA-256"
          ],
          [
           "SHA-256"
          ],
          [
           "X11"
          ],
          [
           "Scrypt"
          ],
          [
           "Lyra2REv2"
          ],
          [
           "Scrypt"
          ],
          [
           "SHA-256"
          ],
          [
           "CryptoNight"
          ],
          [
           "CryptoNight"
          ],
          [
           "Scrypt"
          ],
          [
           "Scrypt"
          ],
          [
           "Scrypt"
          ],
          [
           "Scrypt"
          ],
          [
           "Scrypt"
          ],
          [
           "Scrypt"
          ],
          [
           "Stanford Folding"
          ],
          [
           "Multiple"
          ],
          [
           "QuBit"
          ],
          [
           "Scrypt"
          ],
          [
           "Scrypt"
          ],
          [
           "M7 POW"
          ],
          [
           "Scrypt"
          ],
          [
           "SHA-256"
          ],
          [
           "Scrypt"
          ],
          [
           "X11"
          ],
          [
           "Lyra2RE"
          ],
          [
           "SHA-256"
          ],
          [
           "X11"
          ],
          [
           "Scrypt"
          ],
          [
           "Scrypt"
          ],
          [
           "Ethash"
          ],
          [
           "Blake2b"
          ],
          [
           "X11"
          ],
          [
           "SHA-256"
          ],
          [
           "Scrypt"
          ],
          [
           "1GB AES Pattern Search"
          ],
          [
           "Scrypt"
          ],
          [
           "SHA-256"
          ],
          [
           "X11"
          ],
          [
           "Dagger"
          ],
          [
           "Scrypt"
          ],
          [
           "X11GOST"
          ],
          [
           "Scrypt"
          ],
          [
           "X11"
          ],
          [
           "Scrypt"
          ],
          [
           "X11"
          ],
          [
           "Equihash"
          ],
          [
           "CryptoNight"
          ],
          [
           "SHA-256"
          ],
          [
           "Multiple"
          ],
          [
           "Scrypt"
          ],
          [
           "SHA-256"
          ],
          [
           "Scrypt"
          ],
          [
           "Lyra2Z"
          ],
          [
           "Ethash"
          ],
          [
           "Equihash"
          ],
          [
           "Scrypt"
          ],
          [
           "X11"
          ],
          [
           "X11"
          ],
          [
           "CryptoNight"
          ],
          [
           "Scrypt"
          ],
          [
           "CryptoNight"
          ],
          [
           "Lyra2RE"
          ],
          [
           "X11"
          ],
          [
           "CryptoNight-V7"
          ],
          [
           "Scrypt"
          ],
          [
           "X11"
          ],
          [
           "Equihash"
          ],
          [
           "Scrypt"
          ],
          [
           "Lyra2RE"
          ],
          [
           "Dagger-Hashimoto"
          ],
          [
           "Scrypt"
          ],
          [
           "NIST5"
          ],
          [
           "Scrypt"
          ],
          [
           "SHA-256"
          ],
          [
           "Scrypt"
          ],
          [
           "CryptoNight-V7"
          ],
          [
           "Argon2d"
          ],
          [
           "Blake2b"
          ],
          [
           "Cloverhash"
          ],
          [
           "CryptoNight"
          ],
          [
           "X11"
          ],
          [
           "Scrypt"
          ],
          [
           "Scrypt"
          ],
          [
           "X11"
          ],
          [
           "X11"
          ],
          [
           "CryptoNight"
          ],
          [
           "Time Travel"
          ],
          [
           "Scrypt"
          ],
          [
           "Keccak"
          ],
          [
           "X11"
          ],
          [
           "SHA-256"
          ],
          [
           "Scrypt"
          ],
          [
           "Scrypt"
          ],
          [
           "Scrypt"
          ],
          [
           "Scrypt"
          ],
          [
           "Scrypt"
          ],
          [
           "Scrypt"
          ],
          [
           "CryptoNight"
          ],
          [
           "Equihash"
          ],
          [
           "X11"
          ],
          [
           "NeoScrypt"
          ],
          [
           "Equihash"
          ],
          [
           "Dagger"
          ],
          [
           "Scrypt"
          ],
          [
           "X11"
          ],
          [
           "NeoScrypt"
          ],
          [
           "Ethash"
          ],
          [
           "NeoScrypt"
          ],
          [
           "Multiple"
          ],
          [
           "CryptoNight"
          ],
          [
           "CryptoNight"
          ],
          [
           "Ethash"
          ],
          [
           "X11"
          ],
          [
           "CryptoNight-V7"
          ],
          [
           "Scrypt"
          ],
          [
           "BLAKE256"
          ],
          [
           "X11"
          ],
          [
           "NeoScrypt"
          ],
          [
           "NeoScrypt"
          ],
          [
           "Scrypt"
          ],
          [
           "X11"
          ],
          [
           "SHA-256"
          ],
          [
           "C11"
          ],
          [
           "CryptoNight"
          ],
          [
           "SkunkHash"
          ],
          [
           "CryptoNight"
          ],
          [
           "Scrypt"
          ],
          [
           "Dagger"
          ],
          [
           "Lyra2REv2"
          ],
          [
           "Scrypt"
          ],
          [
           "Scrypt"
          ],
          [
           "X11"
          ],
          [
           "Ethash"
          ],
          [
           "CryptoNight"
          ],
          [
           "Scrypt"
          ],
          [
           "IMesh"
          ],
          [
           "Equihash"
          ],
          [
           "Lyra2Z"
          ],
          [
           "X11"
          ],
          [
           "CryptoNight"
          ],
          [
           "NIST5"
          ],
          [
           "Lyra2RE"
          ],
          [
           "Tribus"
          ],
          [
           "Lyra2Z"
          ],
          [
           "CryptoNight"
          ],
          [
           "CryptoNight Heavy"
          ],
          [
           "CryptoNight"
          ],
          [
           "Jump Consistent Hash"
          ],
          [
           "CryptoNight"
          ],
          [
           "X16R"
          ],
          [
           "HMQ1725"
          ],
          [
           "X11"
          ],
          [
           "Scrypt"
          ],
          [
           "CryptoNight-V7"
          ],
          [
           "Cryptonight-GPU"
          ],
          [
           "XEVAN"
          ],
          [
           "CryptoNight Heavy"
          ],
          [
           "SHA-256"
          ],
          [
           "X11"
          ],
          [
           "X16R"
          ],
          [
           "Equihash"
          ],
          [
           "Lyra2Z"
          ],
          [
           "SHA-256"
          ],
          [
           "CryptoNight"
          ],
          [
           "Blake"
          ],
          [
           "Blake"
          ],
          [
           "Exosis"
          ],
          [
           "Scrypt"
          ],
          [
           "Equihash"
          ],
          [
           "Equihash"
          ],
          [
           "QuBit"
          ],
          [
           "SHA-256"
          ],
          [
           "X13"
          ],
          [
           "SHA-256"
          ],
          [
           "Scrypt"
          ],
          [
           "NeoScrypt"
          ],
          [
           "Blake"
          ],
          [
           "Scrypt"
          ],
          [
           "SHA-256"
          ],
          [
           "Scrypt"
          ],
          [
           "Groestl"
          ],
          [
           "Scrypt"
          ],
          [
           "Scrypt"
          ],
          [
           "Multiple"
          ],
          [
           "Equihash+Scrypt"
          ],
          [
           "Ethash"
          ],
          [
           "CryptoNight"
          ],
          [
           "Equihash"
          ]
         ],
         "hovertemplate": "<b>%{hovertext}</b><br><br>class=%{marker.color}<br>PC1=%{x}<br>PC2=%{y}<br>PC3=%{z}<br>Algorithm=%{customdata[0]}<extra></extra>",
         "hovertext": [
          "Bitcoin",
          "Ethereum",
          "Litecoin",
          "Monero",
          "Ethereum Classic",
          "ZCash",
          "DigiByte",
          "ProsperCoin",
          "Spreadcoin",
          "Argentum",
          "MyriadCoin",
          "MoonCoin",
          "ZetaCoin",
          "SexCoin",
          "Quatloo",
          "QuarkCoin",
          "Riecoin",
          "Digitalcoin ",
          "Catcoin",
          "CannaCoin",
          "CryptCoin",
          "Verge",
          "DevCoin",
          "EarthCoin",
          "E-Gulden",
          "Einsteinium",
          "Emerald",
          "Franko",
          "FeatherCoin",
          "GrandCoin",
          "GlobalCoin",
          "GoldCoin",
          "Infinite Coin",
          "IXcoin",
          "KrugerCoin",
          "LuckyCoin",
          "Litebar ",
          "MegaCoin",
          "MediterraneanCoin",
          "MinCoin",
          "NobleCoin",
          "Namecoin",
          "NyanCoin",
          "RonPaulCoin",
          "StableCoin",
          "SmartCoin",
          "SysCoin",
          "TigerCoin",
          "TerraCoin",
          "UnbreakableCoin",
          "Unobtanium",
          "UroCoin",
          "ViaCoin",
          "Vertcoin",
          "WorldCoin",
          "JouleCoin",
          "ByteCoin",
          "DigitalNote ",
          "MonaCoin",
          "Gulden",
          "PesetaCoin",
          "Wild Beast Coin",
          "Flo",
          "ArtByte",
          "Folding Coin",
          "Unitus",
          "CypherPunkCoin",
          "OmniCron",
          "GreenCoin",
          "Cryptonite",
          "MasterCoin",
          "SoonCoin",
          "1Credit",
          "MarsCoin ",
          "Crypto",
          "Anarchists Prime",
          "BowsCoin",
          "Song Coin",
          "BitZeny",
          "Expanse",
          "Siacoin",
          "MindCoin",
          "I0coin",
          "Revolution VR",
          "HOdlcoin",
          "Gamecredits",
          "CarpeDiemCoin",
          "Adzcoin",
          "SoilCoin",
          "YoCoin",
          "SibCoin",
          "Francs",
          "BolivarCoin",
          "Omni",
          "PizzaCoin",
          "Komodo",
          "Karbo",
          "ZayedCoin",
          "Circuits of Value",
          "DopeCoin",
          "DollarCoin",
          "Shilling",
          "ZCoin",
          "Elementrem",
          "ZClassic",
          "KiloCoin",
          "ArtexCoin",
          "Kurrent",
          "Cannabis Industry Coin",
          "OsmiumCoin",
          "Bikercoins",
          "HexxCoin",
          "PacCoin",
          "Citadel",
          "BeaverCoin",
          "VaultCoin",
          "Zero",
          "Canada eCoin",
          "Zoin",
          "DubaiCoin",
          "EB3coin",
          "Coinonat",
          "BenjiRolls",
          "ILCoin",
          "EquiTrader",
          "Quantum Resistant Ledger",
          "Dynamic",
          "Nano",
          "ChanCoin",
          "Dinastycoin",
          "DigitalPrice",
          "Unify",
          "SocialCoin",
          "ArcticCoin",
          "DAS",
          "LeviarCoin",
          "Bitcore",
          "gCn Coin",
          "SmartCash",
          "Onix",
          "Bitcoin Cash",
          "Sojourn Coin",
          "NewYorkCoin",
          "FrazCoin",
          "Kronecoin",
          "AdCoin",
          "Linx",
          "Sumokoin",
          "BitcoinZ",
          "Elements",
          "VIVO Coin",
          "Bitcoin Gold",
          "Pirl",
          "eBoost",
          "Pura",
          "Innova",
          "Ellaism",
          "GoByte",
          "SHIELD",
          "UltraNote",
          "BitCoal",
          "DaxxCoin",
          "AC3",
          "Lethean",
          "PopularCoin",
          "Photon",
          "Sucre",
          "SparksPay",
          "GunCoin",
          "IrishCoin",
          "Pioneer Coin",
          "UnitedBitcoin",
          "Interzone",
          "TurtleCoin",
          "MUNcoin",
          "Niobio Cash",
          "ShareChain",
          "Travelflex",
          "KREDS",
          "BitFlip",
          "LottoCoin",
          "Crypto Improvement Fund",
          "Callisto Network",
          "BitTube",
          "Poseidon",
          "Aidos Kuneen",
          "Bitrolium",
          "Alpenschillling",
          "FuturoCoin",
          "Monero Classic",
          "Jumpcoin",
          "Infinex",
          "KEYCO",
          "GINcoin",
          "PlatinCoin",
          "Loki",
          "Newton Coin",
          "MassGrid",
          "PluraCoin",
          "Motion",
          "PlusOneCoin",
          "Axe",
          "HexCoin",
          "Webchain",
          "Ryo",
          "Urals Coin",
          "Qwertycoin",
          "Project Pai",
          "Azart",
          "Xchange",
          "CrypticCoin",
          "Actinium",
          "Bitcoin SV",
          "FREDEnergy",
          "Universal Molecule",
          "Lithium",
          "Exosis",
          "Block-Logic",
          "Beam",
          "Bithereum",
          "SLICE",
          "BLAST",
          "Bitcoin Rhodium",
          "GlobalToken",
          "SolarCoin",
          "UFO Coin",
          "BlakeCoin",
          "Crypto Escudo",
          "Crown Coin",
          "SmileyCoin",
          "Groestlcoin",
          "Bata",
          "Pakcoin",
          "JoinCoin",
          "Vollar",
          "Reality Clash",
          "Beldex",
          "Horizen"
         ],
         "legendgroup": "1",
         "marker": {
          "color": [
           1,
           1,
           1,
           1,
           1,
           1,
           1,
           1,
           1,
           1,
           1,
           1,
           1,
           1,
           1,
           1,
           1,
           1,
           1,
           1,
           1,
           1,
           1,
           1,
           1,
           1,
           1,
           1,
           1,
           1,
           1,
           1,
           1,
           1,
           1,
           1,
           1,
           1,
           1,
           1,
           1,
           1,
           1,
           1,
           1,
           1,
           1,
           1,
           1,
           1,
           1,
           1,
           1,
           1,
           1,
           1,
           1,
           1,
           1,
           1,
           1,
           1,
           1,
           1,
           1,
           1,
           1,
           1,
           1,
           1,
           1,
           1,
           1,
           1,
           1,
           1,
           1,
           1,
           1,
           1,
           1,
           1,
           1,
           1,
           1,
           1,
           1,
           1,
           1,
           1,
           1,
           1,
           1,
           1,
           1,
           1,
           1,
           1,
           1,
           1,
           1,
           1,
           1,
           1,
           1,
           1,
           1,
           1,
           1,
           1,
           1,
           1,
           1,
           1,
           1,
           1,
           1,
           1,
           1,
           1,
           1,
           1,
           1,
           1,
           1,
           1,
           1,
           1,
           1,
           1,
           1,
           1,
           1,
           1,
           1,
           1,
           1,
           1,
           1,
           1,
           1,
           1,
           1,
           1,
           1,
           1,
           1,
           1,
           1,
           1,
           1,
           1,
           1,
           1,
           1,
           1,
           1,
           1,
           1,
           1,
           1,
           1,
           1,
           1,
           1,
           1,
           1,
           1,
           1,
           1,
           1,
           1,
           1,
           1,
           1,
           1,
           1,
           1,
           1,
           1,
           1,
           1,
           1,
           1,
           1,
           1,
           1,
           1,
           1,
           1,
           1,
           1,
           1,
           1,
           1,
           1,
           1,
           1,
           1,
           1,
           1,
           1,
           1,
           1,
           1,
           1,
           1,
           1,
           1,
           1,
           1,
           1,
           1,
           1,
           1,
           1,
           1,
           1,
           1,
           1,
           1,
           1,
           1,
           1,
           1,
           1,
           1,
           1,
           1,
           1,
           1,
           1,
           1,
           1,
           1,
           1,
           1,
           1
          ],
          "coloraxis": "coloraxis",
          "symbol": "diamond"
         },
         "mode": "markers",
         "name": "1",
         "scene": "scene",
         "showlegend": true,
         "type": "scatter3d",
         "x": [
          -0.13939242356454745,
          -0.14390642939762893,
          -0.16795751764698827,
          -0.13966937885532124,
          -0.14234899590743214,
          -0.1451476675694053,
          0.1678919682852446,
          -0.16910343228827546,
          -0.2291927909810789,
          -0.16872009846797986,
          -0.08543767795798202,
          2.5518034852728952,
          -0.13647817712572757,
          -0.16597630543163538,
          -0.1685242040574477,
          -0.22178240991386183,
          -0.20339603511495385,
          -0.16857292145527314,
          -0.16908570256816158,
          -0.1691721307862396,
          -0.2292821102417184,
          0.1916390861817096,
          0.23834634456147544,
          0.07948745095168923,
          -0.16891849305691434,
          -0.1645250891303034,
          -0.1688578102961664,
          -0.16922911851832736,
          -0.17722014807009354,
          -0.14845758645610246,
          -0.16802456133754207,
          -0.16830194414308206,
          1.5791863518106561,
          -0.13935380227876398,
          -0.16559214345203677,
          -0.16894492749402493,
          -0.16929964087153937,
          -0.16855910174855737,
          -0.14497816780621678,
          -0.16918094281224094,
          -0.0341306979549525,
          -0.13943139416931008,
          -0.162846644696349,
          -0.16916039802439628,
          -0.1672553760556992,
          -0.16864728873625762,
          -0.12658726086678268,
          -0.13889531208643083,
          -0.13918244395280305,
          -0.1391654635963389,
          -0.139755963714434,
          -0.2294559483299691,
          -0.16887695718398704,
          -0.18515912782592023,
          -0.16598103069040765,
          -0.1389625890722606,
          3.8608207141545847,
          0.46074830574144204,
          -0.1677448897235881,
          -0.15234876010346457,
          -0.16646406472043107,
          -0.1693018506825121,
          -0.16632913137841676,
          -0.15255675701448865,
          -0.15753777885184625,
          -0.11943447990750847,
          -0.17624300552184796,
          -0.16917495940476276,
          -0.042151531566060316,
          -0.09961604682279117,
          -0.1693107394697961,
          -0.13945916503428726,
          0.4826148626231111,
          -0.22884330810334488,
          -0.14889105302450445,
          -0.13919911618607322,
          -0.22912812890211684,
          -0.16743514163159987,
          -0.16662760928512516,
          -0.14497364560905723,
          0.3645475997355699,
          -0.22916351311891248,
          -0.13935492436116306,
          -0.1652697394952712,
          -0.14469937527139862,
          -0.1678745040794111,
          0.27901103893726303,
          -0.2283244914943979,
          -0.16119972712689853,
          -0.1681219397056326,
          -0.14659341941812945,
          -0.16910071723054712,
          -0.2291267727318963,
          -0.1693107979481579,
          -0.229276707965093,
          -0.24053996583247925,
          0.30569827834169255,
          -0.1396149379498919,
          -0.09951270014091196,
          -0.16647835013321685,
          -0.1395735782479055,
          -0.16897430267382868,
          -0.1583985052005766,
          -0.14471587177586237,
          -0.14516927947519442,
          -0.09606254450141054,
          -0.2158636176049451,
          -0.2271055445971961,
          0.3056926344012154,
          -0.16929254190450466,
          0.30582331588102724,
          -0.149431322331538,
          0.48571435846129635,
          -0.13843453216334706,
          -0.1692608371345255,
          -0.22201331324606918,
          -0.14518164798212066,
          -0.16739462886301767,
          -0.14914977871463517,
          -0.1690587548590397,
          -0.14019479227167486,
          -0.18773186886335072,
          -0.16882334564949655,
          -0.10595018411463247,
          -0.16864548363823986,
          -0.13829223447878602,
          -0.15008965784894338,
          -0.035660453082502375,
          -0.14885608810414974,
          0.3418043774874882,
          -0.22833289654012437,
          -0.16896462453112987,
          -0.16872810856749518,
          -0.22872744884957144,
          -0.22930472873038457,
          0.3060875000962403,
          -0.1676184163275179,
          3.23940656260082,
          -0.11708377491002422,
          -0.22017994207561764,
          -0.1393915879806264,
          -0.09491097512254626,
          1.5772966292932902,
          -0.16906244939993847,
          -0.16851427713823863,
          -0.16821533704547306,
          -0.1682022710800622,
          0.3062710366843096,
          0.06707636272530065,
          -0.1837040242205633,
          -0.18190750797706368,
          -0.14502773926108986,
          -0.1599592253341066,
          -0.1673928384439223,
          -0.22485049773247523,
          -0.18175297195464826,
          -0.14308167846785075,
          -0.1818531420259776,
          -0.10966917962402369,
          1.1433634688901515,
          0.30567541539748283,
          -0.06799704835109185,
          -0.22459230362353821,
          -0.12740765344027025,
          -0.08547450054508245,
          1.096619067939068,
          -0.22927873428546588,
          -0.18190506210126017,
          -0.17494499597731328,
          -0.16831366595257866,
          -0.2292041621938658,
          -0.13937098956919755,
          -0.20519805800323598,
          8.040822583366928,
          -0.13688546241663074,
          0.3095486489377954,
          0.023675198518581315,
          -0.15946251096099487,
          -0.17072147658707396,
          -0.16888723388885696,
          0.13810040390640402,
          -0.22334687216449972,
          -0.09613668309821197,
          0.31359582364703514,
          -0.1691241720459205,
          -0.15622253250853035,
          -0.14401911188038954,
          -0.15618278299297672,
          -0.22837365934276016,
          0.30585788585407303,
          -0.1877912927747834,
          -0.1492766115187599,
          -0.16038426774922487,
          -0.15848285232479498,
          0.30978466914265107,
          0.5646841554162443,
          2.113756419020105,
          -0.14213363029671616,
          0.3194587651306799,
          -0.19004290597211806,
          -0.15227743130771537,
          -0.22926089975414266,
          -0.16914874904171623,
          -0.12728821062892,
          -0.13936038459429018,
          -0.1333561522175698,
          3.0864850218655473,
          -0.09923063142730754,
          -0.22923227560250972,
          -0.18947083139200804,
          -0.03980539701208547,
          -0.15788081076450142,
          -0.13939162553721052,
          0.3855922244103248,
          -0.1377843628605221,
          -0.1381762252486549,
          -0.15559330836410534,
          -0.1680413926188435,
          -0.14308851120116706,
          -0.1448606061434555,
          -0.17545425202689782,
          -0.13866797610049678,
          -0.1184111747766718,
          -0.1375362723511371,
          0.5265186537492997,
          -0.10709177447854153,
          -0.08865941619079841,
          -0.15270730761994944,
          -0.13918181455220835,
          0.5463153518414522,
          -0.20295715700537828,
          -0.16922555442487625,
          -0.16718190211672543,
          -0.12016919446608976,
          -0.1302681414184038,
          -0.1447490209963783,
          0.3274261977090033,
          -0.1451487242681731
         ],
         "y": [
          -1.3651810359246563,
          -2.038237798291767,
          -1.1272232815773777,
          -2.18136768793813,
          -2.038341417667374,
          -2.0224167120343983,
          -1.8055094466466917,
          -1.1272103345309041,
          -0.9031157302368437,
          -1.127229829831853,
          -1.7991389104419113,
          -1.320064724404345,
          -1.3652060613609722,
          -1.1272851428370563,
          -1.127249493241971,
          -0.45055271463315794,
          -1.2370842085656817,
          -1.127214944936695,
          -1.1272098606800895,
          -1.1272067343198269,
          -0.9031167341400007,
          -1.8018004435452675,
          -1.3695953204524995,
          -1.129888989366652,
          -1.127205391779134,
          -1.127280795449859,
          -1.1272113779637498,
          -1.12720694038691,
          -1.6318056432384942,
          -1.1276265689477838,
          -1.1272153904844155,
          -1.127224357126654,
          -1.143132761990641,
          -1.3651800037184212,
          -1.1272855411923905,
          -1.1272054066377073,
          -1.127201987792379,
          -1.1272103109487963,
          -2.2920945038730585,
          -1.1272047980910818,
          -1.1339630448964648,
          -1.365182077466925,
          -1.1272616708814474,
          -1.1272118570174583,
          -1.1273193277341431,
          -1.1272190309316397,
          -1.365438450392007,
          -1.3651857408015746,
          -1.365189948324546,
          -1.365215776730617,
          -1.365176400547817,
          -0.9031089307217118,
          -1.1272056649518165,
          -1.250026189243227,
          -1.1272959347312401,
          -1.365186147317525,
          -2.3302586677982244,
          -2.3004622753907533,
          -1.127232206194059,
          -1.127909969986928,
          -1.1272403482785385,
          -1.1272029307654383,
          -1.1272323252042102,
          -1.1274452154126262,
          -2.3073968094029325,
          -1.7986642458628728,
          -1.5275244397978145,
          -1.1272000535437767,
          -1.1307192245095952,
          -2.2697915942994253,
          -1.1272017791609803,
          -1.3651828196809537,
          -1.173408414846838,
          -0.9031153811218837,
          -2.204513556367503,
          -1.3651985275708671,
          -0.903114693692698,
          -1.127296632701638,
          -1.1273025498158302,
          -2.038278014192354,
          -2.198109543178019,
          -0.9031121811958366,
          -1.365180033707595,
          -1.127238593399829,
          -2.2124468925098757,
          -1.1272210629272066,
          -1.368941660147887,
          -0.9031367885624348,
          -2.186779519108797,
          -1.1272860165112983,
          -2.276066488875473,
          -1.1272095703296958,
          -0.9031174239976442,
          -1.1272017786282316,
          -0.9031214312200913,
          -1.3410970857517834,
          -2.29769673794013,
          -1.3651791923173577,
          -1.798961774411248,
          -1.1272639787821435,
          -1.3651787109864615,
          -1.1272131081053116,
          -2.2597721546880143,
          -2.0382775564734072,
          -2.0224172896418904,
          -1.13216006944369,
          -0.903091476053635,
          -0.9032038063691221,
          -2.2977044967957885,
          -1.1272027416543633,
          -2.297703770706446,
          -2.2044894099570396,
          -0.9531587952257615,
          -2.1814626379431927,
          -1.1272023409014755,
          -0.9036016538140668,
          -2.0224148536565774,
          -1.1272193038129852,
          -2.204489493336438,
          -2.203139682231695,
          -1.1291897379654674,
          -0.6914177056284043,
          -1.127212891690365,
          -1.3660018163530996,
          -1.1272333687502054,
          -2.181403503835905,
          -2.2308141099925223,
          -2.209040998228968,
          -2.153588970964684,
          -2.2981081123149125,
          -0.9031480794004179,
          -1.127205432875418,
          -1.1272376519263205,
          -0.9031309588416315,
          -0.9031179611236332,
          -2.2977167675156607,
          -2.2587644493059043,
          -1.1744262796668274,
          -1.175291772705851,
          -0.9036218182440002,
          -1.3651810135925477,
          -1.1324751109945843,
          -1.0805209000508444,
          -1.127208547570024,
          -1.1272381617298555,
          -1.1272412383521948,
          -1.1272408891465493,
          -2.297735992718497,
          -2.031254602399662,
          -0.9031310961971724,
          -1.6317172032678933,
          -2.022413506787714,
          -2.1868337235025854,
          -1.1272192559616072,
          -0.9032279169716441,
          -1.6317255225600695,
          -2.0384094142350553,
          -1.631719070124641,
          -1.7988597357908855,
          -2.3340912800451283,
          -2.2976990780773425,
          -2.043125393221757,
          -0.9033593439056383,
          -2.181731255702767,
          -1.1284189015660266,
          -1.2542303478010053,
          -0.9031178888606868,
          -1.6317129880728938,
          -1.63185826528109,
          -1.1272189673716804,
          -0.9031181090607525,
          -1.3651798862463014,
          -1.2714514209893986,
          -2.782595742814593,
          -2.1614451016555525,
          -2.2978193054245235,
          -1.1289599158747476,
          -2.186781504283373,
          -1.250343027244031,
          -1.1272176974500374,
          -1.1317163305106934,
          -0.9032914761804294,
          -2.0414567314929593,
          -2.2981703865637884,
          -1.1272108888290546,
          -2.133001622875655,
          -2.022420440095898,
          -2.2599056267448314,
          -0.9031491688416003,
          -2.297698281968817,
          -0.6914004453049183,
          -2.2044965349617107,
          -2.147987871002008,
          -2.2597668701293645,
          -2.2979955901513933,
          -2.2115927255404175,
          -2.3766283356678266,
          -2.144562047974294,
          -2.2980136915013953,
          -1.2264037769131844,
          -2.228478853565389,
          -0.9031182421737808,
          -1.127212310124056,
          -2.1822471502411127,
          -2.290494464890058,
          -0.4012144848338192,
          -2.271676821364334,
          -1.3655455721511331,
          -0.9031202437049427,
          -1.2264423828206925,
          -2.024843218425359,
          -2.259801615116416,
          -1.365181014596298,
          -2.3011429793815403,
          -2.226729095235814,
          -2.2266843125300917,
          -2.19455478841074,
          -1.1272504222036632,
          -2.02252891626161,
          -2.0224158774578793,
          -1.527572523051823,
          -1.365191414500867,
          -0.3906841886437436,
          -1.3652330984946557,
          -1.1764540158995604,
          -1.6324655275449116,
          -2.2301849227271098,
          -1.1274492390817321,
          -1.3651899315029616,
          -1.1426571533225742,
          -1.237087003342783,
          -1.1272025322088877,
          -1.1272703326860964,
          -1.7986858186911647,
          -2.15752458194372,
          -2.0382772544779835,
          -2.298077560069292,
          -2.022416740276106
         ],
         "z": [
          0.1584535053092675,
          0.43319072934405606,
          -0.0059935466142576,
          0.4154239739662606,
          0.43316996804379926,
          0.39857209312903363,
          0.3927510789108804,
          -0.005967990800708475,
          0.05378154758073865,
          -0.005974076768780516,
          0.39783092456119395,
          -0.040318006261211764,
          0.15838722943535505,
          -0.006031319049288443,
          -0.005975611244928719,
          0.05798788140136356,
          0.14740248221154245,
          -0.00598004679808726,
          -0.0059684957035920925,
          -0.005966917395589672,
          0.05378386651851905,
          0.39157547257081476,
          0.15005308180326082,
          -0.011533103880202766,
          -0.005973257457520331,
          -0.00606705287897748,
          -0.005973749851723262,
          -0.005965508424209822,
          0.2600221148566298,
          -0.006398709417167554,
          -0.005993210088274231,
          -0.005985058567729453,
          -0.04557994148459979,
          0.1584524054611918,
          -0.006040526787325537,
          -0.005972617001482395,
          -0.005964610655076987,
          -0.0059811330272020015,
          0.3614299997743275,
          -0.005967019189342737,
          -0.00812900576321563,
          0.15845461510516995,
          -0.006110671420466224,
          -0.005966368543602911,
          -0.005994893970815457,
          -0.00597758815100189,
          0.15818623968375314,
          0.15844227080963955,
          0.15844988465145102,
          0.158453669924045,
          0.1584615271131454,
          0.05378679495966982,
          -0.005974215630997106,
          0.2372902872591959,
          -0.006029452146169457,
          0.158443960688139,
          0.32759127950501404,
          0.4048185242375434,
          -0.005997229209552896,
          -0.006258758133144389,
          -0.006026821762992946,
          -0.005964404156918957,
          -0.006031381752613094,
          -0.006329224528863784,
          0.14281483485758217,
          0.3985744021119775,
          0.34183360637992455,
          -0.0059679342326637245,
          -0.008462279163634349,
          0.41835697910668307,
          -0.005964376656966218,
          0.15845540595746307,
          -0.014194758439624092,
          0.0537730554788983,
          0.333479862486244,
          0.15845168053164696,
          0.053779818486725445,
          -0.005994241197919636,
          -0.006012771368240288,
          0.4332230205083333,
          0.41630322129978875,
          0.053780264461445564,
          0.15845243741559575,
          -0.006055933982010505,
          0.5131572001673792,
          -0.005995910655506409,
          0.14896539690671673,
          0.0537640099653553,
          0.3718802262587262,
          -0.005979388403798113,
          0.3737371634368325,
          -0.005968180457267147,
          0.05378022921710372,
          -0.005964375332016337,
          0.05378449903812248,
          0.48569741446495995,
          0.4081117488613655,
          0.15845857665001103,
          0.3981418795831026,
          -0.006022638824488079,
          0.15845750018009475,
          -0.005970657084178181,
          0.3830663959775169,
          0.43321672432939295,
          0.3985727085879066,
          -0.006927013760939282,
          0.05345588458276735,
          0.05374547371544685,
          0.40811314530367504,
          -0.005964659556976994,
          0.4081098731376897,
          0.3334889809278514,
          0.044654116804575504,
          0.4154095907742424,
          -0.0059654899000390945,
          0.05368718308321228,
          0.3985726114643151,
          -0.006007779027007454,
          0.33348219890919634,
          0.4022438143457025,
          -0.006344252401054245,
          -0.041749356251645296,
          -0.0059743358541021726,
          0.1577796302535354,
          -0.005975302930544562,
          0.41539655143194787,
          0.4255434965489101,
          0.4277384805632394,
          0.3639341987907896,
          0.4073070798534066,
          0.05376604672663576,
          -0.005972137316474469,
          -0.005972612943538968,
          0.05377278918556764,
          0.05378461174662013,
          0.4081056075558288,
          0.19276286058763065,
          -0.08056955798001175,
          0.14828745692710982,
          0.05364620653854873,
          0.15845348151370173,
          -0.00690363900317264,
          -0.055703928393439586,
          -0.005969270239728465,
          -0.005977691345771422,
          -0.005984407088518026,
          -0.005984779178069931,
          0.40810430018305627,
          0.3948851601844688,
          0.05268609019489562,
          0.2601208880408389,
          0.3985686778383068,
          0.37185908855127026,
          -0.006007830014149896,
          0.05369496021848355,
          0.26011850927947094,
          0.43319869685283274,
          0.26011987904110995,
          0.3983704510693095,
          0.3938044997027793,
          0.4081126807914474,
          0.4321523771869936,
          0.053710074980213886,
          0.4151870669005633,
          -0.007790226488459723,
          0.09189866308213573,
          0.05378397258680139,
          0.2601201443611293,
          0.2599757469939684,
          -0.00598565106029262,
          0.0537822084208268,
          0.1584528012271874,
          0.07690353684844636,
          0.30016930839040556,
          0.40024828570886595,
          0.4080387210079643,
          -0.01033687761335537,
          0.3718386178610138,
          0.2369932703289894,
          -0.0059720132312687055,
          -0.012651030872974738,
          0.053668990981614255,
          0.4325605490244751,
          0.4079980587787512,
          -0.005967400178669746,
          0.44146122903314533,
          0.39854545893094095,
          0.3830345944539091,
          0.05376720756033542,
          0.40810814723267974,
          -0.041750725420106445,
          0.333486403967991,
          0.5383109700433573,
          0.3830675735137862,
          0.40806165690851715,
          0.36447953865061733,
          0.37729131215587663,
          0.576794841163346,
          0.40783109528228245,
          0.2632300371726382,
          0.3089692022025088,
          0.053783599504452724,
          -0.005966576117866158,
          0.4152679770087853,
          0.5079990720418605,
          0.19852542783298807,
          0.31337037254531874,
          0.15754333727248324,
          0.05378323370354022,
          0.2632224996066951,
          0.3964235881852771,
          0.38305868553909034,
          0.1584534825832295,
          0.4067431132831135,
          0.35134421060503956,
          0.35134639517239086,
          0.4296902310074647,
          -0.005987113882407968,
          0.3985406162213712,
          0.3985650288310956,
          0.3418223782166941,
          0.15843770518545816,
          -0.11794014302645364,
          0.1584171599149961,
          -0.014759780086814167,
          0.25843662078488483,
          0.3507197971402009,
          -0.0063249371834156074,
          0.1584498667275259,
          -0.020726992645481876,
          0.14739234303505327,
          -0.005966310438970306,
          -0.006004625313099494,
          0.39859563968962003,
          0.3725615336623596,
          0.43321747539446287,
          0.40764916068903484,
          0.3985721232214577
         ]
        },
        {
         "customdata": [
          [
           "VeChainThor Authority"
          ],
          [
           "Proof-of-BibleHash"
          ],
          [
           "SHA-256 + Hive"
          ],
          [
           "Proof-of-Authority"
          ],
          [
           "ECC 256K1"
          ],
          [
           "Leased POS"
          ]
         ],
         "hovertemplate": "<b>%{hovertext}</b><br><br>class=%{marker.color}<br>PC1=%{x}<br>PC2=%{y}<br>PC3=%{z}<br>Algorithm=%{customdata[0]}<extra></extra>",
         "hovertext": [
          "Vechain",
          "BiblePay",
          "LitecoinCash",
          "Poa Network",
          "Acute Angle Cloud",
          "Waves"
         ],
         "legendgroup": "3",
         "marker": {
          "color": [
           3,
           3,
           3,
           3,
           3,
           3
          ],
          "coloraxis": "coloraxis",
          "symbol": "square"
         },
         "mode": "markers",
         "name": "3",
         "scene": "scene",
         "showlegend": true,
         "type": "scatter3d",
         "x": [
          4.439605069591454,
          -0.21557840483277085,
          -0.3612365959544272,
          -0.41243910318715243,
          -0.3783223365429942,
          -0.40356069059822264
         ],
         "y": [
          2.944376660412898,
          3.4357848931159194,
          3.3400274025668035,
          3.125006556812442,
          2.1975493868149427,
          3.1323948943537876
         ],
         "z": [
          6.162007963176642,
          14.172483427854253,
          11.07894256229144,
          13.056145773845648,
          16.289296239934657,
          13.98547670868166
         ]
        },
        {
         "customdata": [
          [
           "TRC10"
          ]
         ],
         "hovertemplate": "<b>%{hovertext}</b><br><br>class=%{marker.color}<br>PC1=%{x}<br>PC2=%{y}<br>PC3=%{z}<br>Algorithm=%{customdata[0]}<extra></extra>",
         "hovertext": [
          "BitTorrent"
         ],
         "legendgroup": "2",
         "marker": {
          "color": [
           2
          ],
          "coloraxis": "coloraxis",
          "symbol": "x"
         },
         "mode": "markers",
         "name": "2",
         "scene": "scene",
         "showlegend": true,
         "type": "scatter3d",
         "x": [
          34.056514912924335
         ],
         "y": [
          1.5622640959802774
         ],
         "z": [
          -0.9542996269233693
         ]
        }
       ],
       "layout": {
        "coloraxis": {
         "colorbar": {
          "title": {
           "text": "class"
          }
         },
         "colorscale": [
          [
           0,
           "#0d0887"
          ],
          [
           0.1111111111111111,
           "#46039f"
          ],
          [
           0.2222222222222222,
           "#7201a8"
          ],
          [
           0.3333333333333333,
           "#9c179e"
          ],
          [
           0.4444444444444444,
           "#bd3786"
          ],
          [
           0.5555555555555556,
           "#d8576b"
          ],
          [
           0.6666666666666666,
           "#ed7953"
          ],
          [
           0.7777777777777778,
           "#fb9f3a"
          ],
          [
           0.8888888888888888,
           "#fdca26"
          ],
          [
           1,
           "#f0f921"
          ]
         ]
        },
        "legend": {
         "title": {
          "text": "class"
         },
         "tracegroupgap": 0,
         "x": 0,
         "y": 1
        },
        "margin": {
         "t": 60
        },
        "scene": {
         "domain": {
          "x": [
           0,
           1
          ],
          "y": [
           0,
           1
          ]
         },
         "xaxis": {
          "title": {
           "text": "PC1"
          }
         },
         "yaxis": {
          "title": {
           "text": "PC2"
          }
         },
         "zaxis": {
          "title": {
           "text": "PC3"
          }
         }
        },
        "template": {
         "data": {
          "bar": [
           {
            "error_x": {
             "color": "#2a3f5f"
            },
            "error_y": {
             "color": "#2a3f5f"
            },
            "marker": {
             "line": {
              "color": "#E5ECF6",
              "width": 0.5
             }
            },
            "type": "bar"
           }
          ],
          "barpolar": [
           {
            "marker": {
             "line": {
              "color": "#E5ECF6",
              "width": 0.5
             }
            },
            "type": "barpolar"
           }
          ],
          "carpet": [
           {
            "aaxis": {
             "endlinecolor": "#2a3f5f",
             "gridcolor": "white",
             "linecolor": "white",
             "minorgridcolor": "white",
             "startlinecolor": "#2a3f5f"
            },
            "baxis": {
             "endlinecolor": "#2a3f5f",
             "gridcolor": "white",
             "linecolor": "white",
             "minorgridcolor": "white",
             "startlinecolor": "#2a3f5f"
            },
            "type": "carpet"
           }
          ],
          "choropleth": [
           {
            "colorbar": {
             "outlinewidth": 0,
             "ticks": ""
            },
            "type": "choropleth"
           }
          ],
          "contour": [
           {
            "colorbar": {
             "outlinewidth": 0,
             "ticks": ""
            },
            "colorscale": [
             [
              0,
              "#0d0887"
             ],
             [
              0.1111111111111111,
              "#46039f"
             ],
             [
              0.2222222222222222,
              "#7201a8"
             ],
             [
              0.3333333333333333,
              "#9c179e"
             ],
             [
              0.4444444444444444,
              "#bd3786"
             ],
             [
              0.5555555555555556,
              "#d8576b"
             ],
             [
              0.6666666666666666,
              "#ed7953"
             ],
             [
              0.7777777777777778,
              "#fb9f3a"
             ],
             [
              0.8888888888888888,
              "#fdca26"
             ],
             [
              1,
              "#f0f921"
             ]
            ],
            "type": "contour"
           }
          ],
          "contourcarpet": [
           {
            "colorbar": {
             "outlinewidth": 0,
             "ticks": ""
            },
            "type": "contourcarpet"
           }
          ],
          "heatmap": [
           {
            "colorbar": {
             "outlinewidth": 0,
             "ticks": ""
            },
            "colorscale": [
             [
              0,
              "#0d0887"
             ],
             [
              0.1111111111111111,
              "#46039f"
             ],
             [
              0.2222222222222222,
              "#7201a8"
             ],
             [
              0.3333333333333333,
              "#9c179e"
             ],
             [
              0.4444444444444444,
              "#bd3786"
             ],
             [
              0.5555555555555556,
              "#d8576b"
             ],
             [
              0.6666666666666666,
              "#ed7953"
             ],
             [
              0.7777777777777778,
              "#fb9f3a"
             ],
             [
              0.8888888888888888,
              "#fdca26"
             ],
             [
              1,
              "#f0f921"
             ]
            ],
            "type": "heatmap"
           }
          ],
          "heatmapgl": [
           {
            "colorbar": {
             "outlinewidth": 0,
             "ticks": ""
            },
            "colorscale": [
             [
              0,
              "#0d0887"
             ],
             [
              0.1111111111111111,
              "#46039f"
             ],
             [
              0.2222222222222222,
              "#7201a8"
             ],
             [
              0.3333333333333333,
              "#9c179e"
             ],
             [
              0.4444444444444444,
              "#bd3786"
             ],
             [
              0.5555555555555556,
              "#d8576b"
             ],
             [
              0.6666666666666666,
              "#ed7953"
             ],
             [
              0.7777777777777778,
              "#fb9f3a"
             ],
             [
              0.8888888888888888,
              "#fdca26"
             ],
             [
              1,
              "#f0f921"
             ]
            ],
            "type": "heatmapgl"
           }
          ],
          "histogram": [
           {
            "marker": {
             "colorbar": {
              "outlinewidth": 0,
              "ticks": ""
             }
            },
            "type": "histogram"
           }
          ],
          "histogram2d": [
           {
            "colorbar": {
             "outlinewidth": 0,
             "ticks": ""
            },
            "colorscale": [
             [
              0,
              "#0d0887"
             ],
             [
              0.1111111111111111,
              "#46039f"
             ],
             [
              0.2222222222222222,
              "#7201a8"
             ],
             [
              0.3333333333333333,
              "#9c179e"
             ],
             [
              0.4444444444444444,
              "#bd3786"
             ],
             [
              0.5555555555555556,
              "#d8576b"
             ],
             [
              0.6666666666666666,
              "#ed7953"
             ],
             [
              0.7777777777777778,
              "#fb9f3a"
             ],
             [
              0.8888888888888888,
              "#fdca26"
             ],
             [
              1,
              "#f0f921"
             ]
            ],
            "type": "histogram2d"
           }
          ],
          "histogram2dcontour": [
           {
            "colorbar": {
             "outlinewidth": 0,
             "ticks": ""
            },
            "colorscale": [
             [
              0,
              "#0d0887"
             ],
             [
              0.1111111111111111,
              "#46039f"
             ],
             [
              0.2222222222222222,
              "#7201a8"
             ],
             [
              0.3333333333333333,
              "#9c179e"
             ],
             [
              0.4444444444444444,
              "#bd3786"
             ],
             [
              0.5555555555555556,
              "#d8576b"
             ],
             [
              0.6666666666666666,
              "#ed7953"
             ],
             [
              0.7777777777777778,
              "#fb9f3a"
             ],
             [
              0.8888888888888888,
              "#fdca26"
             ],
             [
              1,
              "#f0f921"
             ]
            ],
            "type": "histogram2dcontour"
           }
          ],
          "mesh3d": [
           {
            "colorbar": {
             "outlinewidth": 0,
             "ticks": ""
            },
            "type": "mesh3d"
           }
          ],
          "parcoords": [
           {
            "line": {
             "colorbar": {
              "outlinewidth": 0,
              "ticks": ""
             }
            },
            "type": "parcoords"
           }
          ],
          "pie": [
           {
            "automargin": true,
            "type": "pie"
           }
          ],
          "scatter": [
           {
            "marker": {
             "colorbar": {
              "outlinewidth": 0,
              "ticks": ""
             }
            },
            "type": "scatter"
           }
          ],
          "scatter3d": [
           {
            "line": {
             "colorbar": {
              "outlinewidth": 0,
              "ticks": ""
             }
            },
            "marker": {
             "colorbar": {
              "outlinewidth": 0,
              "ticks": ""
             }
            },
            "type": "scatter3d"
           }
          ],
          "scattercarpet": [
           {
            "marker": {
             "colorbar": {
              "outlinewidth": 0,
              "ticks": ""
             }
            },
            "type": "scattercarpet"
           }
          ],
          "scattergeo": [
           {
            "marker": {
             "colorbar": {
              "outlinewidth": 0,
              "ticks": ""
             }
            },
            "type": "scattergeo"
           }
          ],
          "scattergl": [
           {
            "marker": {
             "colorbar": {
              "outlinewidth": 0,
              "ticks": ""
             }
            },
            "type": "scattergl"
           }
          ],
          "scattermapbox": [
           {
            "marker": {
             "colorbar": {
              "outlinewidth": 0,
              "ticks": ""
             }
            },
            "type": "scattermapbox"
           }
          ],
          "scatterpolar": [
           {
            "marker": {
             "colorbar": {
              "outlinewidth": 0,
              "ticks": ""
             }
            },
            "type": "scatterpolar"
           }
          ],
          "scatterpolargl": [
           {
            "marker": {
             "colorbar": {
              "outlinewidth": 0,
              "ticks": ""
             }
            },
            "type": "scatterpolargl"
           }
          ],
          "scatterternary": [
           {
            "marker": {
             "colorbar": {
              "outlinewidth": 0,
              "ticks": ""
             }
            },
            "type": "scatterternary"
           }
          ],
          "surface": [
           {
            "colorbar": {
             "outlinewidth": 0,
             "ticks": ""
            },
            "colorscale": [
             [
              0,
              "#0d0887"
             ],
             [
              0.1111111111111111,
              "#46039f"
             ],
             [
              0.2222222222222222,
              "#7201a8"
             ],
             [
              0.3333333333333333,
              "#9c179e"
             ],
             [
              0.4444444444444444,
              "#bd3786"
             ],
             [
              0.5555555555555556,
              "#d8576b"
             ],
             [
              0.6666666666666666,
              "#ed7953"
             ],
             [
              0.7777777777777778,
              "#fb9f3a"
             ],
             [
              0.8888888888888888,
              "#fdca26"
             ],
             [
              1,
              "#f0f921"
             ]
            ],
            "type": "surface"
           }
          ],
          "table": [
           {
            "cells": {
             "fill": {
              "color": "#EBF0F8"
             },
             "line": {
              "color": "white"
             }
            },
            "header": {
             "fill": {
              "color": "#C8D4E3"
             },
             "line": {
              "color": "white"
             }
            },
            "type": "table"
           }
          ]
         },
         "layout": {
          "annotationdefaults": {
           "arrowcolor": "#2a3f5f",
           "arrowhead": 0,
           "arrowwidth": 1
          },
          "autotypenumbers": "strict",
          "coloraxis": {
           "colorbar": {
            "outlinewidth": 0,
            "ticks": ""
           }
          },
          "colorscale": {
           "diverging": [
            [
             0,
             "#8e0152"
            ],
            [
             0.1,
             "#c51b7d"
            ],
            [
             0.2,
             "#de77ae"
            ],
            [
             0.3,
             "#f1b6da"
            ],
            [
             0.4,
             "#fde0ef"
            ],
            [
             0.5,
             "#f7f7f7"
            ],
            [
             0.6,
             "#e6f5d0"
            ],
            [
             0.7,
             "#b8e186"
            ],
            [
             0.8,
             "#7fbc41"
            ],
            [
             0.9,
             "#4d9221"
            ],
            [
             1,
             "#276419"
            ]
           ],
           "sequential": [
            [
             0,
             "#0d0887"
            ],
            [
             0.1111111111111111,
             "#46039f"
            ],
            [
             0.2222222222222222,
             "#7201a8"
            ],
            [
             0.3333333333333333,
             "#9c179e"
            ],
            [
             0.4444444444444444,
             "#bd3786"
            ],
            [
             0.5555555555555556,
             "#d8576b"
            ],
            [
             0.6666666666666666,
             "#ed7953"
            ],
            [
             0.7777777777777778,
             "#fb9f3a"
            ],
            [
             0.8888888888888888,
             "#fdca26"
            ],
            [
             1,
             "#f0f921"
            ]
           ],
           "sequentialminus": [
            [
             0,
             "#0d0887"
            ],
            [
             0.1111111111111111,
             "#46039f"
            ],
            [
             0.2222222222222222,
             "#7201a8"
            ],
            [
             0.3333333333333333,
             "#9c179e"
            ],
            [
             0.4444444444444444,
             "#bd3786"
            ],
            [
             0.5555555555555556,
             "#d8576b"
            ],
            [
             0.6666666666666666,
             "#ed7953"
            ],
            [
             0.7777777777777778,
             "#fb9f3a"
            ],
            [
             0.8888888888888888,
             "#fdca26"
            ],
            [
             1,
             "#f0f921"
            ]
           ]
          },
          "colorway": [
           "#636efa",
           "#EF553B",
           "#00cc96",
           "#ab63fa",
           "#FFA15A",
           "#19d3f3",
           "#FF6692",
           "#B6E880",
           "#FF97FF",
           "#FECB52"
          ],
          "font": {
           "color": "#2a3f5f"
          },
          "geo": {
           "bgcolor": "white",
           "lakecolor": "white",
           "landcolor": "#E5ECF6",
           "showlakes": true,
           "showland": true,
           "subunitcolor": "white"
          },
          "hoverlabel": {
           "align": "left"
          },
          "hovermode": "closest",
          "mapbox": {
           "style": "light"
          },
          "paper_bgcolor": "white",
          "plot_bgcolor": "#E5ECF6",
          "polar": {
           "angularaxis": {
            "gridcolor": "white",
            "linecolor": "white",
            "ticks": ""
           },
           "bgcolor": "#E5ECF6",
           "radialaxis": {
            "gridcolor": "white",
            "linecolor": "white",
            "ticks": ""
           }
          },
          "scene": {
           "xaxis": {
            "backgroundcolor": "#E5ECF6",
            "gridcolor": "white",
            "gridwidth": 2,
            "linecolor": "white",
            "showbackground": true,
            "ticks": "",
            "zerolinecolor": "white"
           },
           "yaxis": {
            "backgroundcolor": "#E5ECF6",
            "gridcolor": "white",
            "gridwidth": 2,
            "linecolor": "white",
            "showbackground": true,
            "ticks": "",
            "zerolinecolor": "white"
           },
           "zaxis": {
            "backgroundcolor": "#E5ECF6",
            "gridcolor": "white",
            "gridwidth": 2,
            "linecolor": "white",
            "showbackground": true,
            "ticks": "",
            "zerolinecolor": "white"
           }
          },
          "shapedefaults": {
           "line": {
            "color": "#2a3f5f"
           }
          },
          "ternary": {
           "aaxis": {
            "gridcolor": "white",
            "linecolor": "white",
            "ticks": ""
           },
           "baxis": {
            "gridcolor": "white",
            "linecolor": "white",
            "ticks": ""
           },
           "bgcolor": "#E5ECF6",
           "caxis": {
            "gridcolor": "white",
            "linecolor": "white",
            "ticks": ""
           }
          },
          "title": {
           "x": 0.05
          },
          "xaxis": {
           "automargin": true,
           "gridcolor": "white",
           "linecolor": "white",
           "ticks": "",
           "title": {
            "standoff": 15
           },
           "zerolinecolor": "white",
           "zerolinewidth": 2
          },
          "yaxis": {
           "automargin": true,
           "gridcolor": "white",
           "linecolor": "white",
           "ticks": "",
           "title": {
            "standoff": 15
           },
           "zerolinecolor": "white",
           "zerolinewidth": 2
          }
         }
        },
        "width": 800
       }
      },
      "text/html": [
       "<div>                            <div id=\"f9cce544-ea4f-431c-8189-b5cefff274cf\" class=\"plotly-graph-div\" style=\"height:525px; width:800px;\"></div>            <script type=\"text/javascript\">                require([\"plotly\"], function(Plotly) {                    window.PLOTLYENV=window.PLOTLYENV || {};                                    if (document.getElementById(\"f9cce544-ea4f-431c-8189-b5cefff274cf\")) {                    Plotly.newPlot(                        \"f9cce544-ea4f-431c-8189-b5cefff274cf\",                        [{\"customdata\": [[\"Scrypt\"], [\"Scrypt\"], [\"X13\"], [\"X11\"], [\"SHA-512\"], [\"SHA-256\"], [\"SHA-256\"], [\"X15\"], [\"Scrypt\"], [\"Scrypt\"], [\"Scrypt\"], [\"Scrypt\"], [\"Scrypt\"], [\"Scrypt\"], [\"Groestl\"], [\"PoS\"], [\"Scrypt\"], [\"Scrypt\"], [\"X11\"], [\"X11\"], [\"SHA3\"], [\"Scrypt\"], [\"SHA-256\"], [\"Scrypt\"], [\"X13\"], [\"X13\"], [\"NeoScrypt\"], [\"Scrypt\"], [\"Scrypt\"], [\"Scrypt\"], [\"X11\"], [\"X11\"], [\"Multiple\"], [\"PHI1612\"], [\"X11\"], [\"Scrypt\"], [\"Scrypt\"], [\"Scrypt\"], [\"X11\"], [\"Multiple\"], [\"X13\"], [\"Scrypt\"], [\"Shabal256\"], [\"Counterparty\"], [\"SHA-256\"], [\"Groestl\"], [\"Scrypt\"], [\"X13\"], [\"Scrypt\"], [\"Scrypt\"], [\"X13\"], [\"X11\"], [\"Scrypt\"], [\"X11\"], [\"SHA3\"], [\"QUAIT\"], [\"X11\"], [\"Scrypt\"], [\"X13\"], [\"SHA-256\"], [\"X15\"], [\"BLAKE256\"], [\"SHA-256\"], [\"X11\"], [\"SHA-256\"], [\"NIST5\"], [\"Scrypt\"], [\"Scrypt\"], [\"X11\"], [\"Scrypt\"], [\"SHA-256\"], [\"Scrypt\"], [\"PoS\"], [\"X11\"], [\"SHA-256\"], [\"SHA-256\"], [\"NIST5\"], [\"X11\"], [\"POS 3.0\"], [\"Scrypt\"], [\"Scrypt\"], [\"Scrypt\"], [\"X13\"], [\"X11\"], [\"X11\"], [\"Scrypt\"], [\"SHA-256\"], [\"X11\"], [\"Scrypt\"], [\"Scrypt\"], [\"Scrypt\"], [\"Scrypt\"], [\"SHA-256D\"], [\"PoS\"], [\"Scrypt\"], [\"X11\"], [\"PoS\"], [\"X13\"], [\"X14\"], [\"PoS\"], [\"SHA-256D\"], [\"DPoS\"], [\"X11\"], [\"X13\"], [\"X11\"], [\"PoS\"], [\"Scrypt\"], [\"Scrypt\"], [\"PoS\"], [\"X11\"], [\"SHA-256\"], [\"Scrypt\"], [\"X11\"], [\"Scrypt\"], [\"Scrypt\"], [\"X11\"], [\"Scrypt\"], [\"Scrypt\"], [\"Scrypt\"], [\"Scrypt\"], [\"Quark\"], [\"QuBit\"], [\"Scrypt\"], [\"SHA-256\"], [\"X11\"], [\"Scrypt\"], [\"Scrypt\"], [\"Scrypt\"], [\"Scrypt\"], [\"X13\"], [\"Scrypt\"], [\"Scrypt\"], [\"X11\"], [\"Blake2S\"], [\"X11\"], [\"PoS\"], [\"X11\"], [\"PoS\"], [\"X11\"], [\"Scrypt\"], [\"Scrypt\"], [\"Scrypt\"], [\"SHA-256\"], [\"X11\"], [\"Scrypt\"], [\"PoS\"], [\"Scrypt\"], [\"X15\"], [\"SHA-256\"], [\"POS 3.0\"], [\"536\"], [\"NIST5\"], [\"NIST5\"], [\"Skein\"], [\"X13\"], [\"Scrypt\"], [\"X13\"], [\"SkunkHash v2 Raptor\"], [\"Skein\"], [\"X11\"], [\"Scrypt\"], [\"PoS\"], [\"Scrypt\"], [\"Scrypt\"], [\"SHA-512\"], [\"Ouroboros\"], [\"X11\"], [\"NeoScrypt\"], [\"Scrypt\"], [\"Lyra2REv2\"], [\"Scrypt\"], [\"SHA-256\"], [\"NIST5\"], [\"PHI1612\"], [\"Scrypt\"], [\"Quark\"], [\"POS 2.0\"], [\"Scrypt\"], [\"SHA-256\"], [\"X11\"], [\"DPoS\"], [\"NIST5\"], [\"X13\"], [\"Scrypt\"], [\"NIST5\"], [\"Quark\"], [\"Scrypt\"], [\"Scrypt\"], [\"X11\"], [\"Quark\"], [\"Scrypt\"], [\"Scrypt\"], [\"X11\"], [\"POS 3.0\"], [\"Ethash\"], [\"Scrypt\"], [\"Scrypt\"], [\"X13\"], [\"C11\"], [\"X11\"], [\"XEVAN\"], [\"Scrypt\"], [\"VBFT\"], [\"NIST5\"], [\"Scrypt\"], [\"Scrypt\"], [\"Scrypt\"], [\"Green Protocol\"], [\"PoS\"], [\"Scrypt\"], [\"Semux BFT consensus\"], [\"Quark\"], [\"PoS\"], [\"X16R\"], [\"Scrypt\"], [\"XEVAN\"], [\"Scrypt\"], [\"Scrypt\"], [\"Scrypt\"], [\"SHA-256D\"], [\"Scrypt\"], [\"X15\"], [\"Scrypt\"], [\"Quark\"], [\"SHA-256\"], [\"DPoS\"], [\"X16R\"], [\"Quark\"], [\"Quark\"], [\"Scrypt\"], [\"Lyra2REv2\"], [\"Quark\"], [\"Scrypt\"], [\"X11\"], [\"X11\"], [\"Scrypt\"], [\"PoS\"], [\"Keccak\"], [\"X11\"], [\"Scrypt\"], [\"SHA-512\"], [\"XEVAN\"], [\"XEVAN\"], [\"X11\"], [\"Quark\"], [\"Equihash\"], [\"Scrypt\"], [\"Quark\"], [\"Quark\"], [\"Scrypt\"], [\"X11\"], [\"Scrypt\"], [\"XEVAN\"], [\"SHA-256D\"], [\"X11\"], [\"X11\"], [\"DPoS\"], [\"Scrypt\"], [\"X11\"], [\"Scrypt\"], [\"Scrypt\"], [\"SHA-256\"], [\"Scrypt\"], [\"X11\"], [\"Scrypt\"], [\"SHA-256\"], [\"X11\"], [\"Scrypt\"], [\"Scrypt\"], [\"X11\"], [\"Scrypt\"], [\"PoS\"], [\"X11\"], [\"SHA-256\"], [\"DPoS\"], [\"Scrypt\"], [\"Scrypt\"], [\"NeoScrypt\"], [\"X13\"], [\"DPoS\"], [\"DPoS\"], [\"SHA-256\"], [\"PoS\"], [\"PoS\"], [\"SHA-256\"], [\"Scrypt\"], [\"Scrypt\"]], \"hovertemplate\": \"<b>%{hovertext}</b><br><br>class=%{marker.color}<br>PC1=%{x}<br>PC2=%{y}<br>PC3=%{z}<br>Algorithm=%{customdata[0]}<extra></extra>\", \"hovertext\": [\"42 Coin\", \"404Coin\", \"EliteCoin\", \"Dash\", \"Bitshares\", \"BitcoinDark\", \"PayCoin\", \"KoboCoin\", \"Aurora Coin\", \"BlueCoin\", \"EnergyCoin\", \"BitBar\", \"CryptoBullion\", \"CasinoCoin\", \"Diamond\", \"Exclusive Coin\", \"FlutterCoin\", \"HoboNickels\", \"HyperStake\", \"IOCoin\", \"MaxCoin\", \"MintCoin\", \"MazaCoin\", \"Nautilus Coin\", \"NavCoin\", \"OpalCoin\", \"Orbitcoin\", \"PotCoin\", \"PhoenixCoin\", \"Reddcoin\", \"SuperCoin\", \"SyncCoin\", \"TeslaCoin\", \"TittieCoin\", \"TorCoin\", \"UnitaryStatus Dollar\", \"UltraCoin\", \"VeriCoin\", \"X11 Coin\", \"Crypti\", \"StealthCoin\", \"ZCC Coin\", \"BurstCoin\", \"StorjCoin\", \"Neutron\", \"FairCoin\", \"RubyCoin\", \"Kore\", \"Dnotes\", \"8BIT Coin\", \"Sativa Coin\", \"Ucoin\", \"Vtorrent\", \"IslaCoin\", \"Nexus\", \"Droidz\", \"Squall Coin\", \"Diggits\", \"Paycon\", \"Emercoin\", \"EverGreenCoin\", \"Decred\", \"EDRCoin\", \"Hitcoin\", \"DubaiCoin\", \"PWR Coin\", \"BillaryCoin\", \"GPU Coin\", \"EuropeCoin\", \"ZeitCoin\", \"SwingCoin\", \"SafeExchangeCoin\", \"Nebuchadnezzar\", \"Ratecoin\", \"Revenu\", \"Clockcoin\", \"VIP Tokens\", \"BitSend\", \"Let it Ride\", \"PutinCoin\", \"iBankCoin\", \"Frankywillcoin\", \"MudraCoin\", \"Lutetium Coin\", \"GoldBlocks\", \"CarterCoin\", \"BitTokens\", \"MustangCoin\", \"ZoneCoin\", \"RootCoin\", \"BitCurrency\", \"Swiscoin\", \"BuzzCoin\", \"Opair\", \"PesoBit\", \"Halloween Coin\", \"CoffeeCoin\", \"RoyalCoin\", \"GanjaCoin V2\", \"TeamUP\", \"LanaCoin\", \"ARK\", \"InsaneCoin\", \"EmberCoin\", \"XenixCoin\", \"FreeCoin\", \"PLNCoin\", \"AquariusCoin\", \"Creatio\", \"Eternity\", \"Eurocoin\", \"BitcoinFast\", \"Stakenet\", \"BitConnect Coin\", \"MoneyCoin\", \"Enigma\", \"Russiacoin\", \"PandaCoin\", \"GameUnits\", \"GAKHcoin\", \"Allsafe\", \"LiteCreed\", \"Klingon Empire Darsek\", \"Internet of People\", \"KushCoin\", \"Printerium\", \"Impeach\", \"Zilbercoin\", \"FirstCoin\", \"FindCoin\", \"OpenChat\", \"RenosCoin\", \"VirtacoinPlus\", \"TajCoin\", \"Impact\", \"Atmos\", \"HappyCoin\", \"MacronCoin\", \"Condensate\", \"Independent Money System\", \"ArgusCoin\", \"LomoCoin\", \"ProCurrency\", \"GoldReserve\", \"GrowthCoin\", \"Phreak\", \"Degas Coin\", \"HTML5 Coin\", \"Ultimate Secure Cash\", \"QTUM\", \"Espers\", \"Denarius\", \"Virta Unique Coin\", \"Bitcoin Planet\", \"BritCoin\", \"Linda\", \"DeepOnion\", \"Signatum\", \"Cream\", \"Monoeci\", \"Draftcoin\", \"Stakecoin\", \"CoinonatX\", \"Ethereum Dark\", \"Obsidian\", \"Cardano\", \"Regalcoin\", \"TrezarCoin\", \"TerraNovaCoin\", \"Rupee\", \"WomenCoin\", \"Theresa May Coin\", \"NamoCoin\", \"LUXCoin\", \"Xios\", \"Bitcloud 2.0\", \"KekCoin\", \"BlackholeCoin\", \"Infinity Economics\", \"Magnet\", \"Lamden Tau\", \"Electra\", \"Bitcoin Diamond\", \"Cash & Back Coin\", \"Bulwark\", \"Kalkulus\", \"GermanCoin\", \"LiteCoin Ultra\", \"PhantomX\", \"Digiwage\", \"Trollcoin\", \"Litecoin Plus\", \"Monkey Project\", \"TokenPay\", \"1717 Masonic Commemorative Token\", \"My Big Coin\", \"Unified Society USDEX\", \"Tokyo Coin\", \"Stipend\", \"Pushi\", \"Ellerium\", \"Velox\", \"Ontology\", \"Bitspace\", \"Briacoin\", \"Ignition\", \"MedicCoin\", \"Bitcoin Green\", \"Deviant Coin\", \"Abjcoin\", \"Semux\", \"Carebit\", \"Zealium\", \"Proton\", \"iDealCash\", \"Bitcoin Incognito\", \"HollyWoodCoin\", \"Swisscoin\", \"Xt3ch\", \"TheVig\", \"EmaratCoin\", \"Dekado\", \"Lynx\", \"Poseidon Quark\", \"BitcoinWSpectrum\", \"Muse\", \"Trivechain\", \"Dystem\", \"Giant\", \"Peony Coin\", \"Absolute Coin\", \"Vitae\", \"TPCash\", \"ARENON\", \"EUNO\", \"MMOCoin\", \"Ketan\", \"XDNA\", \"PAXEX\", \"ThunderStake\", \"Kcash\", \"Bettex coin\", \"BitMoney\", \"Junson Ming Chan Coin\", \"HerbCoin\", \"PirateCash\", \"Oduwa\", \"Galilel\", \"Crypto Sports\", \"Credit\", \"Dash Platinum\", \"Nasdacoin\", \"Beetle Coin\", \"Titan Coin\", \"Award\", \"Insane Coin\", \"ALAX\", \"LiteDoge\", \"TruckCoin\", \"OrangeCoin\", \"BitstarCoin\", \"NeosCoin\", \"HyperCoin\", \"PinkCoin\", \"AudioCoin\", \"IncaKoin\", \"Piggy Coin\", \"Genstake\", \"XiaoMiCoin\", \"CapriCoin\", \" ClubCoin\", \"Radium\", \"Creditbit \", \"OKCash\", \"Lisk\", \"HiCoin\", \"WhiteCoin\", \"FriendshipCoin\", \"Triangles Coin\", \"EOS\", \"Oxycoin\", \"TigerCash\", \"Particl\", \"Nxt\", \"ZEPHYR\", \"Gapcoin\", \"BitcoinPlus\"], \"legendgroup\": \"0\", \"marker\": {\"color\": [0, 0, 0, 0, 0, 0, 0, 0, 0, 0, 0, 0, 0, 0, 0, 0, 0, 0, 0, 0, 0, 0, 0, 0, 0, 0, 0, 0, 0, 0, 0, 0, 0, 0, 0, 0, 0, 0, 0, 0, 0, 0, 0, 0, 0, 0, 0, 0, 0, 0, 0, 0, 0, 0, 0, 0, 0, 0, 0, 0, 0, 0, 0, 0, 0, 0, 0, 0, 0, 0, 0, 0, 0, 0, 0, 0, 0, 0, 0, 0, 0, 0, 0, 0, 0, 0, 0, 0, 0, 0, 0, 0, 0, 0, 0, 0, 0, 0, 0, 0, 0, 0, 0, 0, 0, 0, 0, 0, 0, 0, 0, 0, 0, 0, 0, 0, 0, 0, 0, 0, 0, 0, 0, 0, 0, 0, 0, 0, 0, 0, 0, 0, 0, 0, 0, 0, 0, 0, 0, 0, 0, 0, 0, 0, 0, 0, 0, 0, 0, 0, 0, 0, 0, 0, 0, 0, 0, 0, 0, 0, 0, 0, 0, 0, 0, 0, 0, 0, 0, 0, 0, 0, 0, 0, 0, 0, 0, 0, 0, 0, 0, 0, 0, 0, 0, 0, 0, 0, 0, 0, 0, 0, 0, 0, 0, 0, 0, 0, 0, 0, 0, 0, 0, 0, 0, 0, 0, 0, 0, 0, 0, 0, 0, 0, 0, 0, 0, 0, 0, 0, 0, 0, 0, 0, 0, 0, 0, 0, 0, 0, 0, 0, 0, 0, 0, 0, 0, 0, 0, 0, 0, 0, 0, 0, 0, 0, 0, 0, 0, 0, 0, 0, 0, 0, 0, 0, 0, 0, 0, 0, 0, 0, 0, 0, 0, 0, 0, 0, 0, 0, 0, 0, 0, 0, 0, 0, 0, 0, 0, 0, 0, 0, 0, 0, 0, 0, 0], \"coloraxis\": \"coloraxis\", \"symbol\": \"circle\"}, \"mode\": \"markers\", \"name\": \"0\", \"scene\": \"scene\", \"showlegend\": true, \"type\": \"scatter3d\", \"x\": [-0.3402398389451021, -0.32358242082296795, 2.2944617099188758, -0.40012163655153987, -0.3031687380481916, -0.31050569421268825, -0.25776554728545775, -0.2343504181026963, -0.33989951964145165, -0.3324790751565715, -0.33873680936881645, -0.3402357765772104, -0.3402200622141831, 0.6806664009413799, -0.37544219147254393, -0.33832927957810327, -0.29598903559992706, -0.33829922405143825, -0.3272104914130462, -0.4000163606269127, -0.4344902934039984, -0.027489282784001718, -0.27382361389505, -0.2872508664642704, -0.2885503375326708, -0.2891723812124591, -0.35300081249942467, -0.3345439345118931, -0.3386420823557312, 0.017806522504576313, -0.34709181642289744, -0.40038781686815295, -0.2367812948774587, -0.3067536499760017, -0.40029948772328194, -0.31547973092313475, -0.33891766422541947, -0.2982156551473897, -0.4002639697287678, -0.2372488322008057, -0.2889533028352195, -0.33134609144542737, 0.05827185695197931, -0.30818163369922147, -0.30971765379783356, -0.37486390466248565, -0.28723111865001594, -0.2892477572060337, -0.2818869596313127, -0.3402219122454555, -0.28919995381289504, -0.3475365582271146, -0.33995637989146776, -0.40036935067068385, -0.45449952929315096, -0.40459709776534164, -0.35644824885427334, -0.28563315811857876, -0.2887217491359932, -0.303065155713939, -0.2367909651966261, -0.07928752344485199, -0.3104766158919364, -0.07794368641564424, -0.3105402844868766, -0.23613112957542426, -0.339832310219692, -0.2855023319906307, -0.39753960271834926, 0.8655262584578125, -0.31034042338090706, -0.049879159134806915, -0.33801265299981165, -0.3982129784652198, -0.3090844434249241, -0.3067535321742051, -0.3574575924161594, -0.39910498730182625, -0.33021381308982856, -0.3161365853598445, -0.33987039959771637, -0.3383098608178562, -0.23520247028695684, -0.33503117400889565, -0.39984343529981276, -0.33907487296797645, -0.3105212497388734, -0.40035854747463934, -0.34005949321703094, -0.3402161468762156, -0.28549174041062597, -0.23131248225532267, 0.0318022688834999, -0.3369700514733649, -0.3398304063397547, -0.386525782677465, -0.33629884257125064, -0.23663253925523733, -0.40367568342343935, -0.3360480538039718, -0.28263028169607346, 3.7254434241615084, -0.39995121997325933, 0.8426650194848672, -0.400313469934534, -0.33743365931846164, -0.33975801083294177, -0.3399122986090115, -0.33801265299981165, -0.39988853260351337, -0.31038395841951183, -0.33975874212051255, -0.39986257367156625, -0.3399060896442896, -0.33549578754505044, -0.40034245699604515, -0.33911709409141805, 0.3558238354956565, -0.34010530093774616, -0.34017584572636617, -0.3447085138542506, -0.34631005803623444, -0.33640400508053425, -0.31049766970655335, -0.400252435884246, -0.33995372948363345, -0.3400806503703663, -0.28713769700762715, -0.31761842223972186, -0.23640046454754152, -0.3209400503773589, -0.28687888029003045, -0.3995184481779826, -0.4071000862191105, -0.39825716224082375, -0.33625974415557996, -0.3994163605529867, -0.33066137272183405, -0.39535874145734445, -0.34002395142147007, -0.3400231474635339, -0.3331474669016949, 0.2746973438107045, -0.3998946646121324, -0.2697859609803149, -0.3380469460144905, -0.3392349160545185, 0.8972112602784588, -0.2564564551799419, -0.32899254159288177, 0.5775799493952957, -0.3589927698726208, -0.35749548337497333, -0.4163847806512666, -0.2888851475014734, 0.12454393955426953, -0.2889558922246831, -0.32890388430639406, -0.415889797813243, -0.4001669522968978, -0.28721184966301666, -0.33791328095096484, -0.3396592660311645, -0.3401587806403, -0.3612146232733707, 0.6485940435602133, -0.4001078096287781, -0.3480016980062573, -0.3401144167790597, -0.30415663249179486, 0.4287777077962801, -0.3088444424142413, -0.34376460855318103, -0.39501646830496656, -0.34006477290330417, -0.39582762015117284, -0.32782406305526035, -0.33993520177272357, -0.08430252663065571, -0.3989008765849892, 3.730297846128246, 0.20032708533322338, -0.285627780854855, -0.3373963039798342, -0.3060796785692803, -0.3445944519566276, 0.07406018776639028, -0.33907406927553474, -0.3994817887091599, -0.3437594896994506, -0.3266437301773318, -0.3401809060904544, -0.3475084959675899, -0.3304956478725076, -0.26343084725469207, -0.3135943801675192, -0.3357275256862901, -0.2281990169647527, -0.3761492590151507, -0.4001842048706612, -0.3055112182770396, -0.28637214011017414, -0.31763094790891416, -0.358591868216531, -0.34020825274028543, -0.34018997016592756, -0.28075535761645803, -0.33561317344996106, -0.33750786716834114, -0.3399065760271209, 3.919633970558182, -0.39449600357289355, -0.3376964796262639, -0.30816635960183425, -0.2867946198211024, -0.26172394668022897, -0.28690614761922284, -0.14338198809672115, -0.2871581521654929, -0.34792223159918034, -0.3393807893659104, -0.1834582322030797, 2.210339256456784, -0.34030401878262995, -0.25658407024295715, 1.0254174521271027, -0.3601798218781175, -0.3447079543573439, -0.3975111704244256, -0.16793423877417846, -0.35676166292663025, -0.3434278897261141, -0.3330875741957201, -0.3470860423870176, -0.39965770116142585, -0.28440453136241667, -0.3367966157690331, -0.34815222604171353, -0.34694749150790205, -0.19974127625522053, -0.42304514812640304, -0.2528276009370854, 0.5588961538150157, -0.13751733142860667, -0.3968060250353884, -0.26271844767605007, -0.33991054222416506, -0.39726199531272144, -0.3448248940062986, 0.5663033908440128, -0.34756279546517455, -0.3393936479031928, -0.2999686463669231, -0.3026577550794924, -0.3972232711773188, -0.39988486210195046, 3.7425359016057684, 0.0948770575556773, -0.39742515384730004, -0.33877938547332775, -0.33960405450659015, -0.2577981743771872, -0.3401222088703026, -0.3915152901298081, -0.25385584620574375, -0.09022369347405303, -0.3872651523543159, -0.33940073436714513, -0.33246720463032436, -0.39645452708086143, -0.33784044898300714, -0.3382882015186959, -0.3949852277476957, -0.30902121781490044, 3.725835107629392, -0.09449964323195448, -0.3350360841014309, -0.3526268114604106, -0.289354924076834, 3.7357005565234775, 3.7369443543766283, -0.2387008415351619, -0.3382240851571525, -0.3430366658577053, 2.4787679646457055, -0.3382859125527643, -0.28755448346556195], \"y\": [0.9847284372039085, 0.9848056781150787, 1.573018484407418, 1.2088126812135447, 1.4596264522250626, 0.7467431381530192, 0.6159619249060625, 1.7797638226886674, 0.984725934944546, 0.9849358541702492, 0.9847686077367712, 0.9847281999864432, 0.9847282741553026, 0.9350564240746495, 0.8748707927002499, 1.676537700333421, 0.40494498979379573, 0.9846973062847966, 1.0785792107195298, 1.2088154948554037, 2.0110870633364475, 0.8608897842381483, 0.7460655228219811, 0.8539361129325851, 1.7212681638650136, 1.721251538904064, 0.4802242628108319, 0.9845901802080421, 0.9847033589590233, 0.9942977118204075, 1.078047855345853, 1.2088207825193436, 0.1824311017805559, 1.6192247723814763, 1.208816227551083, 0.9842835645254521, 0.9846946103845979, 0.40018671423614116, 1.2088202891868944, 0.1824877699723793, 1.7212573940708071, 0.9842744970878918, 2.172270508313745, 1.6502327590976624, 0.7467323842718414, 0.8748892775722393, 0.8539478314162094, 1.7212412247271083, 0.8537448425093742, 0.9847289163483163, 1.7212438856128378, 1.0780221362658102, 0.9847221803084163, 1.2088212767451518, 2.325773508310114, 1.9307240189698767, 1.154485134874194, 0.8539213753176875, 1.72122900077702, 0.7462655750539711, 1.7799224802349154, 0.8930729141122614, 0.746743915310577, 1.1990755613840964, 0.7467501675135292, 1.4238202313234218, 0.9847102802112676, 0.8538411472704734, 1.2086313167551523, 0.8162847124247039, 0.7467351057631826, 0.9417118271143844, 1.6765323298559593, 1.2088270358961435, 0.7466422940488224, 0.7464955260550167, 1.420515369677898, 1.2087589309433053, 1.6059933514671172, 0.9839893541563843, 0.9847076484001278, 0.9847108547549598, 1.5903582946887536, 1.0779157864620161, 1.2088007506662495, 0.9846973251438347, 0.746743414048094, 1.2088194905623926, 0.9847187328273415, 0.9847290704356285, 0.8539943186585788, 0.23894810869937508, 1.7739419275051602, 1.6765228463648527, 0.9847393798746013, 1.2081538084613714, 1.6765643010822853, 1.5904566724980662, 1.8067191002954341, 1.6763904862658219, 1.7741796114432173, 1.9375638267499322, 1.2088117027268472, 1.7509135364532242, 1.2088201051278933, 1.6765270551190594, 0.984714659029268, 0.9847081424130836, 1.6765323298559593, 1.208792629003562, 0.7467477749824054, 0.9847184711569676, 0.7646777448452721, 0.9847179912826067, 0.9844052076295501, 1.2088185373270368, 0.984658848296188, 0.848645807801974, 0.9847230416547501, 0.9847278542141389, 1.5306231426320256, 0.5843738621267662, 0.9844851362908064, 0.7467440442564369, 1.2088179318731873, 0.9847222511441601, 0.9847175218455215, 0.8539122881678282, 0.2864042146282971, 1.5904545582556078, 0.9845526126479707, 0.8539334348552057, 1.208774854507395, 1.882623178999292, 1.208801647708519, 1.6765167307416653, 1.2087775829376224, 1.6764659804998374, 1.2086093732674126, 0.984719536019168, 0.98471444777107, 0.9842263528858216, 0.5783285426166777, 1.208806297869487, 0.8530308016966729, 1.6765244969525483, 0.9846826732111695, 1.7480010315435428, 0.6158671718804614, 1.605979997703176, 1.6890991999823275, 1.4205296709870723, 1.420493607862379, 1.772035677917875, 1.721238466486275, 0.9625685336181767, 1.7212442541685695, 1.6378440722104641, 1.7720489070055105, 1.2088201105300032, 0.8539363078370545, 1.6765062136084223, 0.9847105809335573, 0.9847276987481264, 1.4605021791608093, 1.5962880080293407, 1.2088095925687643, 0.4800838233557487, 0.9847209075456286, 0.7311357034968068, 0.9879905338866044, 0.7467335896268316, 1.4201136154963603, 1.7506124328603376, 0.9847185917205653, 1.6613262979879562, 1.5954473358467145, 0.9847263509466924, 0.6143818663742341, 1.2087609278909826, 1.9374342036572785, 1.414736040778427, 1.72120102925796, 0.9846591906634665, 1.2897342562202694, 1.530622732902886, 0.9612192868862539, 0.9846558483670903, 1.208810416161845, 1.5305758846407158, 0.984469337830919, 0.9847272457429862, 1.0780221946301456, 1.6059916979700029, -0.05713260537035095, 0.3645672862266372, 0.9846885749991475, 1.590130488911635, 0.8404803072395303, 1.2088089340775356, 1.7107862831275187, 0.853885025719159, 1.5677275628281524, 1.4205127201231864, 0.9847272065042911, 0.984726311855668, 0.8537750861078849, 1.5591806776199195, 1.6764987895845058, 0.9847165950081488, 1.9415186427921993, 1.6613618872469318, 1.6764992817616424, 0.7547241224616231, 0.9826142991027014, 1.6564735383291784, 0.853938534129906, 0.9829350266654113, 0.8539193494896873, 1.77755686366309, 0.9846932989388714, 1.649106475398016, 0.3907977273590966, 1.5303016688546873, 0.6159328018407371, 1.7631145731776465, 0.8855053592829424, 1.5306190077596875, 1.6614160677200884, 0.8454613594869863, 0.8619073868007026, 1.530598579851886, 0.9842279535996146, 1.0780099695963212, 1.2088057146629885, 0.853843550016621, 1.676433418954496, 0.9382357581787345, 1.0779825488640806, 0.9760339749087744, 1.3150406020102707, 1.5800039048694823, 1.9872255487385566, 1.0836490176794518, 1.661401127881378, -0.041316283961248756, 0.9847227137446315, 1.6614131238753733, 1.5306211595839312, 0.9572225413695231, 1.0780216425313238, 0.9846929552770239, 1.7106300953308071, 1.775377593903142, 1.2086148721906824, 1.2088134762309513, 1.9374154634827154, 0.9721502100915582, 1.2088999643981373, 0.9846291423109221, 0.9847079038619221, 0.6159551739831144, 0.9847315810562338, 1.2087120947165786, 0.9797749717016997, 0.7525142782480351, 1.2084798666083214, 0.984740488876656, 0.9846595163827319, 1.2087820450922384, 0.9846819021663417, 1.6765325734617915, 0.8426686332144161, 0.7467254068764654, 1.9375501441431346, 0.8521763543334071, 0.984660023355844, 0.48019525141767905, 1.7212465772019376, 1.9379244172239622, 1.937957659408411, 0.6157884628840714, 1.6765345401010423, 1.921550705055599, 0.7900862108900949, 0.9846077491635369, 0.8539384974153625], \"z\": [-0.5736559770286312, -0.574070579454154, -0.723920905608235, -0.5139097657599712, -0.0021268212478453307, -0.40923266835434813, -0.10252122586885759, -0.6035488140533828, -0.573663784822714, -0.5738769862760669, -0.5736987799632519, -0.5736560365516398, -0.5736564278927638, -0.35382737893498806, -0.42026618161886525, -0.13745043985875635, -0.29803287224320024, -0.5736977608846409, -0.20777415253530443, -0.5139127637834902, -0.6269666534157857, -0.274347983854358, -0.41000799608131017, -0.2669487357106899, -0.6856544053572295, -0.685636690940665, -0.30756857615768124, -0.573771001823653, -0.5736904684758096, -0.583852338803693, -0.2072079767432829, -0.5139046568568628, 0.13758263259783254, -0.1979998130283748, -0.5139060490085298, -0.5741813492511681, -0.573682395843291, -0.20899889453086945, -0.513907566001759, 0.13758471324095164, -0.6856429298042065, -0.5737969133547768, -0.28822644974741846, -0.05510636519852137, -0.40924994245024554, -0.4202831419768112, -0.26695111570951713, -0.6856331963472461, -0.2670471365533405, -0.5736564875457697, -0.6856347823568008, -0.20719306473326574, -0.5736618025595489, -0.5139051828453168, -0.4334040747410555, -0.6340715008068979, -0.05680866959652841, -0.26698538828425267, -0.6856439070485755, -0.40933469195568434, -0.60351567667659, -0.4572813905196498, -0.40923349644006557, -0.5201045788076067, -0.4092329751848498, -0.6129356840709036, -0.5736628643561231, -0.26697551513780515, -0.51394263005159, -0.28865763538240274, -0.40923535281914364, -0.33727533811599003, -0.13745720992208066, -0.5139581661832785, -0.40925059340781, -0.40928301566173036, -0.6094704666222205, -0.5139255741438903, -0.08555159920294714, -0.5741177083937615, -0.5736615175341668, -0.5736997047286646, -0.37893673462803806, -0.20747763102349778, -0.5139145428535361, -0.5736790422666522, -0.4092323377054286, -0.5139051534829332, -0.5736587537842556, -0.5736566517306267, -0.2670006493221824, -0.3122175302443865, -0.7958974390900047, -0.13748083464848807, -0.5736676367607306, -0.5141309101289233, -0.137503768676573, -0.3789181961492246, -0.5877556423734633, -0.13748159041178123, -0.788346649477317, -0.099083532905722, -0.5139137201418509, -0.7177734085034373, -0.513906341329905, -0.13747032823760033, -0.5736653689256219, -0.5736605864652053, -0.13745720992208066, -0.5139121352052111, -0.40923635979375333, -0.5736659704514308, -0.31226525958549906, -0.5736623360114563, -0.5737179833609852, -0.5139053870283338, -0.5736717736636313, -0.28161123323649795, -0.5736583479847038, -0.5736574269291415, -0.20288229854696352, -0.22587361740978543, -0.573709044141023, -0.40923300921215505, -0.5139074615101584, -0.5736618780372523, -0.5736580464271703, -0.26694759757215253, -0.37162248501457873, -0.37892345428819557, -0.5740932541942635, -0.26695727928476026, -0.5139181808733829, -0.6618385189224324, -0.5139529761059374, -0.13749698587554016, -0.5139210881012418, -0.13762386963502724, -0.5139917049346487, -0.5736597421061188, -0.5736589350631934, -0.5737456141996561, -0.10926065282450877, -0.513914207334689, -0.2672232393487907, -0.13745510995580806, -0.5736727995299605, -0.625702085654948, -0.10253743310138526, -0.08557890782947124, -0.6552716328785636, -0.6094357352140195, -0.6094660174391177, -0.760110633320385, -0.6856415005829848, -0.5812750938529059, -0.6856407330839093, -0.09001394664470844, -0.7601247293275784, -0.5139098786739371, -0.26694970910828053, -0.13745536656907406, -0.5736670899329062, -0.5736578135744377, -0.0008680175366105001, -0.26777745512745793, -0.5139095978310377, -0.30766642819344764, -0.5736577813293408, -0.02367244833743794, -0.5927474372529387, -0.40927121475414757, -0.6097357173360937, -0.503952352878151, -0.5736586034305666, -0.5096201893752673, -0.16551483255575788, -0.5736629911385889, -0.10645143008610984, -0.5139308250729959, -0.09917964935192912, -0.6219949074245369, -0.6857140423210356, -0.5737133636350353, -0.3027261604002669, -0.202884985086547, -0.5798374292033632, -0.573672324887801, -0.5139248417418041, -0.20289752917225942, -0.5739420598923526, -0.5736572059585209, -0.20719375154605518, -0.0855445280480019, 0.17224992109229623, -0.3747091006587508, -0.5737584152877651, -0.37906877469562367, -0.49078777562420306, -0.5139076469404854, -0.36914804082430275, -0.2669616476189051, -0.12456145883441053, -0.6094426584881818, -0.5736565395246994, -0.5736568354960981, -0.2670793620547443, -0.11537366396201884, -0.1374639461282804, -0.5736620974848174, -0.13610111313092213, -0.5096581108453152, -0.1374594735683318, 0.002251726082987534, -0.5746025890874705, 0.08794790243759547, -0.26695744937761484, -0.5781162042870494, -0.2669482507703542, -0.7873192539013748, -0.5736710044765914, -0.296812886371072, -0.49807846689023627, -0.20293639425845197, -0.10254501268937675, -0.10156857452149298, -0.304477260072065, -0.2028816404535655, -0.5095941345207655, -0.2684521631998685, -0.33038560422162555, -0.20290921915529014, -0.5737473198103349, -0.20720196259757814, -0.5139198321475273, -0.26700240279062853, -0.13747049577374418, -0.4182120124886839, -0.20720085301792043, -0.5756349828582344, 0.24671415121253126, -0.06243504467113772, 0.13391821988606895, -0.21317619063095766, -0.5096087279009128, 0.137584904238114, -0.5736629955763047, -0.5095996706623461, -0.20287916741037873, -0.5910694410002176, -0.2071923512565777, -0.5736706382941299, -0.3692564522909433, -0.7880578301580209, -0.5139475943085859, -0.5139156098660181, -0.09947199299042357, -0.5821153137788552, -0.5139890270039692, -0.5736750999366951, -0.5736679877446386, -0.10251934185101041, -0.5736593268755112, -0.5141011578558391, -0.5749364538831884, -0.41548693566245226, -0.5141660234148133, -0.573678187793595, -0.5738323892140488, -0.5139933020331179, -0.5737063322645031, -0.137450598630333, -0.21361340146574367, -0.4092656188961732, -0.09909076452205863, -0.27131530797315656, -0.5737704670334958, -0.307572891231223, -0.6856314790465077, -0.09938967537868282, -0.09942509596731375, -0.10295321261760047, -0.13745246562119784, -0.17897378715739207, -0.10086457719418965, -0.573683536056291, -0.26694179466304857]}, {\"customdata\": [[\"SHA-256\"], [\"Ethash\"], [\"Scrypt\"], [\"CryptoNight-V7\"], [\"Ethash\"], [\"Equihash\"], [\"Multiple\"], [\"Scrypt\"], [\"X11\"], [\"Scrypt\"], [\"Multiple\"], [\"Scrypt\"], [\"SHA-256\"], [\"Scrypt\"], [\"Scrypt\"], [\"Quark\"], [\"Groestl\"], [\"Scrypt\"], [\"Scrypt\"], [\"Scrypt\"], [\"X11\"], [\"Multiple\"], [\"SHA-256\"], [\"Scrypt\"], [\"Scrypt\"], [\"Scrypt\"], [\"Scrypt\"], [\"Scrypt\"], [\"NeoScrypt\"], [\"Scrypt\"], [\"Scrypt\"], [\"Scrypt\"], [\"Scrypt\"], [\"SHA-256\"], [\"Scrypt\"], [\"Scrypt\"], [\"Scrypt\"], [\"Scrypt\"], [\"HybridScryptHash256\"], [\"Scrypt\"], [\"Scrypt\"], [\"SHA-256\"], [\"Scrypt\"], [\"Scrypt\"], [\"Scrypt\"], [\"Scrypt\"], [\"SHA-256\"], [\"SHA-256\"], [\"SHA-256\"], [\"SHA-256\"], [\"SHA-256\"], [\"X11\"], [\"Scrypt\"], [\"Lyra2REv2\"], [\"Scrypt\"], [\"SHA-256\"], [\"CryptoNight\"], [\"CryptoNight\"], [\"Scrypt\"], [\"Scrypt\"], [\"Scrypt\"], [\"Scrypt\"], [\"Scrypt\"], [\"Scrypt\"], [\"Stanford Folding\"], [\"Multiple\"], [\"QuBit\"], [\"Scrypt\"], [\"Scrypt\"], [\"M7 POW\"], [\"Scrypt\"], [\"SHA-256\"], [\"Scrypt\"], [\"X11\"], [\"Lyra2RE\"], [\"SHA-256\"], [\"X11\"], [\"Scrypt\"], [\"Scrypt\"], [\"Ethash\"], [\"Blake2b\"], [\"X11\"], [\"SHA-256\"], [\"Scrypt\"], [\"1GB AES Pattern Search\"], [\"Scrypt\"], [\"SHA-256\"], [\"X11\"], [\"Dagger\"], [\"Scrypt\"], [\"X11GOST\"], [\"Scrypt\"], [\"X11\"], [\"Scrypt\"], [\"X11\"], [\"Equihash\"], [\"CryptoNight\"], [\"SHA-256\"], [\"Multiple\"], [\"Scrypt\"], [\"SHA-256\"], [\"Scrypt\"], [\"Lyra2Z\"], [\"Ethash\"], [\"Equihash\"], [\"Scrypt\"], [\"X11\"], [\"X11\"], [\"CryptoNight\"], [\"Scrypt\"], [\"CryptoNight\"], [\"Lyra2RE\"], [\"X11\"], [\"CryptoNight-V7\"], [\"Scrypt\"], [\"X11\"], [\"Equihash\"], [\"Scrypt\"], [\"Lyra2RE\"], [\"Dagger-Hashimoto\"], [\"Scrypt\"], [\"NIST5\"], [\"Scrypt\"], [\"SHA-256\"], [\"Scrypt\"], [\"CryptoNight-V7\"], [\"Argon2d\"], [\"Blake2b\"], [\"Cloverhash\"], [\"CryptoNight\"], [\"X11\"], [\"Scrypt\"], [\"Scrypt\"], [\"X11\"], [\"X11\"], [\"CryptoNight\"], [\"Time Travel\"], [\"Scrypt\"], [\"Keccak\"], [\"X11\"], [\"SHA-256\"], [\"Scrypt\"], [\"Scrypt\"], [\"Scrypt\"], [\"Scrypt\"], [\"Scrypt\"], [\"Scrypt\"], [\"CryptoNight\"], [\"Equihash\"], [\"X11\"], [\"NeoScrypt\"], [\"Equihash\"], [\"Dagger\"], [\"Scrypt\"], [\"X11\"], [\"NeoScrypt\"], [\"Ethash\"], [\"NeoScrypt\"], [\"Multiple\"], [\"CryptoNight\"], [\"CryptoNight\"], [\"Ethash\"], [\"X11\"], [\"CryptoNight-V7\"], [\"Scrypt\"], [\"BLAKE256\"], [\"X11\"], [\"NeoScrypt\"], [\"NeoScrypt\"], [\"Scrypt\"], [\"X11\"], [\"SHA-256\"], [\"C11\"], [\"CryptoNight\"], [\"SkunkHash\"], [\"CryptoNight\"], [\"Scrypt\"], [\"Dagger\"], [\"Lyra2REv2\"], [\"Scrypt\"], [\"Scrypt\"], [\"X11\"], [\"Ethash\"], [\"CryptoNight\"], [\"Scrypt\"], [\"IMesh\"], [\"Equihash\"], [\"Lyra2Z\"], [\"X11\"], [\"CryptoNight\"], [\"NIST5\"], [\"Lyra2RE\"], [\"Tribus\"], [\"Lyra2Z\"], [\"CryptoNight\"], [\"CryptoNight Heavy\"], [\"CryptoNight\"], [\"Jump Consistent Hash\"], [\"CryptoNight\"], [\"X16R\"], [\"HMQ1725\"], [\"X11\"], [\"Scrypt\"], [\"CryptoNight-V7\"], [\"Cryptonight-GPU\"], [\"XEVAN\"], [\"CryptoNight Heavy\"], [\"SHA-256\"], [\"X11\"], [\"X16R\"], [\"Equihash\"], [\"Lyra2Z\"], [\"SHA-256\"], [\"CryptoNight\"], [\"Blake\"], [\"Blake\"], [\"Exosis\"], [\"Scrypt\"], [\"Equihash\"], [\"Equihash\"], [\"QuBit\"], [\"SHA-256\"], [\"X13\"], [\"SHA-256\"], [\"Scrypt\"], [\"NeoScrypt\"], [\"Blake\"], [\"Scrypt\"], [\"SHA-256\"], [\"Scrypt\"], [\"Groestl\"], [\"Scrypt\"], [\"Scrypt\"], [\"Multiple\"], [\"Equihash+Scrypt\"], [\"Ethash\"], [\"CryptoNight\"], [\"Equihash\"]], \"hovertemplate\": \"<b>%{hovertext}</b><br><br>class=%{marker.color}<br>PC1=%{x}<br>PC2=%{y}<br>PC3=%{z}<br>Algorithm=%{customdata[0]}<extra></extra>\", \"hovertext\": [\"Bitcoin\", \"Ethereum\", \"Litecoin\", \"Monero\", \"Ethereum Classic\", \"ZCash\", \"DigiByte\", \"ProsperCoin\", \"Spreadcoin\", \"Argentum\", \"MyriadCoin\", \"MoonCoin\", \"ZetaCoin\", \"SexCoin\", \"Quatloo\", \"QuarkCoin\", \"Riecoin\", \"Digitalcoin \", \"Catcoin\", \"CannaCoin\", \"CryptCoin\", \"Verge\", \"DevCoin\", \"EarthCoin\", \"E-Gulden\", \"Einsteinium\", \"Emerald\", \"Franko\", \"FeatherCoin\", \"GrandCoin\", \"GlobalCoin\", \"GoldCoin\", \"Infinite Coin\", \"IXcoin\", \"KrugerCoin\", \"LuckyCoin\", \"Litebar \", \"MegaCoin\", \"MediterraneanCoin\", \"MinCoin\", \"NobleCoin\", \"Namecoin\", \"NyanCoin\", \"RonPaulCoin\", \"StableCoin\", \"SmartCoin\", \"SysCoin\", \"TigerCoin\", \"TerraCoin\", \"UnbreakableCoin\", \"Unobtanium\", \"UroCoin\", \"ViaCoin\", \"Vertcoin\", \"WorldCoin\", \"JouleCoin\", \"ByteCoin\", \"DigitalNote \", \"MonaCoin\", \"Gulden\", \"PesetaCoin\", \"Wild Beast Coin\", \"Flo\", \"ArtByte\", \"Folding Coin\", \"Unitus\", \"CypherPunkCoin\", \"OmniCron\", \"GreenCoin\", \"Cryptonite\", \"MasterCoin\", \"SoonCoin\", \"1Credit\", \"MarsCoin \", \"Crypto\", \"Anarchists Prime\", \"BowsCoin\", \"Song Coin\", \"BitZeny\", \"Expanse\", \"Siacoin\", \"MindCoin\", \"I0coin\", \"Revolution VR\", \"HOdlcoin\", \"Gamecredits\", \"CarpeDiemCoin\", \"Adzcoin\", \"SoilCoin\", \"YoCoin\", \"SibCoin\", \"Francs\", \"BolivarCoin\", \"Omni\", \"PizzaCoin\", \"Komodo\", \"Karbo\", \"ZayedCoin\", \"Circuits of Value\", \"DopeCoin\", \"DollarCoin\", \"Shilling\", \"ZCoin\", \"Elementrem\", \"ZClassic\", \"KiloCoin\", \"ArtexCoin\", \"Kurrent\", \"Cannabis Industry Coin\", \"OsmiumCoin\", \"Bikercoins\", \"HexxCoin\", \"PacCoin\", \"Citadel\", \"BeaverCoin\", \"VaultCoin\", \"Zero\", \"Canada eCoin\", \"Zoin\", \"DubaiCoin\", \"EB3coin\", \"Coinonat\", \"BenjiRolls\", \"ILCoin\", \"EquiTrader\", \"Quantum Resistant Ledger\", \"Dynamic\", \"Nano\", \"ChanCoin\", \"Dinastycoin\", \"DigitalPrice\", \"Unify\", \"SocialCoin\", \"ArcticCoin\", \"DAS\", \"LeviarCoin\", \"Bitcore\", \"gCn Coin\", \"SmartCash\", \"Onix\", \"Bitcoin Cash\", \"Sojourn Coin\", \"NewYorkCoin\", \"FrazCoin\", \"Kronecoin\", \"AdCoin\", \"Linx\", \"Sumokoin\", \"BitcoinZ\", \"Elements\", \"VIVO Coin\", \"Bitcoin Gold\", \"Pirl\", \"eBoost\", \"Pura\", \"Innova\", \"Ellaism\", \"GoByte\", \"SHIELD\", \"UltraNote\", \"BitCoal\", \"DaxxCoin\", \"AC3\", \"Lethean\", \"PopularCoin\", \"Photon\", \"Sucre\", \"SparksPay\", \"GunCoin\", \"IrishCoin\", \"Pioneer Coin\", \"UnitedBitcoin\", \"Interzone\", \"TurtleCoin\", \"MUNcoin\", \"Niobio Cash\", \"ShareChain\", \"Travelflex\", \"KREDS\", \"BitFlip\", \"LottoCoin\", \"Crypto Improvement Fund\", \"Callisto Network\", \"BitTube\", \"Poseidon\", \"Aidos Kuneen\", \"Bitrolium\", \"Alpenschillling\", \"FuturoCoin\", \"Monero Classic\", \"Jumpcoin\", \"Infinex\", \"KEYCO\", \"GINcoin\", \"PlatinCoin\", \"Loki\", \"Newton Coin\", \"MassGrid\", \"PluraCoin\", \"Motion\", \"PlusOneCoin\", \"Axe\", \"HexCoin\", \"Webchain\", \"Ryo\", \"Urals Coin\", \"Qwertycoin\", \"Project Pai\", \"Azart\", \"Xchange\", \"CrypticCoin\", \"Actinium\", \"Bitcoin SV\", \"FREDEnergy\", \"Universal Molecule\", \"Lithium\", \"Exosis\", \"Block-Logic\", \"Beam\", \"Bithereum\", \"SLICE\", \"BLAST\", \"Bitcoin Rhodium\", \"GlobalToken\", \"SolarCoin\", \"UFO Coin\", \"BlakeCoin\", \"Crypto Escudo\", \"Crown Coin\", \"SmileyCoin\", \"Groestlcoin\", \"Bata\", \"Pakcoin\", \"JoinCoin\", \"Vollar\", \"Reality Clash\", \"Beldex\", \"Horizen\"], \"legendgroup\": \"1\", \"marker\": {\"color\": [1, 1, 1, 1, 1, 1, 1, 1, 1, 1, 1, 1, 1, 1, 1, 1, 1, 1, 1, 1, 1, 1, 1, 1, 1, 1, 1, 1, 1, 1, 1, 1, 1, 1, 1, 1, 1, 1, 1, 1, 1, 1, 1, 1, 1, 1, 1, 1, 1, 1, 1, 1, 1, 1, 1, 1, 1, 1, 1, 1, 1, 1, 1, 1, 1, 1, 1, 1, 1, 1, 1, 1, 1, 1, 1, 1, 1, 1, 1, 1, 1, 1, 1, 1, 1, 1, 1, 1, 1, 1, 1, 1, 1, 1, 1, 1, 1, 1, 1, 1, 1, 1, 1, 1, 1, 1, 1, 1, 1, 1, 1, 1, 1, 1, 1, 1, 1, 1, 1, 1, 1, 1, 1, 1, 1, 1, 1, 1, 1, 1, 1, 1, 1, 1, 1, 1, 1, 1, 1, 1, 1, 1, 1, 1, 1, 1, 1, 1, 1, 1, 1, 1, 1, 1, 1, 1, 1, 1, 1, 1, 1, 1, 1, 1, 1, 1, 1, 1, 1, 1, 1, 1, 1, 1, 1, 1, 1, 1, 1, 1, 1, 1, 1, 1, 1, 1, 1, 1, 1, 1, 1, 1, 1, 1, 1, 1, 1, 1, 1, 1, 1, 1, 1, 1, 1, 1, 1, 1, 1, 1, 1, 1, 1, 1, 1, 1, 1, 1, 1, 1, 1, 1, 1, 1, 1, 1, 1, 1, 1, 1, 1, 1, 1, 1, 1, 1, 1, 1], \"coloraxis\": \"coloraxis\", \"symbol\": \"diamond\"}, \"mode\": \"markers\", \"name\": \"1\", \"scene\": \"scene\", \"showlegend\": true, \"type\": \"scatter3d\", \"x\": [-0.13939242356454745, -0.14390642939762893, -0.16795751764698827, -0.13966937885532124, -0.14234899590743214, -0.1451476675694053, 0.1678919682852446, -0.16910343228827546, -0.2291927909810789, -0.16872009846797986, -0.08543767795798202, 2.5518034852728952, -0.13647817712572757, -0.16597630543163538, -0.1685242040574477, -0.22178240991386183, -0.20339603511495385, -0.16857292145527314, -0.16908570256816158, -0.1691721307862396, -0.2292821102417184, 0.1916390861817096, 0.23834634456147544, 0.07948745095168923, -0.16891849305691434, -0.1645250891303034, -0.1688578102961664, -0.16922911851832736, -0.17722014807009354, -0.14845758645610246, -0.16802456133754207, -0.16830194414308206, 1.5791863518106561, -0.13935380227876398, -0.16559214345203677, -0.16894492749402493, -0.16929964087153937, -0.16855910174855737, -0.14497816780621678, -0.16918094281224094, -0.0341306979549525, -0.13943139416931008, -0.162846644696349, -0.16916039802439628, -0.1672553760556992, -0.16864728873625762, -0.12658726086678268, -0.13889531208643083, -0.13918244395280305, -0.1391654635963389, -0.139755963714434, -0.2294559483299691, -0.16887695718398704, -0.18515912782592023, -0.16598103069040765, -0.1389625890722606, 3.8608207141545847, 0.46074830574144204, -0.1677448897235881, -0.15234876010346457, -0.16646406472043107, -0.1693018506825121, -0.16632913137841676, -0.15255675701448865, -0.15753777885184625, -0.11943447990750847, -0.17624300552184796, -0.16917495940476276, -0.042151531566060316, -0.09961604682279117, -0.1693107394697961, -0.13945916503428726, 0.4826148626231111, -0.22884330810334488, -0.14889105302450445, -0.13919911618607322, -0.22912812890211684, -0.16743514163159987, -0.16662760928512516, -0.14497364560905723, 0.3645475997355699, -0.22916351311891248, -0.13935492436116306, -0.1652697394952712, -0.14469937527139862, -0.1678745040794111, 0.27901103893726303, -0.2283244914943979, -0.16119972712689853, -0.1681219397056326, -0.14659341941812945, -0.16910071723054712, -0.2291267727318963, -0.1693107979481579, -0.229276707965093, -0.24053996583247925, 0.30569827834169255, -0.1396149379498919, -0.09951270014091196, -0.16647835013321685, -0.1395735782479055, -0.16897430267382868, -0.1583985052005766, -0.14471587177586237, -0.14516927947519442, -0.09606254450141054, -0.2158636176049451, -0.2271055445971961, 0.3056926344012154, -0.16929254190450466, 0.30582331588102724, -0.149431322331538, 0.48571435846129635, -0.13843453216334706, -0.1692608371345255, -0.22201331324606918, -0.14518164798212066, -0.16739462886301767, -0.14914977871463517, -0.1690587548590397, -0.14019479227167486, -0.18773186886335072, -0.16882334564949655, -0.10595018411463247, -0.16864548363823986, -0.13829223447878602, -0.15008965784894338, -0.035660453082502375, -0.14885608810414974, 0.3418043774874882, -0.22833289654012437, -0.16896462453112987, -0.16872810856749518, -0.22872744884957144, -0.22930472873038457, 0.3060875000962403, -0.1676184163275179, 3.23940656260082, -0.11708377491002422, -0.22017994207561764, -0.1393915879806264, -0.09491097512254626, 1.5772966292932902, -0.16906244939993847, -0.16851427713823863, -0.16821533704547306, -0.1682022710800622, 0.3062710366843096, 0.06707636272530065, -0.1837040242205633, -0.18190750797706368, -0.14502773926108986, -0.1599592253341066, -0.1673928384439223, -0.22485049773247523, -0.18175297195464826, -0.14308167846785075, -0.1818531420259776, -0.10966917962402369, 1.1433634688901515, 0.30567541539748283, -0.06799704835109185, -0.22459230362353821, -0.12740765344027025, -0.08547450054508245, 1.096619067939068, -0.22927873428546588, -0.18190506210126017, -0.17494499597731328, -0.16831366595257866, -0.2292041621938658, -0.13937098956919755, -0.20519805800323598, 8.040822583366928, -0.13688546241663074, 0.3095486489377954, 0.023675198518581315, -0.15946251096099487, -0.17072147658707396, -0.16888723388885696, 0.13810040390640402, -0.22334687216449972, -0.09613668309821197, 0.31359582364703514, -0.1691241720459205, -0.15622253250853035, -0.14401911188038954, -0.15618278299297672, -0.22837365934276016, 0.30585788585407303, -0.1877912927747834, -0.1492766115187599, -0.16038426774922487, -0.15848285232479498, 0.30978466914265107, 0.5646841554162443, 2.113756419020105, -0.14213363029671616, 0.3194587651306799, -0.19004290597211806, -0.15227743130771537, -0.22926089975414266, -0.16914874904171623, -0.12728821062892, -0.13936038459429018, -0.1333561522175698, 3.0864850218655473, -0.09923063142730754, -0.22923227560250972, -0.18947083139200804, -0.03980539701208547, -0.15788081076450142, -0.13939162553721052, 0.3855922244103248, -0.1377843628605221, -0.1381762252486549, -0.15559330836410534, -0.1680413926188435, -0.14308851120116706, -0.1448606061434555, -0.17545425202689782, -0.13866797610049678, -0.1184111747766718, -0.1375362723511371, 0.5265186537492997, -0.10709177447854153, -0.08865941619079841, -0.15270730761994944, -0.13918181455220835, 0.5463153518414522, -0.20295715700537828, -0.16922555442487625, -0.16718190211672543, -0.12016919446608976, -0.1302681414184038, -0.1447490209963783, 0.3274261977090033, -0.1451487242681731], \"y\": [-1.3651810359246563, -2.038237798291767, -1.1272232815773777, -2.18136768793813, -2.038341417667374, -2.0224167120343983, -1.8055094466466917, -1.1272103345309041, -0.9031157302368437, -1.127229829831853, -1.7991389104419113, -1.320064724404345, -1.3652060613609722, -1.1272851428370563, -1.127249493241971, -0.45055271463315794, -1.2370842085656817, -1.127214944936695, -1.1272098606800895, -1.1272067343198269, -0.9031167341400007, -1.8018004435452675, -1.3695953204524995, -1.129888989366652, -1.127205391779134, -1.127280795449859, -1.1272113779637498, -1.12720694038691, -1.6318056432384942, -1.1276265689477838, -1.1272153904844155, -1.127224357126654, -1.143132761990641, -1.3651800037184212, -1.1272855411923905, -1.1272054066377073, -1.127201987792379, -1.1272103109487963, -2.2920945038730585, -1.1272047980910818, -1.1339630448964648, -1.365182077466925, -1.1272616708814474, -1.1272118570174583, -1.1273193277341431, -1.1272190309316397, -1.365438450392007, -1.3651857408015746, -1.365189948324546, -1.365215776730617, -1.365176400547817, -0.9031089307217118, -1.1272056649518165, -1.250026189243227, -1.1272959347312401, -1.365186147317525, -2.3302586677982244, -2.3004622753907533, -1.127232206194059, -1.127909969986928, -1.1272403482785385, -1.1272029307654383, -1.1272323252042102, -1.1274452154126262, -2.3073968094029325, -1.7986642458628728, -1.5275244397978145, -1.1272000535437767, -1.1307192245095952, -2.2697915942994253, -1.1272017791609803, -1.3651828196809537, -1.173408414846838, -0.9031153811218837, -2.204513556367503, -1.3651985275708671, -0.903114693692698, -1.127296632701638, -1.1273025498158302, -2.038278014192354, -2.198109543178019, -0.9031121811958366, -1.365180033707595, -1.127238593399829, -2.2124468925098757, -1.1272210629272066, -1.368941660147887, -0.9031367885624348, -2.186779519108797, -1.1272860165112983, -2.276066488875473, -1.1272095703296958, -0.9031174239976442, -1.1272017786282316, -0.9031214312200913, -1.3410970857517834, -2.29769673794013, -1.3651791923173577, -1.798961774411248, -1.1272639787821435, -1.3651787109864615, -1.1272131081053116, -2.2597721546880143, -2.0382775564734072, -2.0224172896418904, -1.13216006944369, -0.903091476053635, -0.9032038063691221, -2.2977044967957885, -1.1272027416543633, -2.297703770706446, -2.2044894099570396, -0.9531587952257615, -2.1814626379431927, -1.1272023409014755, -0.9036016538140668, -2.0224148536565774, -1.1272193038129852, -2.204489493336438, -2.203139682231695, -1.1291897379654674, -0.6914177056284043, -1.127212891690365, -1.3660018163530996, -1.1272333687502054, -2.181403503835905, -2.2308141099925223, -2.209040998228968, -2.153588970964684, -2.2981081123149125, -0.9031480794004179, -1.127205432875418, -1.1272376519263205, -0.9031309588416315, -0.9031179611236332, -2.2977167675156607, -2.2587644493059043, -1.1744262796668274, -1.175291772705851, -0.9036218182440002, -1.3651810135925477, -1.1324751109945843, -1.0805209000508444, -1.127208547570024, -1.1272381617298555, -1.1272412383521948, -1.1272408891465493, -2.297735992718497, -2.031254602399662, -0.9031310961971724, -1.6317172032678933, -2.022413506787714, -2.1868337235025854, -1.1272192559616072, -0.9032279169716441, -1.6317255225600695, -2.0384094142350553, -1.631719070124641, -1.7988597357908855, -2.3340912800451283, -2.2976990780773425, -2.043125393221757, -0.9033593439056383, -2.181731255702767, -1.1284189015660266, -1.2542303478010053, -0.9031178888606868, -1.6317129880728938, -1.63185826528109, -1.1272189673716804, -0.9031181090607525, -1.3651798862463014, -1.2714514209893986, -2.782595742814593, -2.1614451016555525, -2.2978193054245235, -1.1289599158747476, -2.186781504283373, -1.250343027244031, -1.1272176974500374, -1.1317163305106934, -0.9032914761804294, -2.0414567314929593, -2.2981703865637884, -1.1272108888290546, -2.133001622875655, -2.022420440095898, -2.2599056267448314, -0.9031491688416003, -2.297698281968817, -0.6914004453049183, -2.2044965349617107, -2.147987871002008, -2.2597668701293645, -2.2979955901513933, -2.2115927255404175, -2.3766283356678266, -2.144562047974294, -2.2980136915013953, -1.2264037769131844, -2.228478853565389, -0.9031182421737808, -1.127212310124056, -2.1822471502411127, -2.290494464890058, -0.4012144848338192, -2.271676821364334, -1.3655455721511331, -0.9031202437049427, -1.2264423828206925, -2.024843218425359, -2.259801615116416, -1.365181014596298, -2.3011429793815403, -2.226729095235814, -2.2266843125300917, -2.19455478841074, -1.1272504222036632, -2.02252891626161, -2.0224158774578793, -1.527572523051823, -1.365191414500867, -0.3906841886437436, -1.3652330984946557, -1.1764540158995604, -1.6324655275449116, -2.2301849227271098, -1.1274492390817321, -1.3651899315029616, -1.1426571533225742, -1.237087003342783, -1.1272025322088877, -1.1272703326860964, -1.7986858186911647, -2.15752458194372, -2.0382772544779835, -2.298077560069292, -2.022416740276106], \"z\": [0.1584535053092675, 0.43319072934405606, -0.0059935466142576, 0.4154239739662606, 0.43316996804379926, 0.39857209312903363, 0.3927510789108804, -0.005967990800708475, 0.05378154758073865, -0.005974076768780516, 0.39783092456119395, -0.040318006261211764, 0.15838722943535505, -0.006031319049288443, -0.005975611244928719, 0.05798788140136356, 0.14740248221154245, -0.00598004679808726, -0.0059684957035920925, -0.005966917395589672, 0.05378386651851905, 0.39157547257081476, 0.15005308180326082, -0.011533103880202766, -0.005973257457520331, -0.00606705287897748, -0.005973749851723262, -0.005965508424209822, 0.2600221148566298, -0.006398709417167554, -0.005993210088274231, -0.005985058567729453, -0.04557994148459979, 0.1584524054611918, -0.006040526787325537, -0.005972617001482395, -0.005964610655076987, -0.0059811330272020015, 0.3614299997743275, -0.005967019189342737, -0.00812900576321563, 0.15845461510516995, -0.006110671420466224, -0.005966368543602911, -0.005994893970815457, -0.00597758815100189, 0.15818623968375314, 0.15844227080963955, 0.15844988465145102, 0.158453669924045, 0.1584615271131454, 0.05378679495966982, -0.005974215630997106, 0.2372902872591959, -0.006029452146169457, 0.158443960688139, 0.32759127950501404, 0.4048185242375434, -0.005997229209552896, -0.006258758133144389, -0.006026821762992946, -0.005964404156918957, -0.006031381752613094, -0.006329224528863784, 0.14281483485758217, 0.3985744021119775, 0.34183360637992455, -0.0059679342326637245, -0.008462279163634349, 0.41835697910668307, -0.005964376656966218, 0.15845540595746307, -0.014194758439624092, 0.0537730554788983, 0.333479862486244, 0.15845168053164696, 0.053779818486725445, -0.005994241197919636, -0.006012771368240288, 0.4332230205083333, 0.41630322129978875, 0.053780264461445564, 0.15845243741559575, -0.006055933982010505, 0.5131572001673792, -0.005995910655506409, 0.14896539690671673, 0.0537640099653553, 0.3718802262587262, -0.005979388403798113, 0.3737371634368325, -0.005968180457267147, 0.05378022921710372, -0.005964375332016337, 0.05378449903812248, 0.48569741446495995, 0.4081117488613655, 0.15845857665001103, 0.3981418795831026, -0.006022638824488079, 0.15845750018009475, -0.005970657084178181, 0.3830663959775169, 0.43321672432939295, 0.3985727085879066, -0.006927013760939282, 0.05345588458276735, 0.05374547371544685, 0.40811314530367504, -0.005964659556976994, 0.4081098731376897, 0.3334889809278514, 0.044654116804575504, 0.4154095907742424, -0.0059654899000390945, 0.05368718308321228, 0.3985726114643151, -0.006007779027007454, 0.33348219890919634, 0.4022438143457025, -0.006344252401054245, -0.041749356251645296, -0.0059743358541021726, 0.1577796302535354, -0.005975302930544562, 0.41539655143194787, 0.4255434965489101, 0.4277384805632394, 0.3639341987907896, 0.4073070798534066, 0.05376604672663576, -0.005972137316474469, -0.005972612943538968, 0.05377278918556764, 0.05378461174662013, 0.4081056075558288, 0.19276286058763065, -0.08056955798001175, 0.14828745692710982, 0.05364620653854873, 0.15845348151370173, -0.00690363900317264, -0.055703928393439586, -0.005969270239728465, -0.005977691345771422, -0.005984407088518026, -0.005984779178069931, 0.40810430018305627, 0.3948851601844688, 0.05268609019489562, 0.2601208880408389, 0.3985686778383068, 0.37185908855127026, -0.006007830014149896, 0.05369496021848355, 0.26011850927947094, 0.43319869685283274, 0.26011987904110995, 0.3983704510693095, 0.3938044997027793, 0.4081126807914474, 0.4321523771869936, 0.053710074980213886, 0.4151870669005633, -0.007790226488459723, 0.09189866308213573, 0.05378397258680139, 0.2601201443611293, 0.2599757469939684, -0.00598565106029262, 0.0537822084208268, 0.1584528012271874, 0.07690353684844636, 0.30016930839040556, 0.40024828570886595, 0.4080387210079643, -0.01033687761335537, 0.3718386178610138, 0.2369932703289894, -0.0059720132312687055, -0.012651030872974738, 0.053668990981614255, 0.4325605490244751, 0.4079980587787512, -0.005967400178669746, 0.44146122903314533, 0.39854545893094095, 0.3830345944539091, 0.05376720756033542, 0.40810814723267974, -0.041750725420106445, 0.333486403967991, 0.5383109700433573, 0.3830675735137862, 0.40806165690851715, 0.36447953865061733, 0.37729131215587663, 0.576794841163346, 0.40783109528228245, 0.2632300371726382, 0.3089692022025088, 0.053783599504452724, -0.005966576117866158, 0.4152679770087853, 0.5079990720418605, 0.19852542783298807, 0.31337037254531874, 0.15754333727248324, 0.05378323370354022, 0.2632224996066951, 0.3964235881852771, 0.38305868553909034, 0.1584534825832295, 0.4067431132831135, 0.35134421060503956, 0.35134639517239086, 0.4296902310074647, -0.005987113882407968, 0.3985406162213712, 0.3985650288310956, 0.3418223782166941, 0.15843770518545816, -0.11794014302645364, 0.1584171599149961, -0.014759780086814167, 0.25843662078488483, 0.3507197971402009, -0.0063249371834156074, 0.1584498667275259, -0.020726992645481876, 0.14739234303505327, -0.005966310438970306, -0.006004625313099494, 0.39859563968962003, 0.3725615336623596, 0.43321747539446287, 0.40764916068903484, 0.3985721232214577]}, {\"customdata\": [[\"VeChainThor Authority\"], [\"Proof-of-BibleHash\"], [\"SHA-256 + Hive\"], [\"Proof-of-Authority\"], [\"ECC 256K1\"], [\"Leased POS\"]], \"hovertemplate\": \"<b>%{hovertext}</b><br><br>class=%{marker.color}<br>PC1=%{x}<br>PC2=%{y}<br>PC3=%{z}<br>Algorithm=%{customdata[0]}<extra></extra>\", \"hovertext\": [\"Vechain\", \"BiblePay\", \"LitecoinCash\", \"Poa Network\", \"Acute Angle Cloud\", \"Waves\"], \"legendgroup\": \"3\", \"marker\": {\"color\": [3, 3, 3, 3, 3, 3], \"coloraxis\": \"coloraxis\", \"symbol\": \"square\"}, \"mode\": \"markers\", \"name\": \"3\", \"scene\": \"scene\", \"showlegend\": true, \"type\": \"scatter3d\", \"x\": [4.439605069591454, -0.21557840483277085, -0.3612365959544272, -0.41243910318715243, -0.3783223365429942, -0.40356069059822264], \"y\": [2.944376660412898, 3.4357848931159194, 3.3400274025668035, 3.125006556812442, 2.1975493868149427, 3.1323948943537876], \"z\": [6.162007963176642, 14.172483427854253, 11.07894256229144, 13.056145773845648, 16.289296239934657, 13.98547670868166]}, {\"customdata\": [[\"TRC10\"]], \"hovertemplate\": \"<b>%{hovertext}</b><br><br>class=%{marker.color}<br>PC1=%{x}<br>PC2=%{y}<br>PC3=%{z}<br>Algorithm=%{customdata[0]}<extra></extra>\", \"hovertext\": [\"BitTorrent\"], \"legendgroup\": \"2\", \"marker\": {\"color\": [2], \"coloraxis\": \"coloraxis\", \"symbol\": \"x\"}, \"mode\": \"markers\", \"name\": \"2\", \"scene\": \"scene\", \"showlegend\": true, \"type\": \"scatter3d\", \"x\": [34.056514912924335], \"y\": [1.5622640959802774], \"z\": [-0.9542996269233693]}],                        {\"coloraxis\": {\"colorbar\": {\"title\": {\"text\": \"class\"}}, \"colorscale\": [[0.0, \"#0d0887\"], [0.1111111111111111, \"#46039f\"], [0.2222222222222222, \"#7201a8\"], [0.3333333333333333, \"#9c179e\"], [0.4444444444444444, \"#bd3786\"], [0.5555555555555556, \"#d8576b\"], [0.6666666666666666, \"#ed7953\"], [0.7777777777777778, \"#fb9f3a\"], [0.8888888888888888, \"#fdca26\"], [1.0, \"#f0f921\"]]}, \"legend\": {\"title\": {\"text\": \"class\"}, \"tracegroupgap\": 0, \"x\": 0, \"y\": 1}, \"margin\": {\"t\": 60}, \"scene\": {\"domain\": {\"x\": [0.0, 1.0], \"y\": [0.0, 1.0]}, \"xaxis\": {\"title\": {\"text\": \"PC1\"}}, \"yaxis\": {\"title\": {\"text\": \"PC2\"}}, \"zaxis\": {\"title\": {\"text\": \"PC3\"}}}, \"template\": {\"data\": {\"bar\": [{\"error_x\": {\"color\": \"#2a3f5f\"}, \"error_y\": {\"color\": \"#2a3f5f\"}, \"marker\": {\"line\": {\"color\": \"#E5ECF6\", \"width\": 0.5}}, \"type\": \"bar\"}], \"barpolar\": [{\"marker\": {\"line\": {\"color\": \"#E5ECF6\", \"width\": 0.5}}, \"type\": \"barpolar\"}], \"carpet\": [{\"aaxis\": {\"endlinecolor\": \"#2a3f5f\", \"gridcolor\": \"white\", \"linecolor\": \"white\", \"minorgridcolor\": \"white\", \"startlinecolor\": \"#2a3f5f\"}, \"baxis\": {\"endlinecolor\": \"#2a3f5f\", \"gridcolor\": \"white\", \"linecolor\": \"white\", \"minorgridcolor\": \"white\", \"startlinecolor\": \"#2a3f5f\"}, \"type\": \"carpet\"}], \"choropleth\": [{\"colorbar\": {\"outlinewidth\": 0, \"ticks\": \"\"}, \"type\": \"choropleth\"}], \"contour\": [{\"colorbar\": {\"outlinewidth\": 0, \"ticks\": \"\"}, \"colorscale\": [[0.0, \"#0d0887\"], [0.1111111111111111, \"#46039f\"], [0.2222222222222222, \"#7201a8\"], [0.3333333333333333, \"#9c179e\"], [0.4444444444444444, \"#bd3786\"], [0.5555555555555556, \"#d8576b\"], [0.6666666666666666, \"#ed7953\"], [0.7777777777777778, \"#fb9f3a\"], [0.8888888888888888, \"#fdca26\"], [1.0, \"#f0f921\"]], \"type\": \"contour\"}], \"contourcarpet\": [{\"colorbar\": {\"outlinewidth\": 0, \"ticks\": \"\"}, \"type\": \"contourcarpet\"}], \"heatmap\": [{\"colorbar\": {\"outlinewidth\": 0, \"ticks\": \"\"}, \"colorscale\": [[0.0, \"#0d0887\"], [0.1111111111111111, \"#46039f\"], [0.2222222222222222, \"#7201a8\"], [0.3333333333333333, \"#9c179e\"], [0.4444444444444444, \"#bd3786\"], [0.5555555555555556, \"#d8576b\"], [0.6666666666666666, \"#ed7953\"], [0.7777777777777778, \"#fb9f3a\"], [0.8888888888888888, \"#fdca26\"], [1.0, \"#f0f921\"]], \"type\": \"heatmap\"}], \"heatmapgl\": [{\"colorbar\": {\"outlinewidth\": 0, \"ticks\": \"\"}, \"colorscale\": [[0.0, \"#0d0887\"], [0.1111111111111111, \"#46039f\"], [0.2222222222222222, \"#7201a8\"], [0.3333333333333333, \"#9c179e\"], [0.4444444444444444, \"#bd3786\"], [0.5555555555555556, \"#d8576b\"], [0.6666666666666666, \"#ed7953\"], [0.7777777777777778, \"#fb9f3a\"], [0.8888888888888888, \"#fdca26\"], [1.0, \"#f0f921\"]], \"type\": \"heatmapgl\"}], \"histogram\": [{\"marker\": {\"colorbar\": {\"outlinewidth\": 0, \"ticks\": \"\"}}, \"type\": \"histogram\"}], \"histogram2d\": [{\"colorbar\": {\"outlinewidth\": 0, \"ticks\": \"\"}, \"colorscale\": [[0.0, \"#0d0887\"], [0.1111111111111111, \"#46039f\"], [0.2222222222222222, \"#7201a8\"], [0.3333333333333333, \"#9c179e\"], [0.4444444444444444, \"#bd3786\"], [0.5555555555555556, \"#d8576b\"], [0.6666666666666666, \"#ed7953\"], [0.7777777777777778, \"#fb9f3a\"], [0.8888888888888888, \"#fdca26\"], [1.0, \"#f0f921\"]], \"type\": \"histogram2d\"}], \"histogram2dcontour\": [{\"colorbar\": {\"outlinewidth\": 0, \"ticks\": \"\"}, \"colorscale\": [[0.0, \"#0d0887\"], [0.1111111111111111, \"#46039f\"], [0.2222222222222222, \"#7201a8\"], [0.3333333333333333, \"#9c179e\"], [0.4444444444444444, \"#bd3786\"], [0.5555555555555556, \"#d8576b\"], [0.6666666666666666, \"#ed7953\"], [0.7777777777777778, \"#fb9f3a\"], [0.8888888888888888, \"#fdca26\"], [1.0, \"#f0f921\"]], \"type\": \"histogram2dcontour\"}], \"mesh3d\": [{\"colorbar\": {\"outlinewidth\": 0, \"ticks\": \"\"}, \"type\": \"mesh3d\"}], \"parcoords\": [{\"line\": {\"colorbar\": {\"outlinewidth\": 0, \"ticks\": \"\"}}, \"type\": \"parcoords\"}], \"pie\": [{\"automargin\": true, \"type\": \"pie\"}], \"scatter\": [{\"marker\": {\"colorbar\": {\"outlinewidth\": 0, \"ticks\": \"\"}}, \"type\": \"scatter\"}], \"scatter3d\": [{\"line\": {\"colorbar\": {\"outlinewidth\": 0, \"ticks\": \"\"}}, \"marker\": {\"colorbar\": {\"outlinewidth\": 0, \"ticks\": \"\"}}, \"type\": \"scatter3d\"}], \"scattercarpet\": [{\"marker\": {\"colorbar\": {\"outlinewidth\": 0, \"ticks\": \"\"}}, \"type\": \"scattercarpet\"}], \"scattergeo\": [{\"marker\": {\"colorbar\": {\"outlinewidth\": 0, \"ticks\": \"\"}}, \"type\": \"scattergeo\"}], \"scattergl\": [{\"marker\": {\"colorbar\": {\"outlinewidth\": 0, \"ticks\": \"\"}}, \"type\": \"scattergl\"}], \"scattermapbox\": [{\"marker\": {\"colorbar\": {\"outlinewidth\": 0, \"ticks\": \"\"}}, \"type\": \"scattermapbox\"}], \"scatterpolar\": [{\"marker\": {\"colorbar\": {\"outlinewidth\": 0, \"ticks\": \"\"}}, \"type\": \"scatterpolar\"}], \"scatterpolargl\": [{\"marker\": {\"colorbar\": {\"outlinewidth\": 0, \"ticks\": \"\"}}, \"type\": \"scatterpolargl\"}], \"scatterternary\": [{\"marker\": {\"colorbar\": {\"outlinewidth\": 0, \"ticks\": \"\"}}, \"type\": \"scatterternary\"}], \"surface\": [{\"colorbar\": {\"outlinewidth\": 0, \"ticks\": \"\"}, \"colorscale\": [[0.0, \"#0d0887\"], [0.1111111111111111, \"#46039f\"], [0.2222222222222222, \"#7201a8\"], [0.3333333333333333, \"#9c179e\"], [0.4444444444444444, \"#bd3786\"], [0.5555555555555556, \"#d8576b\"], [0.6666666666666666, \"#ed7953\"], [0.7777777777777778, \"#fb9f3a\"], [0.8888888888888888, \"#fdca26\"], [1.0, \"#f0f921\"]], \"type\": \"surface\"}], \"table\": [{\"cells\": {\"fill\": {\"color\": \"#EBF0F8\"}, \"line\": {\"color\": \"white\"}}, \"header\": {\"fill\": {\"color\": \"#C8D4E3\"}, \"line\": {\"color\": \"white\"}}, \"type\": \"table\"}]}, \"layout\": {\"annotationdefaults\": {\"arrowcolor\": \"#2a3f5f\", \"arrowhead\": 0, \"arrowwidth\": 1}, \"autotypenumbers\": \"strict\", \"coloraxis\": {\"colorbar\": {\"outlinewidth\": 0, \"ticks\": \"\"}}, \"colorscale\": {\"diverging\": [[0, \"#8e0152\"], [0.1, \"#c51b7d\"], [0.2, \"#de77ae\"], [0.3, \"#f1b6da\"], [0.4, \"#fde0ef\"], [0.5, \"#f7f7f7\"], [0.6, \"#e6f5d0\"], [0.7, \"#b8e186\"], [0.8, \"#7fbc41\"], [0.9, \"#4d9221\"], [1, \"#276419\"]], \"sequential\": [[0.0, \"#0d0887\"], [0.1111111111111111, \"#46039f\"], [0.2222222222222222, \"#7201a8\"], [0.3333333333333333, \"#9c179e\"], [0.4444444444444444, \"#bd3786\"], [0.5555555555555556, \"#d8576b\"], [0.6666666666666666, \"#ed7953\"], [0.7777777777777778, \"#fb9f3a\"], [0.8888888888888888, \"#fdca26\"], [1.0, \"#f0f921\"]], \"sequentialminus\": [[0.0, \"#0d0887\"], [0.1111111111111111, \"#46039f\"], [0.2222222222222222, \"#7201a8\"], [0.3333333333333333, \"#9c179e\"], [0.4444444444444444, \"#bd3786\"], [0.5555555555555556, \"#d8576b\"], [0.6666666666666666, \"#ed7953\"], [0.7777777777777778, \"#fb9f3a\"], [0.8888888888888888, \"#fdca26\"], [1.0, \"#f0f921\"]]}, \"colorway\": [\"#636efa\", \"#EF553B\", \"#00cc96\", \"#ab63fa\", \"#FFA15A\", \"#19d3f3\", \"#FF6692\", \"#B6E880\", \"#FF97FF\", \"#FECB52\"], \"font\": {\"color\": \"#2a3f5f\"}, \"geo\": {\"bgcolor\": \"white\", \"lakecolor\": \"white\", \"landcolor\": \"#E5ECF6\", \"showlakes\": true, \"showland\": true, \"subunitcolor\": \"white\"}, \"hoverlabel\": {\"align\": \"left\"}, \"hovermode\": \"closest\", \"mapbox\": {\"style\": \"light\"}, \"paper_bgcolor\": \"white\", \"plot_bgcolor\": \"#E5ECF6\", \"polar\": {\"angularaxis\": {\"gridcolor\": \"white\", \"linecolor\": \"white\", \"ticks\": \"\"}, \"bgcolor\": \"#E5ECF6\", \"radialaxis\": {\"gridcolor\": \"white\", \"linecolor\": \"white\", \"ticks\": \"\"}}, \"scene\": {\"xaxis\": {\"backgroundcolor\": \"#E5ECF6\", \"gridcolor\": \"white\", \"gridwidth\": 2, \"linecolor\": \"white\", \"showbackground\": true, \"ticks\": \"\", \"zerolinecolor\": \"white\"}, \"yaxis\": {\"backgroundcolor\": \"#E5ECF6\", \"gridcolor\": \"white\", \"gridwidth\": 2, \"linecolor\": \"white\", \"showbackground\": true, \"ticks\": \"\", \"zerolinecolor\": \"white\"}, \"zaxis\": {\"backgroundcolor\": \"#E5ECF6\", \"gridcolor\": \"white\", \"gridwidth\": 2, \"linecolor\": \"white\", \"showbackground\": true, \"ticks\": \"\", \"zerolinecolor\": \"white\"}}, \"shapedefaults\": {\"line\": {\"color\": \"#2a3f5f\"}}, \"ternary\": {\"aaxis\": {\"gridcolor\": \"white\", \"linecolor\": \"white\", \"ticks\": \"\"}, \"baxis\": {\"gridcolor\": \"white\", \"linecolor\": \"white\", \"ticks\": \"\"}, \"bgcolor\": \"#E5ECF6\", \"caxis\": {\"gridcolor\": \"white\", \"linecolor\": \"white\", \"ticks\": \"\"}}, \"title\": {\"x\": 0.05}, \"xaxis\": {\"automargin\": true, \"gridcolor\": \"white\", \"linecolor\": \"white\", \"ticks\": \"\", \"title\": {\"standoff\": 15}, \"zerolinecolor\": \"white\", \"zerolinewidth\": 2}, \"yaxis\": {\"automargin\": true, \"gridcolor\": \"white\", \"linecolor\": \"white\", \"ticks\": \"\", \"title\": {\"standoff\": 15}, \"zerolinecolor\": \"white\", \"zerolinewidth\": 2}}}, \"width\": 800},                        {\"responsive\": true}                    ).then(function(){\n",
       "                            \n",
       "var gd = document.getElementById('f9cce544-ea4f-431c-8189-b5cefff274cf');\n",
       "var x = new MutationObserver(function (mutations, observer) {{\n",
       "        var display = window.getComputedStyle(gd).display;\n",
       "        if (!display || display === 'none') {{\n",
       "            console.log([gd, 'removed!']);\n",
       "            Plotly.purge(gd);\n",
       "            observer.disconnect();\n",
       "        }}\n",
       "}});\n",
       "\n",
       "// Listen for the removal of the full notebook cells\n",
       "var notebookContainer = gd.closest('#notebook-container');\n",
       "if (notebookContainer) {{\n",
       "    x.observe(notebookContainer, {childList: true});\n",
       "}}\n",
       "\n",
       "// Listen for the clearing of the current output cell\n",
       "var outputEl = gd.closest('.output');\n",
       "if (outputEl) {{\n",
       "    x.observe(outputEl, {childList: true});\n",
       "}}\n",
       "\n",
       "                        })                };                });            </script>        </div>"
      ]
     },
     "metadata": {},
     "output_type": "display_data"
    }
   ],
   "source": [
    "# Creating a 3D-Scatter with the PCA data and the clusters\n",
    "#\n",
    "fig = px.scatter_3d(\n",
    "    clustered_df2, \n",
    "     x = \"PC1\",\n",
    "     y = \"PC2\", \n",
    "     z = \"PC3\", \n",
    "     color=\"class\", \n",
    "     symbol = \"class\", \n",
    "     width=800,\n",
    "     hover_name=\"CoinName\",\n",
    "     hover_data = [\"Algorithm\"])\n",
    "\n",
    "fig.update_layout(legend=dict(x = 0, y =1))\n",
    "fig.show()"
   ]
  },
  {
   "cell_type": "code",
   "execution_count": 113,
   "metadata": {},
   "outputs": [
    {
     "data": {},
     "metadata": {},
     "output_type": "display_data"
    },
    {
     "data": {
      "application/vnd.holoviews_exec.v0+json": "",
      "text/html": [
       "<div id='2539'>\n",
       "\n",
       "\n",
       "\n",
       "\n",
       "\n",
       "  <div class=\"bk-root\" id=\"76506f6c-e51d-48bd-9aa4-e01ca8265de1\" data-root-id=\"2539\"></div>\n",
       "</div>\n",
       "<script type=\"application/javascript\">(function(root) {\n",
       "  function embed_document(root) {\n",
       "  var docs_json = {\"b3a39306-0537-4c93-b4db-53a43e79df82\":{\"roots\":{\"references\":[{\"attributes\":{\"editor\":{\"id\":\"2549\"},\"field\":\"Algorithm\",\"formatter\":{\"id\":\"2548\"},\"title\":\"Algorithm\"},\"id\":\"2550\",\"type\":\"TableColumn\"},{\"attributes\":{},\"id\":\"2558\",\"type\":\"StringFormatter\"},{\"attributes\":{},\"id\":\"2543\",\"type\":\"StringFormatter\"},{\"attributes\":{},\"id\":\"2554\",\"type\":\"StringEditor\"},{\"attributes\":{},\"id\":\"2564\",\"type\":\"NumberEditor\"},{\"attributes\":{\"columns\":[{\"id\":\"2545\"},{\"id\":\"2550\"},{\"id\":\"2555\"},{\"id\":\"2560\"},{\"id\":\"2565\"},{\"id\":\"2570\"}],\"height\":300,\"reorderable\":false,\"source\":{\"id\":\"2541\"},\"view\":{\"id\":\"2574\"},\"width\":700},\"id\":\"2573\",\"type\":\"DataTable\"},{\"attributes\":{\"source\":{\"id\":\"2541\"}},\"id\":\"2574\",\"type\":\"CDSView\"},{\"attributes\":{\"editor\":{\"id\":\"2544\"},\"field\":\"CoinName\",\"formatter\":{\"id\":\"2543\"},\"title\":\"CoinName\"},\"id\":\"2545\",\"type\":\"TableColumn\"},{\"attributes\":{\"data\":{\"Algorithm\":[\"Scrypt\",\"Scrypt\",\"X13\",\"SHA-256\",\"Ethash\",\"Scrypt\",\"X11\",\"CryptoNight-V7\",\"Ethash\",\"Equihash\",\"SHA-512\",\"Multiple\",\"SHA-256\",\"SHA-256\",\"Scrypt\",\"X15\",\"X11\",\"Scrypt\",\"Scrypt\",\"Scrypt\",\"Multiple\",\"Scrypt\",\"SHA-256\",\"Scrypt\",\"Scrypt\",\"Scrypt\",\"Quark\",\"Groestl\",\"Scrypt\",\"Scrypt\",\"Scrypt\",\"Scrypt\",\"Scrypt\",\"X11\",\"Scrypt\",\"Groestl\",\"Multiple\",\"SHA-256\",\"Scrypt\",\"Scrypt\",\"Scrypt\",\"Scrypt\",\"PoS\",\"Scrypt\",\"Scrypt\",\"NeoScrypt\",\"Scrypt\",\"Scrypt\",\"Scrypt\",\"Scrypt\",\"X11\",\"Scrypt\",\"X11\",\"SHA-256\",\"Scrypt\",\"Scrypt\",\"Scrypt\",\"SHA3\",\"Scrypt\",\"HybridScryptHash256\",\"Scrypt\",\"Scrypt\",\"SHA-256\",\"Scrypt\",\"X13\",\"Scrypt\",\"SHA-256\",\"Scrypt\",\"X13\",\"NeoScrypt\",\"Scrypt\",\"Scrypt\",\"Scrypt\",\"Scrypt\",\"Scrypt\",\"Scrypt\",\"X11\",\"X11\",\"SHA-256\",\"Multiple\",\"SHA-256\",\"PHI1612\",\"X11\",\"SHA-256\",\"SHA-256\",\"SHA-256\",\"X11\",\"Scrypt\",\"Scrypt\",\"Scrypt\",\"Scrypt\",\"Lyra2REv2\",\"Scrypt\",\"X11\",\"Multiple\",\"SHA-256\",\"X13\",\"Scrypt\",\"CryptoNight\",\"CryptoNight\",\"Shabal256\",\"Counterparty\",\"Scrypt\",\"SHA-256\",\"Groestl\",\"Scrypt\",\"Scrypt\",\"Scrypt\",\"X13\",\"Scrypt\",\"Scrypt\",\"Scrypt\",\"Scrypt\",\"X13\",\"Scrypt\",\"Stanford Folding\",\"X11\",\"Multiple\",\"QuBit\",\"Scrypt\",\"Scrypt\",\"Scrypt\",\"M7 POW\",\"Scrypt\",\"SHA-256\",\"Scrypt\",\"X11\",\"SHA3\",\"X11\",\"Lyra2RE\",\"SHA-256\",\"QUAIT\",\"X11\",\"X11\",\"Scrypt\",\"Scrypt\",\"Scrypt\",\"Ethash\",\"X13\",\"Blake2b\",\"SHA-256\",\"X15\",\"X11\",\"SHA-256\",\"BLAKE256\",\"Scrypt\",\"1GB AES Pattern Search\",\"SHA-256\",\"X11\",\"Scrypt\",\"SHA-256\",\"SHA-256\",\"NIST5\",\"Scrypt\",\"Scrypt\",\"X11\",\"Dagger\",\"Scrypt\",\"X11GOST\",\"X11\",\"Scrypt\",\"SHA-256\",\"Scrypt\",\"PoS\",\"Scrypt\",\"X11\",\"X11\",\"SHA-256\",\"SHA-256\",\"NIST5\",\"X11\",\"Scrypt\",\"POS 3.0\",\"Scrypt\",\"Scrypt\",\"Scrypt\",\"X13\",\"X11\",\"X11\",\"Equihash\",\"X11\",\"Scrypt\",\"CryptoNight\",\"SHA-256\",\"SHA-256\",\"X11\",\"Scrypt\",\"Multiple\",\"Scrypt\",\"Scrypt\",\"Scrypt\",\"SHA-256\",\"Scrypt\",\"Scrypt\",\"SHA-256D\",\"PoS\",\"Scrypt\",\"X11\",\"Lyra2Z\",\"PoS\",\"X13\",\"X14\",\"PoS\",\"SHA-256D\",\"Ethash\",\"Equihash\",\"DPoS\",\"X11\",\"Scrypt\",\"X11\",\"X13\",\"X11\",\"PoS\",\"Scrypt\",\"Scrypt\",\"X11\",\"PoS\",\"X11\",\"SHA-256\",\"Scrypt\",\"X11\",\"Scrypt\",\"Scrypt\",\"X11\",\"CryptoNight\",\"Scrypt\",\"Scrypt\",\"Scrypt\",\"Scrypt\",\"Quark\",\"QuBit\",\"Scrypt\",\"CryptoNight\",\"Lyra2RE\",\"Scrypt\",\"SHA-256\",\"X11\",\"Scrypt\",\"X11\",\"Scrypt\",\"CryptoNight-V7\",\"Scrypt\",\"Scrypt\",\"Scrypt\",\"X13\",\"X11\",\"Equihash\",\"Scrypt\",\"Scrypt\",\"Lyra2RE\",\"Scrypt\",\"Dagger-Hashimoto\",\"X11\",\"Blake2S\",\"X11\",\"Scrypt\",\"PoS\",\"X11\",\"NIST5\",\"PoS\",\"X11\",\"Scrypt\",\"Scrypt\",\"Scrypt\",\"SHA-256\",\"X11\",\"Scrypt\",\"Scrypt\",\"SHA-256\",\"PoS\",\"Scrypt\",\"X15\",\"SHA-256\",\"Scrypt\",\"POS 3.0\",\"CryptoNight-V7\",\"536\",\"Argon2d\",\"Blake2b\",\"Cloverhash\",\"CryptoNight\",\"NIST5\",\"X11\",\"NIST5\",\"Skein\",\"Scrypt\",\"X13\",\"Scrypt\",\"X11\",\"X11\",\"Scrypt\",\"CryptoNight\",\"X13\",\"Time Travel\",\"Scrypt\",\"Keccak\",\"SkunkHash v2 Raptor\",\"X11\",\"Skein\",\"SHA-256\",\"X11\",\"Scrypt\",\"VeChainThor Authority\",\"Scrypt\",\"PoS\",\"Scrypt\",\"Scrypt\",\"Scrypt\",\"Scrypt\",\"Scrypt\",\"Scrypt\",\"Scrypt\",\"CryptoNight\",\"SHA-512\",\"Ouroboros\",\"X11\",\"Equihash\",\"NeoScrypt\",\"X11\",\"Scrypt\",\"NeoScrypt\",\"Lyra2REv2\",\"Equihash\",\"Scrypt\",\"SHA-256\",\"NIST5\",\"PHI1612\",\"Dagger\",\"Scrypt\",\"Quark\",\"Scrypt\",\"POS 2.0\",\"Scrypt\",\"SHA-256\",\"X11\",\"NeoScrypt\",\"Ethash\",\"NeoScrypt\",\"X11\",\"DPoS\",\"NIST5\",\"X13\",\"Multiple\",\"Scrypt\",\"CryptoNight\",\"CryptoNight\",\"Ethash\",\"NIST5\",\"Quark\",\"X11\",\"CryptoNight-V7\",\"Scrypt\",\"Scrypt\",\"Scrypt\",\"X11\",\"BLAKE256\",\"X11\",\"NeoScrypt\",\"Quark\",\"NeoScrypt\",\"Scrypt\",\"Scrypt\",\"Scrypt\",\"X11\",\"X11\",\"SHA-256\",\"C11\",\"POS 3.0\",\"Ethash\",\"Scrypt\",\"CryptoNight\",\"SkunkHash\",\"Scrypt\",\"CryptoNight\",\"Scrypt\",\"Dagger\",\"Lyra2REv2\",\"X13\",\"Proof-of-BibleHash\",\"SHA-256 + Hive\",\"Scrypt\",\"Scrypt\",\"X11\",\"C11\",\"Proof-of-Authority\",\"X11\",\"XEVAN\",\"Scrypt\",\"VBFT\",\"Ethash\",\"CryptoNight\",\"Scrypt\",\"IMesh\",\"NIST5\",\"Scrypt\",\"Scrypt\",\"Equihash\",\"Scrypt\",\"Lyra2Z\",\"Green Protocol\",\"PoS\",\"Scrypt\",\"Semux BFT consensus\",\"X11\",\"Quark\",\"PoS\",\"CryptoNight\",\"X16R\",\"Scrypt\",\"NIST5\",\"Lyra2RE\",\"XEVAN\",\"Tribus\",\"Scrypt\",\"Lyra2Z\",\"CryptoNight\",\"CryptoNight Heavy\",\"CryptoNight\",\"Scrypt\",\"Scrypt\",\"Jump Consistent Hash\",\"SHA-256D\",\"CryptoNight\",\"Scrypt\",\"X15\",\"Scrypt\",\"Quark\",\"SHA-256\",\"DPoS\",\"X16R\",\"HMQ1725\",\"X11\",\"X16R\",\"Quark\",\"Quark\",\"Scrypt\",\"Lyra2REv2\",\"Quark\",\"Scrypt\",\"Scrypt\",\"CryptoNight-V7\",\"Cryptonight-GPU\",\"XEVAN\",\"CryptoNight Heavy\",\"X11\",\"X11\",\"Scrypt\",\"PoS\",\"SHA-256\",\"Keccak\",\"X11\",\"X11\",\"Scrypt\",\"SHA-512\",\"X16R\",\"ECC 256K1\",\"Equihash\",\"XEVAN\",\"Lyra2Z\",\"SHA-256\",\"XEVAN\",\"X11\",\"CryptoNight\",\"Quark\",\"Blake\",\"Blake\",\"Equihash\",\"Exosis\",\"Scrypt\",\"Scrypt\",\"Equihash\",\"Quark\",\"Equihash\",\"Quark\",\"Scrypt\",\"QuBit\",\"X11\",\"Scrypt\",\"XEVAN\",\"SHA-256D\",\"X11\",\"SHA-256\",\"X13\",\"SHA-256\",\"X11\",\"DPoS\",\"Scrypt\",\"Scrypt\",\"X11\",\"NeoScrypt\",\"Scrypt\",\"Blake\",\"Scrypt\",\"SHA-256\",\"Scrypt\",\"X11\",\"Scrypt\",\"Scrypt\",\"SHA-256\",\"X11\",\"SHA-256\",\"Scrypt\",\"Scrypt\",\"Scrypt\",\"Groestl\",\"X11\",\"Scrypt\",\"PoS\",\"Scrypt\",\"Scrypt\",\"X11\",\"SHA-256\",\"DPoS\",\"Scrypt\",\"Scrypt\",\"NeoScrypt\",\"Multiple\",\"X13\",\"Equihash+Scrypt\",\"DPoS\",\"Ethash\",\"DPoS\",\"SHA-256\",\"Leased POS\",\"PoS\",\"TRC10\",\"PoS\",\"SHA-256\",\"Scrypt\",\"CryptoNight\",\"Equihash\",\"Scrypt\"],\"CoinName\":[\"42 Coin\",\"404Coin\",\"EliteCoin\",\"Bitcoin\",\"Ethereum\",\"Litecoin\",\"Dash\",\"Monero\",\"Ethereum Classic\",\"ZCash\",\"Bitshares\",\"DigiByte\",\"BitcoinDark\",\"PayCoin\",\"ProsperCoin\",\"KoboCoin\",\"Spreadcoin\",\"Argentum\",\"Aurora Coin\",\"BlueCoin\",\"MyriadCoin\",\"MoonCoin\",\"ZetaCoin\",\"SexCoin\",\"Quatloo\",\"EnergyCoin\",\"QuarkCoin\",\"Riecoin\",\"Digitalcoin \",\"BitBar\",\"Catcoin\",\"CryptoBullion\",\"CannaCoin\",\"CryptCoin\",\"CasinoCoin\",\"Diamond\",\"Verge\",\"DevCoin\",\"EarthCoin\",\"E-Gulden\",\"Einsteinium\",\"Emerald\",\"Exclusive Coin\",\"FlutterCoin\",\"Franko\",\"FeatherCoin\",\"GrandCoin\",\"GlobalCoin\",\"GoldCoin\",\"HoboNickels\",\"HyperStake\",\"Infinite Coin\",\"IOCoin\",\"IXcoin\",\"KrugerCoin\",\"LuckyCoin\",\"Litebar \",\"MaxCoin\",\"MegaCoin\",\"MediterraneanCoin\",\"MintCoin\",\"MinCoin\",\"MazaCoin\",\"Nautilus Coin\",\"NavCoin\",\"NobleCoin\",\"Namecoin\",\"NyanCoin\",\"OpalCoin\",\"Orbitcoin\",\"PotCoin\",\"PhoenixCoin\",\"Reddcoin\",\"RonPaulCoin\",\"StableCoin\",\"SmartCoin\",\"SuperCoin\",\"SyncCoin\",\"SysCoin\",\"TeslaCoin\",\"TigerCoin\",\"TittieCoin\",\"TorCoin\",\"TerraCoin\",\"UnbreakableCoin\",\"Unobtanium\",\"UroCoin\",\"UnitaryStatus Dollar\",\"UltraCoin\",\"ViaCoin\",\"VeriCoin\",\"Vertcoin\",\"WorldCoin\",\"X11 Coin\",\"Crypti\",\"JouleCoin\",\"StealthCoin\",\"ZCC Coin\",\"ByteCoin\",\"DigitalNote \",\"BurstCoin\",\"StorjCoin\",\"MonaCoin\",\"Neutron\",\"FairCoin\",\"Gulden\",\"RubyCoin\",\"PesetaCoin\",\"Kore\",\"Wild Beast Coin\",\"Dnotes\",\"Flo\",\"8BIT Coin\",\"Sativa Coin\",\"ArtByte\",\"Folding Coin\",\"Ucoin\",\"Unitus\",\"CypherPunkCoin\",\"OmniCron\",\"Vtorrent\",\"GreenCoin\",\"Cryptonite\",\"MasterCoin\",\"SoonCoin\",\"1Credit\",\"IslaCoin\",\"Nexus\",\"MarsCoin \",\"Crypto\",\"Anarchists Prime\",\"Droidz\",\"BowsCoin\",\"Squall Coin\",\"Song Coin\",\"BitZeny\",\"Diggits\",\"Expanse\",\"Paycon\",\"Siacoin\",\"Emercoin\",\"EverGreenCoin\",\"MindCoin\",\"I0coin\",\"Decred\",\"Revolution VR\",\"HOdlcoin\",\"EDRCoin\",\"Hitcoin\",\"Gamecredits\",\"DubaiCoin\",\"CarpeDiemCoin\",\"PWR Coin\",\"BillaryCoin\",\"GPU Coin\",\"Adzcoin\",\"SoilCoin\",\"YoCoin\",\"SibCoin\",\"EuropeCoin\",\"ZeitCoin\",\"SwingCoin\",\"SafeExchangeCoin\",\"Nebuchadnezzar\",\"Francs\",\"BolivarCoin\",\"Ratecoin\",\"Revenu\",\"Clockcoin\",\"VIP Tokens\",\"BitSend\",\"Omni\",\"Let it Ride\",\"PutinCoin\",\"iBankCoin\",\"Frankywillcoin\",\"MudraCoin\",\"PizzaCoin\",\"Lutetium Coin\",\"Komodo\",\"GoldBlocks\",\"CarterCoin\",\"Karbo\",\"BitTokens\",\"ZayedCoin\",\"MustangCoin\",\"ZoneCoin\",\"Circuits of Value\",\"RootCoin\",\"DopeCoin\",\"BitCurrency\",\"DollarCoin\",\"Swiscoin\",\"Shilling\",\"BuzzCoin\",\"Opair\",\"PesoBit\",\"Halloween Coin\",\"ZCoin\",\"CoffeeCoin\",\"RoyalCoin\",\"GanjaCoin V2\",\"TeamUP\",\"LanaCoin\",\"Elementrem\",\"ZClassic\",\"ARK\",\"InsaneCoin\",\"KiloCoin\",\"ArtexCoin\",\"EmberCoin\",\"XenixCoin\",\"FreeCoin\",\"PLNCoin\",\"AquariusCoin\",\"Kurrent\",\"Creatio\",\"Eternity\",\"Eurocoin\",\"BitcoinFast\",\"Stakenet\",\"BitConnect Coin\",\"MoneyCoin\",\"Enigma\",\"Cannabis Industry Coin\",\"Russiacoin\",\"PandaCoin\",\"GameUnits\",\"GAKHcoin\",\"Allsafe\",\"LiteCreed\",\"OsmiumCoin\",\"Bikercoins\",\"HexxCoin\",\"Klingon Empire Darsek\",\"Internet of People\",\"KushCoin\",\"Printerium\",\"PacCoin\",\"Impeach\",\"Citadel\",\"Zilbercoin\",\"FirstCoin\",\"BeaverCoin\",\"FindCoin\",\"VaultCoin\",\"Zero\",\"OpenChat\",\"Canada eCoin\",\"Zoin\",\"RenosCoin\",\"DubaiCoin\",\"VirtacoinPlus\",\"TajCoin\",\"Impact\",\"EB3coin\",\"Atmos\",\"HappyCoin\",\"Coinonat\",\"MacronCoin\",\"Condensate\",\"Independent Money System\",\"ArgusCoin\",\"LomoCoin\",\"ProCurrency\",\"GoldReserve\",\"BenjiRolls\",\"GrowthCoin\",\"ILCoin\",\"Phreak\",\"Degas Coin\",\"HTML5 Coin\",\"Ultimate Secure Cash\",\"EquiTrader\",\"QTUM\",\"Quantum Resistant Ledger\",\"Espers\",\"Dynamic\",\"Nano\",\"ChanCoin\",\"Dinastycoin\",\"Denarius\",\"DigitalPrice\",\"Virta Unique Coin\",\"Bitcoin Planet\",\"Unify\",\"BritCoin\",\"SocialCoin\",\"ArcticCoin\",\"DAS\",\"Linda\",\"LeviarCoin\",\"DeepOnion\",\"Bitcore\",\"gCn Coin\",\"SmartCash\",\"Signatum\",\"Onix\",\"Cream\",\"Bitcoin Cash\",\"Monoeci\",\"Draftcoin\",\"Vechain\",\"Sojourn Coin\",\"Stakecoin\",\"NewYorkCoin\",\"FrazCoin\",\"Kronecoin\",\"AdCoin\",\"Linx\",\"CoinonatX\",\"Ethereum Dark\",\"Sumokoin\",\"Obsidian\",\"Cardano\",\"Regalcoin\",\"BitcoinZ\",\"TrezarCoin\",\"Elements\",\"TerraNovaCoin\",\"VIVO Coin\",\"Rupee\",\"Bitcoin Gold\",\"WomenCoin\",\"Theresa May Coin\",\"NamoCoin\",\"LUXCoin\",\"Pirl\",\"Xios\",\"Bitcloud 2.0\",\"eBoost\",\"KekCoin\",\"BlackholeCoin\",\"Infinity Economics\",\"Pura\",\"Innova\",\"Ellaism\",\"GoByte\",\"Magnet\",\"Lamden Tau\",\"Electra\",\"Bitcoin Diamond\",\"SHIELD\",\"Cash & Back Coin\",\"UltraNote\",\"BitCoal\",\"DaxxCoin\",\"Bulwark\",\"Kalkulus\",\"AC3\",\"Lethean\",\"GermanCoin\",\"LiteCoin Ultra\",\"PopularCoin\",\"PhantomX\",\"Photon\",\"Sucre\",\"SparksPay\",\"Digiwage\",\"GunCoin\",\"IrishCoin\",\"Trollcoin\",\"Litecoin Plus\",\"Monkey Project\",\"Pioneer Coin\",\"UnitedBitcoin\",\"Interzone\",\"TokenPay\",\"1717 Masonic Commemorative Token\",\"My Big Coin\",\"TurtleCoin\",\"MUNcoin\",\"Unified Society USDEX\",\"Niobio Cash\",\"ShareChain\",\"Travelflex\",\"KREDS\",\"Tokyo Coin\",\"BiblePay\",\"LitecoinCash\",\"BitFlip\",\"LottoCoin\",\"Crypto Improvement Fund\",\"Stipend\",\"Poa Network\",\"Pushi\",\"Ellerium\",\"Velox\",\"Ontology\",\"Callisto Network\",\"BitTube\",\"Poseidon\",\"Aidos Kuneen\",\"Bitspace\",\"Briacoin\",\"Ignition\",\"Bitrolium\",\"MedicCoin\",\"Alpenschillling\",\"Bitcoin Green\",\"Deviant Coin\",\"Abjcoin\",\"Semux\",\"FuturoCoin\",\"Carebit\",\"Zealium\",\"Monero Classic\",\"Proton\",\"iDealCash\",\"Jumpcoin\",\"Infinex\",\"Bitcoin Incognito\",\"KEYCO\",\"HollyWoodCoin\",\"GINcoin\",\"PlatinCoin\",\"Loki\",\"Newton Coin\",\"Swisscoin\",\"Xt3ch\",\"MassGrid\",\"TheVig\",\"PluraCoin\",\"EmaratCoin\",\"Dekado\",\"Lynx\",\"Poseidon Quark\",\"BitcoinWSpectrum\",\"Muse\",\"Motion\",\"PlusOneCoin\",\"Axe\",\"Trivechain\",\"Dystem\",\"Giant\",\"Peony Coin\",\"Absolute Coin\",\"Vitae\",\"HexCoin\",\"TPCash\",\"Webchain\",\"Ryo\",\"Urals Coin\",\"Qwertycoin\",\"ARENON\",\"EUNO\",\"MMOCoin\",\"Ketan\",\"Project Pai\",\"XDNA\",\"PAXEX\",\"Azart\",\"ThunderStake\",\"Kcash\",\"Xchange\",\"Acute Angle Cloud\",\"CrypticCoin\",\"Bettex coin\",\"Actinium\",\"Bitcoin SV\",\"BitMoney\",\"Junson Ming Chan Coin\",\"FREDEnergy\",\"HerbCoin\",\"Universal Molecule\",\"Lithium\",\"PirateCash\",\"Exosis\",\"Block-Logic\",\"Oduwa\",\"Beam\",\"Galilel\",\"Bithereum\",\"Crypto Sports\",\"Credit\",\"SLICE\",\"Dash Platinum\",\"Nasdacoin\",\"Beetle Coin\",\"Titan Coin\",\"Award\",\"BLAST\",\"Bitcoin Rhodium\",\"GlobalToken\",\"Insane Coin\",\"ALAX\",\"LiteDoge\",\"SolarCoin\",\"TruckCoin\",\"UFO Coin\",\"OrangeCoin\",\"BlakeCoin\",\"BitstarCoin\",\"NeosCoin\",\"HyperCoin\",\"PinkCoin\",\"Crypto Escudo\",\"AudioCoin\",\"IncaKoin\",\"Piggy Coin\",\"Crown Coin\",\"Genstake\",\"SmileyCoin\",\"XiaoMiCoin\",\"Groestlcoin\",\"CapriCoin\",\" ClubCoin\",\"Radium\",\"Bata\",\"Pakcoin\",\"Creditbit \",\"OKCash\",\"Lisk\",\"HiCoin\",\"WhiteCoin\",\"FriendshipCoin\",\"JoinCoin\",\"Triangles Coin\",\"Vollar\",\"EOS\",\"Reality Clash\",\"Oxycoin\",\"TigerCash\",\"Waves\",\"Particl\",\"BitTorrent\",\"Nxt\",\"ZEPHYR\",\"Gapcoin\",\"Beldex\",\"Horizen\",\"BitcoinPlus\"],\"ProofType\":[\"PoW/PoS\",\"PoW/PoS\",\"PoW/PoS\",\"PoW\",\"PoW\",\"PoW\",\"PoW/PoS\",\"PoW\",\"PoW\",\"PoW\",\"PoS\",\"PoW\",\"PoW/PoS\",\"PoS\",\"PoW\",\"PoW/PoS\",\"PoW\",\"PoW\",\"PoW/PoS\",\"PoW/PoS\",\"PoW\",\"PoW\",\"PoW\",\"PoW\",\"PoW\",\"PoW/PoS\",\"PoW\",\"PoW\",\"PoW\",\"PoW/PoS\",\"PoW\",\"PoW/PoS\",\"PoW\",\"PoW\",\"PoC\",\"PoW/PoS\",\"PoW\",\"PoW\",\"PoW\",\"PoW\",\"PoW\",\"PoW\",\"PoS\",\"PoS/PoW/PoT\",\"PoW\",\"PoW\",\"PoW\",\"PoW\",\"PoW\",\"PoW/PoS\",\"PoS\",\"PoW\",\"PoW/PoS\",\"PoW\",\"PoW\",\"PoW\",\"PoW\",\"PoW/PoS\",\"PoW\",\"PoW\",\"PoS\",\"PoW\",\"PoW/PoS\",\"PoS\",\"PoW/PoS\",\"PoW\",\"PoW\",\"PoW\",\"PoW/PoS\",\"PoW/PoS\",\"PoW/PoS\",\"PoW/PoS\",\"PoW/PoS\",\"PoW\",\"PoW\",\"PoW\",\"PoS\",\"PoW/PoS\",\"PoW\",\"PoS\",\"PoW\",\"PoS\",\"PoW/PoS\",\"PoW\",\"PoW\",\"PoW\",\"PoW\",\"PoW/PoS\",\"PoW/PoS\",\"PoW\",\"PoST\",\"PoW\",\"PoW\",\"PoW/PoS\",\"PoS\",\"PoW\",\"PoW/PoS\",\"PoW/PoS\",\"PoW\",\"PoW\",\"PoC\",\"PoS\",\"PoW\",\"PoW/PoS\",\"PoW/PoS\",\"PoW\",\"PoS\",\"PoW\",\"PoW/PoS\",\"PoW\",\"PoS\",\"PoW\",\"PoW/PoS\",\"PoW/PoS\",\"PoW\",\"PoW\",\"PoS\",\"PoW\",\"PoW\",\"PoW\",\"PoW/PoS\",\"PoW\",\"PoW\",\"PoW\",\"PoW\",\"PoW\",\"PoW/PoS\",\"PoW/nPoS\",\"PoW\",\"PoW\",\"PoW\",\"PoW/PoS\",\"PoW\",\"PoS/PoW\",\"PoW\",\"PoW\",\"PoS\",\"PoW\",\"PoW/PoS\",\"PoW\",\"PoW/PoS\",\"PoW/PoS\",\"PoW\",\"PoW\",\"PoW/PoS\",\"PoW\",\"PoW\",\"PoW/PoS\",\"PoW/PoS\",\"PoW\",\"PoW/PoS\",\"PoW\",\"PoW/PoS\",\"PoW/PoS\",\"PoS\",\"PoW\",\"PoW\",\"PoW\",\"PoW\",\"PoW/PoS\",\"PoS\",\"PoW/PoS\",\"PoC\",\"PoS\",\"PoW\",\"PoW\",\"PoW/PoS\",\"PoW/PoS\",\"PoW/PoS\",\"PoW/PoS\",\"PoW/PoS\",\"PoW\",\"PoS\",\"PoW/PoS\",\"PoW/PoS\",\"PoW/PoS\",\"PoS\",\"PoW\",\"PoS\",\"dPoW/PoW\",\"PoW/PoS\",\"PoW/PoS\",\"PoW\",\"PoW/PoS\",\"PoW\",\"PoW/PoS\",\"PoW/PoS\",\"PoW\",\"PoW/PoS\",\"PoW\",\"PoS\",\"PoW\",\"PoW/PoW\",\"PoW\",\"PoW/PoS\",\"PoS\",\"PoW/PoS\",\"PoW/PoS\",\"PoW\",\"PoS\",\"PoS\",\"PoW/PoS\",\"PoS\",\"PoW/PoS\",\"PoW\",\"PoW\",\"DPoS\",\"PoW/PoS\",\"PoW\",\"PoW\",\"PoW/PoS\",\"PoW/PoS\",\"PoS\",\"PoW/PoS\",\"PoW/PoS\",\"PoW\",\"PoS\",\"PoW/PoS\",\"PoW/PoS\",\"PoW/PoS\",\"TPoS\",\"PoW/PoS\",\"PoW/PoS\",\"PoW/PoS\",\"PoW\",\"PoW/PoS\",\"PoS\",\"PoW/PoS\",\"PoW/PoS\",\"PoS\",\"PoW/PoS\",\"PoW\",\"PoW\",\"PoW\",\"PoW/PoS\",\"PoW/PoS\",\"PoW/PoS\",\"PoW/PoS\",\"PoW\",\"PoW/PoS\",\"PoW\",\"PoS\",\"PoW/PoS \",\"PoW\",\"PoS\",\"PoW\",\"PoW\",\"PoW/PoS\",\"PoW\",\"PoW\",\"PoS\",\"PoW\",\"PoW/PoS\",\"PoW/PoS\",\"PoW/PoS\",\"PoW\",\"PoS\",\"PoW/PoS\",\"PoW\",\"PoS\",\"PoW/PoS\",\"PoW/PoS\",\"PoW/PoS\",\"PoW/PoS\",\"PoS\",\"PoW/PoS\",\"PoW\",\"PoS\",\"PoW\",\"PoS\",\"PoW/PoS\",\"PoW/PoS\",\"PoS\",\"PoW\",\"PoS\",\"PoW\",\"PoW/PoS\",\"PoW\",\"PoW\",\"PoW\",\"PoW\",\"PoW/PoS\",\"PoW\",\"PoW/PoS\",\"PoW/PoS\",\"PoW\",\"PoW/PoS\",\"PoW\",\"PoW\",\"PoW\",\"PoW/PoS\",\"PoW\",\"PoW/PoS\",\"PoW\",\"PoW\",\"PoW\",\"PoS\",\"PoW\",\"PoW/PoS\",\"PoW\",\"PoW/PoS\",\"PoS\",\"Proof of Authority\",\"PoW\",\"PoS\",\"PoW\",\"PoW\",\"PoW\",\"PoW\",\"PoW\",\"PoW/PoS\",\"PoW/PoS\",\"PoW\",\"PoS\",\"PoS\",\"PoW/PoS\",\"PoW\",\"PoW/PoS\",\"PoW\",\"PoW/PoS\",\"PoW\",\"PoS\",\"PoW\",\"PoW/PoS\",\"PoW/PoS\",\"PoW/PoS\",\"PoW/PoS\",\"PoW\",\"PoW/PoS\",\"PoW/PoS\",\"PoW\",\"PoS\",\"PoW/PoS\",\"PoS\",\"PoW\",\"PoW\",\"PoW\",\"PoW\",\"PoW/PoS\",\"DPoS\",\"PoW/PoS\",\"PoW/PoS\",\"PoW\",\"PoW/PoS\",\"PoW\",\"PoW\",\"PoW\",\"PoS\",\"PoS\",\"PoW\",\"PoW\",\"PoW/PoS\",\"PoW/PoS\",\"PoW\",\"PoW/PoS\",\"PoW\",\"PoW\",\"PoW\",\"PoS\",\"PoW\",\"PoW\",\"PoW/PoS\",\"PoW/PoS\",\"PoS\",\"PoW\",\"PoW\",\"PoW\",\"PoS\",\"PoS\",\"PoW and PoS\",\"PoW\",\"PoW\",\"PoW/PoS\",\"PoW\",\"PoW\",\"PoW\",\"PoW\",\"PoS\",\"POBh\",\"PoW + Hive\",\"PoW\",\"PoW\",\"PoW\",\"PoW/PoS\",\"PoA\",\"PoW/PoS\",\"PoW/PoS\",\"PoS\",\"PoS\",\"PoW\",\"PoW\",\"PoW\",\"PoW\",\"PoW/PoS\",\"PoW/PoS\",\"PoW/PoS\",\"PoW\",\"PoS\",\"PoW\",\"PoS\",\"PoS\",\"PoW/PoS\",\"DPoS\",\"PoW\",\"PoW/PoS\",\"PoS\",\"PoW\",\"PoS\",\"PoW/PoS\",\"PoW\",\"PoW\",\"PoS/PoW\",\"PoW\",\"PoS\",\"PoW\",\"PoW\",\"PoW\",\"PoW\",\"PoW/PoS\",\"PoS\",\"PoW\",\"PoW/PoS\",\"PoW\",\"PoW/PoS\",\"PoS\",\"HPoW\",\"PoS\",\"PoS\",\"PoS\",\"PoW\",\"PoW\",\"PoW\",\"PoW/PoS\",\"PoS\",\"PoW/PoS\",\"PoS\",\"PoW/PoS\",\"PoS\",\"PoW\",\"PoW/PoS\",\"PoW\",\"PoW\",\"PoW\",\"PoW\",\"PoS\",\"PoW/PoS\",\"PoS\",\"PoS\",\"PoW\",\"PoW/PoS\",\"PoS\",\"PoW\",\"PoW/PoS\",\"Zero-Knowledge Proof\",\"PoW\",\"DPOS\",\"PoW\",\"PoS\",\"PoW\",\"PoW\",\"Pos\",\"PoS\",\"PoW\",\"PoW/PoS\",\"PoW\",\"PoW\",\"PoS\",\"PoW\",\"PoW\",\"PoW/PoS\",\"PoW\",\"PoW/PoS\",\"PoW\",\"PoS\",\"PoW/PoS\",\"PoW\",\"PoS\",\"PoW/PoS\",\"PoW/PoS\",\"PoW/PoS\",\"PoW/PoS\",\"PoW\",\"PoW\",\"PoW\",\"PoW/PoS\",\"DPoS\",\"PoW/PoS\",\"PoW\",\"PoW/PoS\",\"PoW\",\"PoW/PoS\",\"PoW\",\"PoW/PoS\",\"PoS\",\"PoW/PoS\",\"PoW/PoS\",\"PoW\",\"PoW/PoS\",\"PoW/PoS\",\"PoW/PoS\",\"PoW\",\"PoW/PoS\",\"PoW\",\"PoW/PoS\",\"PoW\",\"PoW/PoS\",\"PoW/PoS\",\"PoS\",\"PoW\",\"PoW\",\"Proof of Trust\",\"PoW/PoS\",\"DPoS\",\"PoS\",\"PoW/PoS\",\"PoW/PoS\",\"PoW\",\"PoW/PoS\",\"PoW\",\"DPoS\",\"PoW\",\"DPoS\",\"PoS\",\"LPoS\",\"PoS\",\"DPoS\",\"PoS/LPoS\",\"DPoS\",\"PoW/PoS\",\"PoW\",\"PoW\",\"PoS\"],\"TotalCoinSupply\":[\"42\",\"532000000\",\"3.14159E+11\",\"21000000\",\"0\",\"84000000\",\"22000000\",\"0\",\"210000000\",\"21000000\",\"3600570502\",\"21000000000\",\"22000000\",\"12500000\",\"21000000\",\"350000000\",\"20000000\",\"64000000\",\"16768584\",\"0\",\"2000000000\",\"3.84E+11\",\"169795588\",\"250000000\",\"100000000\",\"0\",\"247000000\",\"84000000\",\"48166000\",\"500000\",\"21000000\",\"1000000\",\"13140000\",\"18000000\",\"40000000000\",\"4380000\",\"16555000000\",\"21000000000\",\"13500000000\",\"21000000\",\"299792458\",\"32000000\",\"0\",\"0\",\"11235813\",\"336000000\",\"1420609614\",\"70000000\",\"72245700\",\"120000000\",\"0\",\"90600000000\",\"22000000\",\"21000000\",\"265420800\",\"20000000\",\"1350000\",\"100000000\",\"42000000\",\"200000000\",\"0\",\"10000000\",\"2419200000\",\"16180000\",\"0\",\"15000000000\",\"21000000\",\"337000000\",\"0\",\"3770000\",\"420000000\",\"98000000\",\"0\",\"21000000\",\"250000000\",\"51200000\",\"0\",\"1000\",\"888000000\",\"100000000\",\"47011968\",\"2300000000\",\"10000000\",\"42000000\",\"80000000\",\"250000\",\"0\",\"1600000000\",\"100000000\",\"23000000\",\"0\",\"84000000\",\"265420800\",\"5500000\",\"0\",\"45000000\",\"0\",\"1000000000\",\"1.84467E+11\",\"10000000000\",\"2158812800\",\"500000000\",\"105120000\",\"68000000\",\"0\",\"1680000000\",\"0\",\"166386000\",\"12000000\",\"2628000\",\"500000000\",\"160000000\",\"0\",\"10000000\",\"1000000000\",\"1000000000\",\"20000000\",\"0\",\"0\",\"3371337\",\"20000000\",\"10000000000\",\"1840000000\",\"619478\",\"21000000\",\"92000000000\",\"0\",\"78000000\",\"33000000\",\"65789100\",\"53760000\",\"5060000\",\"21000000\",\"0\",\"210240000\",\"250000000\",\"100000000\",\"16906397\",\"50000000\",\"0\",\"1000000000\",\"26298000\",\"16000000\",\"21000000\",\"21000000\",\"210000000\",\"81962100\",\"22000000\",\"26550000000\",\"84000000\",\"10500000\",\"21626280000\",\"0\",\"42000000\",\"221052632\",\"84000000\",\"30000000\",\"168351300\",\"24000000\",\"384000000\",\"99000000000\",\"40000000\",\"2147483647\",\"20000000\",\"20000000\",\"25000000\",\"75000000\",\"222725000\",\"525000000\",\"90000000\",\"139000000\",\"616448\",\"33500000\",\"2000000000\",\"44333333\",\"100000000\",\"200000000\",\"25000000\",\"657000000\",\"200000000\",\"50000000\",\"90000000\",\"10000000\",\"21000000\",\"9736000\",\"3000000\",\"21000000\",\"1200000000\",\"0\",\"200000000\",\"0\",\"10638298\",\"3100000000\",\"30000000\",\"20000000000\",\"74000000\",\"0\",\"1500000000\",\"21400000\",\"39999898\",\"2500124\",\"100000000\",\"301000000\",\"7506000000\",\"26205539\",\"21000000\",\"125000000\",\"30000000\",\"10000000000\",\"500000000\",\"850000000\",\"3853326.777\",\"50000000\",\"38540000\",\"42000000\",\"228000000\",\"20000000\",\"60000000\",\"20000000\",\"33000000\",\"76500000\",\"28000000\",\"650659833\",\"5000000\",\"21000000\",\"144000000\",\"32514916898\",\"13000000\",\"3315789\",\"15000000\",\"78835200\",\"2714286\",\"25000000\",\"9999999\",\"500000000\",\"21000000\",\"9354000\",\"20000000\",\"1E+11\",\"21933333\",\"185000000\",\"55000000\",\"110000000\",\"3360000\",\"14524851.48\",\"1000000000\",\"17000000\",\"1000000000\",\"100000000\",\"21000000\",\"34426423\",\"2232901\",\"100000000\",\"36900000\",\"110000000\",\"4000000000\",\"110290030\",\"100000000\",\"48252000\",\"400000000\",\"500000000\",\"21212121\",\"28600000\",\"1000000000\",\"75000000000\",\"40000000\",\"35520400\",\"2000000000\",\"2500000000\",\"30000000\",\"105000000\",\"90000000000\",\"200084200\",\"72000000\",\"100000000\",\"105000000\",\"50000000000\",\"0\",\"340282367\",\"30000000\",\"2000000000\",\"10000000\",\"100000000\",\"120000000\",\"100000000\",\"19276800\",\"30000000\",\"75000000\",\"60000000\",\"18900000\",\"50000000000\",\"54000000\",\"18898187.62\",\"21000000\",\"2E+11\",\"5000000000\",\"137500000\",\"1100000000\",\"100000000\",\"21000000\",\"9507271\",\"17405891.2\",\"86712634466\",\"10500000000\",\"61599965\",\"0\",\"20000000\",\"84000000\",\"100000000\",\"100000000\",\"48252000\",\"4200000\",\"88888888\",\"91388946\",\"45000000000\",\"27000000\",\"21000000000\",\"400000000\",\"1800000000\",\"15733333\",\"27000000\",\"24000000\",\"21000000\",\"25000000000\",\"100000000\",\"1200000000\",\"60000000\",\"156306732.7\",\"21000000\",\"200000000\",\"100000000\",\"21000000\",\"14788275.99\",\"9000000000\",\"350000000\",\"45000000\",\"280000000\",\"31800000\",\"144000000\",\"500000000\",\"30000000000\",\"210000000\",\"660000000\",\"210000000\",\"85000000000\",\"12500000\",\"10000000000\",\"27716121\",\"20000000\",\"550000000\",\"999481516\",\"50000000000\",\"150000000\",\"4999999999\",\"50000000\",\"90000000000\",\"19800000\",\"21000000\",\"120000000\",\"500000000\",\"64000000\",\"900000000\",\"4000000\",\"21000000\",\"23000000\",\"20166000\",\"23000000\",\"25000000\",\"1618033\",\"30000000\",\"1E+12\",\"16600000\",\"232000000\",\"336000000\",\"10000000000\",\"100000000\",\"1100000000\",\"800000000\",\"5200000000\",\"840000000\",\"40000000\",\"18406979840\",\"500000000\",\"19340594\",\"252460800\",\"25000000\",\"60000000\",\"124000000\",\"1000000000\",\"6500000000\",\"1000000000\",\"21000000\",\"25000000\",\"50000000\",\"3000000\",\"5000000\",\"70000000\",\"500000000\",\"300000000\",\"21000000\",\"88000000\",\"30000000\",\"100000000\",\"100000000\",\"200000000\",\"80000000\",\"18400000\",\"45000000\",\"5121951220\",\"21000000\",\"26280000\",\"21000000\",\"18000000\",\"26000000\",\"10500000\",\"600000518\",\"150000000\",\"1.84E+11\",\"10200000000\",\"44000000\",\"168000000\",\"100000000\",\"1000000000\",\"84000000\",\"90000000\",\"92000000000\",\"650000000\",\"100262205\",\"18081806\",\"22075700\",\"21000000\",\"21000000\",\"82546564\",\"21000000\",\"5151000\",\"16880000000\",\"52500000\",\"100000000\",\"22105263\",\"1000000000\",\"1750000000\",\"88188888\",\"210000000\",\"1.8447E+11\",\"55000000\",\"50000000\",\"260000000\",\"210000000\",\"2100000000\",\"366000000\",\"100000000\",\"25000000\",\"18000000000\",\"1000000000\",\"100000000\",\"1000000000\",\"7600000000\",\"50000000\",\"84000000\",\"21000000\",\"70000000000\",\"0\",\"8080000000\",\"54000000\",\"105120001.4\",\"25228800\",\"105000000\",\"21000000\",\"120000000\",\"21000000\",\"262800000\",\"19035999\",\"30886000\",\"13370000\",\"74800000000\",\"100000000\",\"19700000\",\"84000000\",\"500000000\",\"5000000000\",\"420000000\",\"64000000\",\"2100000\",\"168000000\",\"30000000\",\"1000000000\",\"35000000000\",\"98100000000\",\"0\",\"4000000000\",\"200000000\",\"7000000000\",\"54256119\",\"21000000\",\"0\",\"500000000\",\"1000000000\",\"10500000000\",\"190000000\",\"1000000000\",\"42000000\",\"15000000\",\"50000000000\",\"400000000\",\"105000000\",\"208000000\",\"160000000\",\"9000000\",\"5000000\",\"182000000\",\"16504333\",\"105000000\",\"159918400\",\"10008835635\",\"300000000\",\"60168145\",\"2800000\",\"120000\",\"2100000000\",\"0\",\"24487944\",\"0\",\"1000000000\",\"100000000\",\"8634140\",\"9.9E+11\",\"1000000000\",\"2000000000\",\"250000000\",\"1400222610\",\"21000000\",\"1000000\"],\"TotalCoinsMined\":{\"__ndarray__\":\"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\",\"dtype\":\"float64\",\"order\":\"little\",\"shape\":[532]},\"class\":{\"__ndarray__\":\"AAAAAAAAAAAAAAAAAQAAAAEAAAABAAAAAAAAAAEAAAABAAAAAQAAAAAAAAABAAAAAAAAAAAAAAABAAAAAAAAAAEAAAABAAAAAAAAAAAAAAABAAAAAQAAAAEAAAABAAAAAQAAAAAAAAABAAAAAQAAAAEAAAAAAAAAAQAAAAAAAAABAAAAAQAAAAAAAAAAAAAAAQAAAAEAAAABAAAAAQAAAAEAAAABAAAAAAAAAAAAAAABAAAAAQAAAAEAAAABAAAAAQAAAAAAAAAAAAAAAQAAAAAAAAABAAAAAQAAAAEAAAABAAAAAAAAAAEAAAABAAAAAAAAAAEAAAAAAAAAAAAAAAAAAAABAAAAAQAAAAEAAAAAAAAAAAAAAAAAAAAAAAAAAAAAAAEAAAABAAAAAQAAAAAAAAAAAAAAAQAAAAAAAAABAAAAAAAAAAAAAAABAAAAAQAAAAEAAAABAAAAAAAAAAAAAAABAAAAAAAAAAEAAAABAAAAAAAAAAAAAAABAAAAAAAAAAAAAAABAAAAAQAAAAAAAAAAAAAAAQAAAAAAAAAAAAAAAQAAAAAAAAABAAAAAAAAAAEAAAAAAAAAAQAAAAAAAAAAAAAAAQAAAAEAAAAAAAAAAQAAAAEAAAABAAAAAAAAAAEAAAABAAAAAQAAAAEAAAABAAAAAAAAAAAAAAABAAAAAQAAAAEAAAAAAAAAAQAAAAAAAAABAAAAAQAAAAAAAAABAAAAAAAAAAEAAAAAAAAAAAAAAAEAAAABAAAAAAAAAAEAAAABAAAAAAAAAAAAAAABAAAAAAAAAAEAAAAAAAAAAAAAAAAAAAABAAAAAQAAAAEAAAABAAAAAAAAAAAAAAAAAAAAAAAAAAAAAAABAAAAAQAAAAAAAAAAAAAAAAAAAAAAAAAAAAAAAQAAAAAAAAAAAAAAAAAAAAAAAAAAAAAAAQAAAAAAAAABAAAAAAAAAAAAAAABAAAAAAAAAAEAAAAAAAAAAAAAAAEAAAAAAAAAAQAAAAAAAAABAAAAAAAAAAEAAAAAAAAAAAAAAAAAAAAAAAAAAQAAAAAAAAAAAAAAAAAAAAAAAAAAAAAAAQAAAAEAAAAAAAAAAAAAAAEAAAABAAAAAAAAAAAAAAAAAAAAAAAAAAAAAAABAAAAAAAAAAAAAAAAAAAAAAAAAAAAAAAAAAAAAAAAAAAAAAABAAAAAAAAAAAAAAAAAAAAAAAAAAAAAAAAAAAAAQAAAAEAAAABAAAAAAAAAAAAAAAAAAAAAAAAAAEAAAAAAAAAAQAAAAAAAAAAAAAAAQAAAAAAAAABAAAAAQAAAAAAAAABAAAAAQAAAAAAAAABAAAAAAAAAAAAAAAAAAAAAQAAAAAAAAAAAAAAAQAAAAAAAAAAAAAAAAAAAAAAAAAAAAAAAAAAAAAAAAABAAAAAAAAAAEAAAAAAAAAAAAAAAAAAAAAAAAAAQAAAAAAAAABAAAAAAAAAAEAAAABAAAAAQAAAAEAAAAAAAAAAQAAAAAAAAAAAAAAAQAAAAAAAAABAAAAAQAAAAEAAAAAAAAAAQAAAAAAAAABAAAAAQAAAAEAAAAAAAAAAQAAAAAAAAABAAAAAAAAAAAAAAADAAAAAQAAAAAAAAABAAAAAQAAAAEAAAABAAAAAQAAAAAAAAAAAAAAAQAAAAAAAAAAAAAAAAAAAAEAAAAAAAAAAQAAAAAAAAABAAAAAAAAAAEAAAAAAAAAAAAAAAAAAAAAAAAAAQAAAAAAAAAAAAAAAQAAAAAAAAAAAAAAAAAAAAEAAAABAAAAAQAAAAEAAAAAAAAAAAAAAAAAAAAAAAAAAQAAAAAAAAABAAAAAQAAAAEAAAAAAAAAAAAAAAEAAAABAAAAAAAAAAAAAAABAAAAAAAAAAEAAAABAAAAAQAAAAAAAAABAAAAAQAAAAAAAAAAAAAAAAAAAAEAAAABAAAAAQAAAAAAAAAAAAAAAAAAAAEAAAABAAAAAAAAAAEAAAABAAAAAQAAAAEAAAAAAAAAAwAAAAMAAAABAAAAAQAAAAEAAAAAAAAAAwAAAAAAAAAAAAAAAAAAAAAAAAABAAAAAQAAAAEAAAABAAAAAAAAAAAAAAAAAAAAAQAAAAAAAAABAAAAAAAAAAAAAAAAAAAAAAAAAAEAAAAAAAAAAAAAAAEAAAAAAAAAAAAAAAEAAAABAAAAAAAAAAEAAAAAAAAAAQAAAAEAAAABAAAAAQAAAAAAAAAAAAAAAQAAAAAAAAABAAAAAAAAAAAAAAAAAAAAAAAAAAAAAAAAAAAAAQAAAAEAAAABAAAAAAAAAAAAAAAAAAAAAAAAAAAAAAAAAAAAAQAAAAAAAAABAAAAAQAAAAEAAAABAAAAAAAAAAAAAAAAAAAAAAAAAAEAAAAAAAAAAAAAAAEAAAAAAAAAAAAAAAEAAAADAAAAAQAAAAAAAAABAAAAAQAAAAAAAAAAAAAAAQAAAAAAAAABAAAAAQAAAAAAAAABAAAAAQAAAAAAAAABAAAAAAAAAAEAAAAAAAAAAAAAAAEAAAAAAAAAAAAAAAAAAAAAAAAAAAAAAAEAAAABAAAAAQAAAAAAAAAAAAAAAAAAAAEAAAAAAAAAAQAAAAAAAAABAAAAAAAAAAAAAAAAAAAAAAAAAAEAAAAAAAAAAAAAAAAAAAABAAAAAAAAAAEAAAAAAAAAAQAAAAAAAAAAAAAAAAAAAAEAAAABAAAAAAAAAAAAAAAAAAAAAAAAAAAAAAAAAAAAAQAAAAAAAAABAAAAAAAAAAEAAAAAAAAAAAAAAAMAAAAAAAAAAgAAAAAAAAAAAAAAAAAAAAEAAAABAAAAAAAAAA==\",\"dtype\":\"int32\",\"order\":\"little\",\"shape\":[532]}},\"selected\":{\"id\":\"2542\"},\"selection_policy\":{\"id\":\"2575\"}},\"id\":\"2541\",\"type\":\"ColumnDataSource\"},{\"attributes\":{},\"id\":\"2542\",\"type\":\"Selection\"},{\"attributes\":{\"children\":[{\"id\":\"2540\"},{\"id\":\"2573\"},{\"id\":\"2579\"}],\"margin\":[0,0,0,0],\"name\":\"Row05156\",\"tags\":[\"embedded\"]},\"id\":\"2539\",\"type\":\"Row\"},{\"attributes\":{\"editor\":{\"id\":\"2564\"},\"field\":\"TotalCoinsMined\",\"formatter\":{\"id\":\"2563\"},\"title\":\"TotalCoinsMined\"},\"id\":\"2565\",\"type\":\"TableColumn\"},{\"attributes\":{},\"id\":\"2549\",\"type\":\"StringEditor\"},{\"attributes\":{},\"id\":\"2544\",\"type\":\"StringEditor\"},{\"attributes\":{},\"id\":\"2548\",\"type\":\"StringFormatter\"},{\"attributes\":{\"editor\":{\"id\":\"2559\"},\"field\":\"TotalCoinSupply\",\"formatter\":{\"id\":\"2558\"},\"title\":\"TotalCoinSupply\"},\"id\":\"2560\",\"type\":\"TableColumn\"},{\"attributes\":{\"editor\":{\"id\":\"2569\"},\"field\":\"class\",\"formatter\":{\"id\":\"2568\"},\"title\":\"class\"},\"id\":\"2570\",\"type\":\"TableColumn\"},{\"attributes\":{\"format\":\"0,0.0[00000]\"},\"id\":\"2563\",\"type\":\"NumberFormatter\"},{\"attributes\":{\"margin\":[5,5,5,5],\"name\":\"HSpacer05160\",\"sizing_mode\":\"stretch_width\"},\"id\":\"2540\",\"type\":\"Spacer\"},{\"attributes\":{\"editor\":{\"id\":\"2554\"},\"field\":\"ProofType\",\"formatter\":{\"id\":\"2553\"},\"title\":\"ProofType\"},\"id\":\"2555\",\"type\":\"TableColumn\"},{\"attributes\":{\"margin\":[5,5,5,5],\"name\":\"HSpacer05161\",\"sizing_mode\":\"stretch_width\"},\"id\":\"2579\",\"type\":\"Spacer\"},{\"attributes\":{},\"id\":\"2553\",\"type\":\"StringFormatter\"},{\"attributes\":{},\"id\":\"2575\",\"type\":\"UnionRenderers\"},{\"attributes\":{},\"id\":\"2568\",\"type\":\"NumberFormatter\"},{\"attributes\":{},\"id\":\"2569\",\"type\":\"IntEditor\"},{\"attributes\":{},\"id\":\"2559\",\"type\":\"StringEditor\"}],\"root_ids\":[\"2539\"]},\"title\":\"Bokeh Application\",\"version\":\"2.1.1\"}};\n",
       "  var render_items = [{\"docid\":\"b3a39306-0537-4c93-b4db-53a43e79df82\",\"root_ids\":[\"2539\"],\"roots\":{\"2539\":\"76506f6c-e51d-48bd-9aa4-e01ca8265de1\"}}];\n",
       "  root.Bokeh.embed.embed_items_notebook(docs_json, render_items);\n",
       "  }\n",
       "if (root.Bokeh !== undefined) {\n",
       "    embed_document(root);\n",
       "  } else {\n",
       "    var attempts = 0;\n",
       "    var timer = setInterval(function(root) {\n",
       "      if (root.Bokeh !== undefined) {\n",
       "        clearInterval(timer);\n",
       "        embed_document(root);\n",
       "      } else if (document.readyState == \"complete\") {\n",
       "        attempts++;\n",
       "        if (attempts > 100) {\n",
       "          clearInterval(timer);\n",
       "          console.log(\"Bokeh: ERROR: Unable to run BokehJS code because BokehJS library is missing\");\n",
       "        }\n",
       "      }\n",
       "    }, 10, root)\n",
       "  }\n",
       "})(window);</script>"
      ],
      "text/plain": [
       ":Table   [CoinName,Algorithm,ProofType,TotalCoinSupply,TotalCoinsMined,class]"
      ]
     },
     "execution_count": 113,
     "metadata": {
      "application/vnd.holoviews_exec.v0+json": {
       "id": "2539"
      }
     },
     "output_type": "execute_result"
    }
   ],
   "source": [
    "# Create a table with tradable cryptocurrencies.\n",
    "clustered_df2.hvplot.table(columns=['CoinName', 'Algorithm', 'ProofType', 'TotalCoinSupply', \n",
    "                        'TotalCoinsMined', 'class'], sortable=True, selectable=True)\n",
    "\n"
   ]
  },
  {
   "cell_type": "code",
   "execution_count": 114,
   "metadata": {},
   "outputs": [
    {
     "name": "stdout",
     "output_type": "stream",
     "text": [
      "The number of tradable crypto currencies is 531\n"
     ]
    }
   ],
   "source": [
    "# Print the total number of tradable cryptocurrencies.\n",
    "number = len(clustered_df2[\"CoinName\"].unique())\n",
    "print(f\"The number of tradable crypto currencies is {number}\")"
   ]
  },
  {
   "cell_type": "code",
   "execution_count": 115,
   "metadata": {
    "scrolled": true
   },
   "outputs": [
    {
     "name": "stdout",
     "output_type": "stream",
     "text": [
      "MinMaxScaler(feature_range=(-1, 1))\n"
     ]
    },
    {
     "data": {
      "text/html": [
       "<div>\n",
       "<style scoped>\n",
       "    .dataframe tbody tr th:only-of-type {\n",
       "        vertical-align: middle;\n",
       "    }\n",
       "\n",
       "    .dataframe tbody tr th {\n",
       "        vertical-align: top;\n",
       "    }\n",
       "\n",
       "    .dataframe thead th {\n",
       "        text-align: right;\n",
       "    }\n",
       "</style>\n",
       "<table border=\"1\" class=\"dataframe\">\n",
       "  <thead>\n",
       "    <tr style=\"text-align: right;\">\n",
       "      <th></th>\n",
       "      <th>TotalCoinsMined</th>\n",
       "      <th>TotalCoinSupply</th>\n",
       "    </tr>\n",
       "    <tr>\n",
       "      <th>Name</th>\n",
       "      <th></th>\n",
       "      <th></th>\n",
       "    </tr>\n",
       "  </thead>\n",
       "  <tbody>\n",
       "    <tr>\n",
       "      <th>42</th>\n",
       "      <td>-1.000000</td>\n",
       "      <td>-1.000000</td>\n",
       "    </tr>\n",
       "    <tr>\n",
       "      <th>404</th>\n",
       "      <td>-0.997868</td>\n",
       "      <td>-0.998936</td>\n",
       "    </tr>\n",
       "    <tr>\n",
       "      <th>1337</th>\n",
       "      <td>-0.940849</td>\n",
       "      <td>-0.371682</td>\n",
       "    </tr>\n",
       "    <tr>\n",
       "      <th>BTC</th>\n",
       "      <td>-0.999964</td>\n",
       "      <td>-0.999958</td>\n",
       "    </tr>\n",
       "    <tr>\n",
       "      <th>ETH</th>\n",
       "      <td>-0.999782</td>\n",
       "      <td>-1.000000</td>\n",
       "    </tr>\n",
       "  </tbody>\n",
       "</table>\n",
       "</div>"
      ],
      "text/plain": [
       "      TotalCoinsMined  TotalCoinSupply\n",
       "Name                                  \n",
       "42          -1.000000        -1.000000\n",
       "404         -0.997868        -0.998936\n",
       "1337        -0.940849        -0.371682\n",
       "BTC         -0.999964        -0.999958\n",
       "ETH         -0.999782        -1.000000"
      ]
     },
     "execution_count": 115,
     "metadata": {},
     "output_type": "execute_result"
    }
   ],
   "source": [
    "scaler1 = MinMaxScaler(feature_range=(-1,1))\n",
    "print(scaler.fit(clustered_df2[[\"TotalCoinsMined\", \"TotalCoinSupply\"]]))\n",
    "MinMaxScaler()\n",
    "scaled_data = scaler.transform(data)\n",
    "scaled_data\n",
    "scaled1_df = pd.DataFrame({'Column1': scaled_data[:, 0], \n",
    "                           'Column2': scaled_data[:, 1]}, \n",
    "                            index = clustered_df2.index )\n",
    "\n",
    "scaled1_df.columns = [\"TotalCoinsMined\", \"TotalCoinSupply\"]\n",
    "scaled1_df.head()\n"
   ]
  },
  {
   "cell_type": "code",
   "execution_count": 116,
   "metadata": {},
   "outputs": [
    {
     "data": {
      "text/html": [
       "<div>\n",
       "<style scoped>\n",
       "    .dataframe tbody tr th:only-of-type {\n",
       "        vertical-align: middle;\n",
       "    }\n",
       "\n",
       "    .dataframe tbody tr th {\n",
       "        vertical-align: top;\n",
       "    }\n",
       "\n",
       "    .dataframe thead th {\n",
       "        text-align: right;\n",
       "    }\n",
       "</style>\n",
       "<table border=\"1\" class=\"dataframe\">\n",
       "  <thead>\n",
       "    <tr style=\"text-align: right;\">\n",
       "      <th></th>\n",
       "      <th>TotalCoinsMined</th>\n",
       "      <th>TotalCoinSupply</th>\n",
       "      <th>CoinName</th>\n",
       "      <th>class</th>\n",
       "      <th>Algorithm</th>\n",
       "    </tr>\n",
       "    <tr>\n",
       "      <th>Name</th>\n",
       "      <th></th>\n",
       "      <th></th>\n",
       "      <th></th>\n",
       "      <th></th>\n",
       "      <th></th>\n",
       "    </tr>\n",
       "  </thead>\n",
       "  <tbody>\n",
       "    <tr>\n",
       "      <th>42</th>\n",
       "      <td>-1.000000</td>\n",
       "      <td>-1.000000</td>\n",
       "      <td>42 Coin</td>\n",
       "      <td>0</td>\n",
       "      <td>Scrypt</td>\n",
       "    </tr>\n",
       "    <tr>\n",
       "      <th>404</th>\n",
       "      <td>-0.997868</td>\n",
       "      <td>-0.998936</td>\n",
       "      <td>404Coin</td>\n",
       "      <td>0</td>\n",
       "      <td>Scrypt</td>\n",
       "    </tr>\n",
       "    <tr>\n",
       "      <th>1337</th>\n",
       "      <td>-0.940849</td>\n",
       "      <td>-0.371682</td>\n",
       "      <td>EliteCoin</td>\n",
       "      <td>0</td>\n",
       "      <td>X13</td>\n",
       "    </tr>\n",
       "    <tr>\n",
       "      <th>BTC</th>\n",
       "      <td>-0.999964</td>\n",
       "      <td>-0.999958</td>\n",
       "      <td>Bitcoin</td>\n",
       "      <td>1</td>\n",
       "      <td>SHA-256</td>\n",
       "    </tr>\n",
       "    <tr>\n",
       "      <th>ETH</th>\n",
       "      <td>-0.999782</td>\n",
       "      <td>-1.000000</td>\n",
       "      <td>Ethereum</td>\n",
       "      <td>1</td>\n",
       "      <td>Ethash</td>\n",
       "    </tr>\n",
       "    <tr>\n",
       "      <th>...</th>\n",
       "      <td>...</td>\n",
       "      <td>...</td>\n",
       "      <td>...</td>\n",
       "      <td>...</td>\n",
       "      <td>...</td>\n",
       "    </tr>\n",
       "    <tr>\n",
       "      <th>ZEPH</th>\n",
       "      <td>-0.995960</td>\n",
       "      <td>-0.996000</td>\n",
       "      <td>ZEPHYR</td>\n",
       "      <td>0</td>\n",
       "      <td>SHA-256</td>\n",
       "    </tr>\n",
       "    <tr>\n",
       "      <th>GAP</th>\n",
       "      <td>-0.999970</td>\n",
       "      <td>-0.999500</td>\n",
       "      <td>Gapcoin</td>\n",
       "      <td>0</td>\n",
       "      <td>Scrypt</td>\n",
       "    </tr>\n",
       "    <tr>\n",
       "      <th>BDX</th>\n",
       "      <td>-0.998020</td>\n",
       "      <td>-0.997200</td>\n",
       "      <td>Beldex</td>\n",
       "      <td>1</td>\n",
       "      <td>CryptoNight</td>\n",
       "    </tr>\n",
       "    <tr>\n",
       "      <th>ZEN</th>\n",
       "      <td>-0.999985</td>\n",
       "      <td>-0.999958</td>\n",
       "      <td>Horizen</td>\n",
       "      <td>1</td>\n",
       "      <td>Equihash</td>\n",
       "    </tr>\n",
       "    <tr>\n",
       "      <th>XBC</th>\n",
       "      <td>-1.000000</td>\n",
       "      <td>-0.999998</td>\n",
       "      <td>BitcoinPlus</td>\n",
       "      <td>0</td>\n",
       "      <td>Scrypt</td>\n",
       "    </tr>\n",
       "  </tbody>\n",
       "</table>\n",
       "<p>532 rows × 5 columns</p>\n",
       "</div>"
      ],
      "text/plain": [
       "      TotalCoinsMined  TotalCoinSupply     CoinName  class    Algorithm\n",
       "Name                                                                   \n",
       "42          -1.000000        -1.000000      42 Coin      0       Scrypt\n",
       "404         -0.997868        -0.998936      404Coin      0       Scrypt\n",
       "1337        -0.940849        -0.371682    EliteCoin      0          X13\n",
       "BTC         -0.999964        -0.999958      Bitcoin      1      SHA-256\n",
       "ETH         -0.999782        -1.000000     Ethereum      1       Ethash\n",
       "...               ...              ...          ...    ...          ...\n",
       "ZEPH        -0.995960        -0.996000       ZEPHYR      0      SHA-256\n",
       "GAP         -0.999970        -0.999500      Gapcoin      0       Scrypt\n",
       "BDX         -0.998020        -0.997200       Beldex      1  CryptoNight\n",
       "ZEN         -0.999985        -0.999958      Horizen      1     Equihash\n",
       "XBC         -1.000000        -0.999998  BitcoinPlus      0       Scrypt\n",
       "\n",
       "[532 rows x 5 columns]"
      ]
     },
     "execution_count": 116,
     "metadata": {},
     "output_type": "execute_result"
    }
   ],
   "source": [
    "# Create a new DataFrame that has the scaled data with the clustered_df DataFrame index.\n",
    "df_temp = clustered_df2[[\"CoinName\", \"class\", \"Algorithm\"]]\n",
    "frames = [scaled1_df, df_temp]\n",
    "\n",
    "result2 = pd.concat(frames, axis = 1, join = 'inner')\n",
    "result2\n"
   ]
  },
  {
   "cell_type": "code",
   "execution_count": 117,
   "metadata": {},
   "outputs": [
    {
     "data": {},
     "metadata": {},
     "output_type": "display_data"
    },
    {
     "data": {
      "application/vnd.holoviews_exec.v0+json": "",
      "text/html": [
       "<div id='2591'>\n",
       "\n",
       "\n",
       "\n",
       "\n",
       "\n",
       "  <div class=\"bk-root\" id=\"7ceb2d78-350f-463e-bc72-c80c08565736\" data-root-id=\"2591\"></div>\n",
       "</div>\n",
       "<script type=\"application/javascript\">(function(root) {\n",
       "  function embed_document(root) {\n",
       "  var docs_json = {\"41243bef-3ce9-4ed4-8a1f-fcc8c390dde1\":{\"roots\":{\"references\":[{\"attributes\":{\"source\":{\"id\":\"2651\"}},\"id\":\"2658\",\"type\":\"CDSView\"},{\"attributes\":{},\"id\":\"2630\",\"type\":\"BasicTickFormatter\"},{\"attributes\":{\"margin\":[5,5,5,5],\"name\":\"HSpacer05355\",\"sizing_mode\":\"stretch_width\"},\"id\":\"2840\",\"type\":\"Spacer\"},{\"attributes\":{\"text\":\"\",\"text_color\":{\"value\":\"black\"},\"text_font_size\":{\"value\":\"12pt\"}},\"id\":\"2600\",\"type\":\"Title\"},{\"attributes\":{\"fill_color\":{\"value\":\"#1f77b3\"},\"line_color\":{\"value\":\"#1f77b3\"},\"size\":{\"units\":\"screen\",\"value\":5.477225575051661},\"x\":{\"field\":\"TotalCoinsMined\"},\"y\":{\"field\":\"TotalCoinSupply\"}},\"id\":\"2636\",\"type\":\"Scatter\"},{\"attributes\":{\"fill_alpha\":{\"value\":0.2},\"fill_color\":{\"value\":\"#ff7e0e\"},\"line_alpha\":{\"value\":0.2},\"line_color\":{\"value\":\"#ff7e0e\"},\"size\":{\"units\":\"screen\",\"value\":5.477225575051661},\"x\":{\"field\":\"TotalCoinsMined\"},\"y\":{\"field\":\"TotalCoinSupply\"}},\"id\":\"2656\",\"type\":\"Scatter\"},{\"attributes\":{\"data_source\":{\"id\":\"2651\"},\"glyph\":{\"id\":\"2654\"},\"hover_glyph\":null,\"muted_glyph\":{\"id\":\"2656\"},\"nonselection_glyph\":{\"id\":\"2655\"},\"selection_glyph\":null,\"view\":{\"id\":\"2658\"}},\"id\":\"2657\",\"type\":\"GlyphRenderer\"},{\"attributes\":{\"click_policy\":\"mute\",\"items\":[{\"id\":\"2650\"},{\"id\":\"2669\"},{\"id\":\"2690\"},{\"id\":\"2713\"}],\"location\":[0,0],\"orientation\":\"horizontal\",\"title\":\"class\"},\"id\":\"2649\",\"type\":\"Legend\"},{\"attributes\":{\"end\":1.2,\"reset_end\":1.2,\"reset_start\":-1.2,\"start\":-1.2,\"tags\":[[[\"TotalCoinSupply\",\"TotalCoinSupply\",null]]]},\"id\":\"2594\",\"type\":\"Range1d\"},{\"attributes\":{\"data\":{\"Algorithm\":[\"SHA-256\",\"Ethash\",\"Scrypt\",\"CryptoNight-V7\",\"Ethash\",\"Equihash\",\"Multiple\",\"Scrypt\",\"X11\",\"Scrypt\",\"Multiple\",\"Scrypt\",\"SHA-256\",\"Scrypt\",\"Scrypt\",\"Quark\",\"Groestl\",\"Scrypt\",\"Scrypt\",\"Scrypt\",\"X11\",\"Multiple\",\"SHA-256\",\"Scrypt\",\"Scrypt\",\"Scrypt\",\"Scrypt\",\"Scrypt\",\"NeoScrypt\",\"Scrypt\",\"Scrypt\",\"Scrypt\",\"Scrypt\",\"SHA-256\",\"Scrypt\",\"Scrypt\",\"Scrypt\",\"Scrypt\",\"HybridScryptHash256\",\"Scrypt\",\"Scrypt\",\"SHA-256\",\"Scrypt\",\"Scrypt\",\"Scrypt\",\"Scrypt\",\"SHA-256\",\"SHA-256\",\"SHA-256\",\"SHA-256\",\"SHA-256\",\"X11\",\"Scrypt\",\"Lyra2REv2\",\"Scrypt\",\"SHA-256\",\"CryptoNight\",\"CryptoNight\",\"Scrypt\",\"Scrypt\",\"Scrypt\",\"Scrypt\",\"Scrypt\",\"Scrypt\",\"Stanford Folding\",\"Multiple\",\"QuBit\",\"Scrypt\",\"Scrypt\",\"M7 POW\",\"Scrypt\",\"SHA-256\",\"Scrypt\",\"X11\",\"Lyra2RE\",\"SHA-256\",\"X11\",\"Scrypt\",\"Scrypt\",\"Ethash\",\"Blake2b\",\"X11\",\"SHA-256\",\"Scrypt\",\"1GB AES Pattern Search\",\"Scrypt\",\"SHA-256\",\"X11\",\"Dagger\",\"Scrypt\",\"X11GOST\",\"Scrypt\",\"X11\",\"Scrypt\",\"X11\",\"Equihash\",\"CryptoNight\",\"SHA-256\",\"Multiple\",\"Scrypt\",\"SHA-256\",\"Scrypt\",\"Lyra2Z\",\"Ethash\",\"Equihash\",\"Scrypt\",\"X11\",\"X11\",\"CryptoNight\",\"Scrypt\",\"CryptoNight\",\"Lyra2RE\",\"X11\",\"CryptoNight-V7\",\"Scrypt\",\"X11\",\"Equihash\",\"Scrypt\",\"Lyra2RE\",\"Dagger-Hashimoto\",\"Scrypt\",\"NIST5\",\"Scrypt\",\"SHA-256\",\"Scrypt\",\"CryptoNight-V7\",\"Argon2d\",\"Blake2b\",\"Cloverhash\",\"CryptoNight\",\"X11\",\"Scrypt\",\"Scrypt\",\"X11\",\"X11\",\"CryptoNight\",\"Time Travel\",\"Scrypt\",\"Keccak\",\"X11\",\"SHA-256\",\"Scrypt\",\"Scrypt\",\"Scrypt\",\"Scrypt\",\"Scrypt\",\"Scrypt\",\"CryptoNight\",\"Equihash\",\"X11\",\"NeoScrypt\",\"Equihash\",\"Dagger\",\"Scrypt\",\"X11\",\"NeoScrypt\",\"Ethash\",\"NeoScrypt\",\"Multiple\",\"CryptoNight\",\"CryptoNight\",\"Ethash\",\"X11\",\"CryptoNight-V7\",\"Scrypt\",\"BLAKE256\",\"X11\",\"NeoScrypt\",\"NeoScrypt\",\"Scrypt\",\"X11\",\"SHA-256\",\"C11\",\"CryptoNight\",\"SkunkHash\",\"CryptoNight\",\"Scrypt\",\"Dagger\",\"Lyra2REv2\",\"Scrypt\",\"Scrypt\",\"X11\",\"Ethash\",\"CryptoNight\",\"Scrypt\",\"IMesh\",\"Equihash\",\"Lyra2Z\",\"X11\",\"CryptoNight\",\"NIST5\",\"Lyra2RE\",\"Tribus\",\"Lyra2Z\",\"CryptoNight\",\"CryptoNight Heavy\",\"CryptoNight\",\"Jump Consistent Hash\",\"CryptoNight\",\"X16R\",\"HMQ1725\",\"X11\",\"Scrypt\",\"CryptoNight-V7\",\"Cryptonight-GPU\",\"XEVAN\",\"CryptoNight Heavy\",\"SHA-256\",\"X11\",\"X16R\",\"Equihash\",\"Lyra2Z\",\"SHA-256\",\"CryptoNight\",\"Blake\",\"Blake\",\"Exosis\",\"Scrypt\",\"Equihash\",\"Equihash\",\"QuBit\",\"SHA-256\",\"X13\",\"SHA-256\",\"Scrypt\",\"NeoScrypt\",\"Blake\",\"Scrypt\",\"SHA-256\",\"Scrypt\",\"Groestl\",\"Scrypt\",\"Scrypt\",\"Multiple\",\"Equihash+Scrypt\",\"Ethash\",\"CryptoNight\",\"Equihash\"],\"CoinName\":[\"Bitcoin\",\"Ethereum\",\"Litecoin\",\"Monero\",\"Ethereum Classic\",\"ZCash\",\"DigiByte\",\"ProsperCoin\",\"Spreadcoin\",\"Argentum\",\"MyriadCoin\",\"MoonCoin\",\"ZetaCoin\",\"SexCoin\",\"Quatloo\",\"QuarkCoin\",\"Riecoin\",\"Digitalcoin \",\"Catcoin\",\"CannaCoin\",\"CryptCoin\",\"Verge\",\"DevCoin\",\"EarthCoin\",\"E-Gulden\",\"Einsteinium\",\"Emerald\",\"Franko\",\"FeatherCoin\",\"GrandCoin\",\"GlobalCoin\",\"GoldCoin\",\"Infinite Coin\",\"IXcoin\",\"KrugerCoin\",\"LuckyCoin\",\"Litebar \",\"MegaCoin\",\"MediterraneanCoin\",\"MinCoin\",\"NobleCoin\",\"Namecoin\",\"NyanCoin\",\"RonPaulCoin\",\"StableCoin\",\"SmartCoin\",\"SysCoin\",\"TigerCoin\",\"TerraCoin\",\"UnbreakableCoin\",\"Unobtanium\",\"UroCoin\",\"ViaCoin\",\"Vertcoin\",\"WorldCoin\",\"JouleCoin\",\"ByteCoin\",\"DigitalNote \",\"MonaCoin\",\"Gulden\",\"PesetaCoin\",\"Wild Beast Coin\",\"Flo\",\"ArtByte\",\"Folding Coin\",\"Unitus\",\"CypherPunkCoin\",\"OmniCron\",\"GreenCoin\",\"Cryptonite\",\"MasterCoin\",\"SoonCoin\",\"1Credit\",\"MarsCoin \",\"Crypto\",\"Anarchists Prime\",\"BowsCoin\",\"Song Coin\",\"BitZeny\",\"Expanse\",\"Siacoin\",\"MindCoin\",\"I0coin\",\"Revolution VR\",\"HOdlcoin\",\"Gamecredits\",\"CarpeDiemCoin\",\"Adzcoin\",\"SoilCoin\",\"YoCoin\",\"SibCoin\",\"Francs\",\"BolivarCoin\",\"Omni\",\"PizzaCoin\",\"Komodo\",\"Karbo\",\"ZayedCoin\",\"Circuits of Value\",\"DopeCoin\",\"DollarCoin\",\"Shilling\",\"ZCoin\",\"Elementrem\",\"ZClassic\",\"KiloCoin\",\"ArtexCoin\",\"Kurrent\",\"Cannabis Industry Coin\",\"OsmiumCoin\",\"Bikercoins\",\"HexxCoin\",\"PacCoin\",\"Citadel\",\"BeaverCoin\",\"VaultCoin\",\"Zero\",\"Canada eCoin\",\"Zoin\",\"DubaiCoin\",\"EB3coin\",\"Coinonat\",\"BenjiRolls\",\"ILCoin\",\"EquiTrader\",\"Quantum Resistant Ledger\",\"Dynamic\",\"Nano\",\"ChanCoin\",\"Dinastycoin\",\"DigitalPrice\",\"Unify\",\"SocialCoin\",\"ArcticCoin\",\"DAS\",\"LeviarCoin\",\"Bitcore\",\"gCn Coin\",\"SmartCash\",\"Onix\",\"Bitcoin Cash\",\"Sojourn Coin\",\"NewYorkCoin\",\"FrazCoin\",\"Kronecoin\",\"AdCoin\",\"Linx\",\"Sumokoin\",\"BitcoinZ\",\"Elements\",\"VIVO Coin\",\"Bitcoin Gold\",\"Pirl\",\"eBoost\",\"Pura\",\"Innova\",\"Ellaism\",\"GoByte\",\"SHIELD\",\"UltraNote\",\"BitCoal\",\"DaxxCoin\",\"AC3\",\"Lethean\",\"PopularCoin\",\"Photon\",\"Sucre\",\"SparksPay\",\"GunCoin\",\"IrishCoin\",\"Pioneer Coin\",\"UnitedBitcoin\",\"Interzone\",\"TurtleCoin\",\"MUNcoin\",\"Niobio Cash\",\"ShareChain\",\"Travelflex\",\"KREDS\",\"BitFlip\",\"LottoCoin\",\"Crypto Improvement Fund\",\"Callisto Network\",\"BitTube\",\"Poseidon\",\"Aidos Kuneen\",\"Bitrolium\",\"Alpenschillling\",\"FuturoCoin\",\"Monero Classic\",\"Jumpcoin\",\"Infinex\",\"KEYCO\",\"GINcoin\",\"PlatinCoin\",\"Loki\",\"Newton Coin\",\"MassGrid\",\"PluraCoin\",\"Motion\",\"PlusOneCoin\",\"Axe\",\"HexCoin\",\"Webchain\",\"Ryo\",\"Urals Coin\",\"Qwertycoin\",\"Project Pai\",\"Azart\",\"Xchange\",\"CrypticCoin\",\"Actinium\",\"Bitcoin SV\",\"FREDEnergy\",\"Universal Molecule\",\"Lithium\",\"Exosis\",\"Block-Logic\",\"Beam\",\"Bithereum\",\"SLICE\",\"BLAST\",\"Bitcoin Rhodium\",\"GlobalToken\",\"SolarCoin\",\"UFO Coin\",\"BlakeCoin\",\"Crypto Escudo\",\"Crown Coin\",\"SmileyCoin\",\"Groestlcoin\",\"Bata\",\"Pakcoin\",\"JoinCoin\",\"Vollar\",\"Reality Clash\",\"Beldex\",\"Horizen\"],\"TotalCoinSupply\":{\"__ndarray__\":\"RfRr66f/778AAAAAAADwvxTRr62f/u+/AAAAAAAA8L+xijcyj/zvv0X0a+un/++/Di2yne+n7r9F9Gvrp//vv3LcKR2s/++/ofSFkPP+77+sHFpkO9/vvxgEVg4tss2/iClg0zf977+WQ4ts5/vvvzxO0ZFc/u+/HvzEAfT7778U0a+tn/7vv/C7Jvo1/++/RfRr66f/77+BTQjjyP/vv82spYC0/++/xooaTMPw7r8OLbKd76fuv4lBYOXQIu+/RfRr66f/77+boEyUFvvvv1H6Qsh5/++/YD2j39D/779ORL+2fvrvvxu4Coi56O+/kIMSZtr+77/EMsX60P7vv6Tfvg6cM+q/RfRr66f/779eCZa+pvvvv3LcKR2s/++/XNNyVvr/77+K6NfWT//vv3icoiO5/O+/Oe6UDtb/778K16NwPQrvv0X0a+un/++/IVwBhXr6779F9Gvrp//vv5ZDi2zn+++/GyprQCn/7788okJ1c/Hvv4WiSNE6/++/iujX1k//77/Jcad0sP7vv/WFkPP+/++/AAAAAAAA8L/qI/CHn//vvxTRr62f/u+/XgmWvqb7778BMJ5BQ//vv9vC81KxMeS/XI/C9Shc778LbEIYR/7vv4ZVvJF55O+/QZNkIEb9779N3DT69P/vv5PjTulg/e+/Vg4tsp3v779WDi2yne/vvwAAAAAAAPC/AAAAAAAA8L8c8Q3c8f/vv1yPwvUoXO+/GTkLe9rh778YL9dm/f/vv0X0a+un/++/6iYxCKwc6r8jEoWWdf/vv2zkfQ/s/u+/Armjgx7/779F9Gvrp//vvxfYhDCO/O+/lkOLbOf777+K+uQWuf/vvwAAAAAAAPC/KH0h5Lz/779F9Gvrp//vv7GKNzKP/O+/1oDdOaj+778U0a+tn/7vv3idqs6sne6/FNGvrZ/+77+syr4rgv/vv1MGK+I9/e+/vDsyVpv/779y3CkdrP/vv49TdCSX/++/ZBAYav3/77+PU3Qkl//vv3icoiO5/O+/Oe6UDtb/77+wsgwq1//vv86qz9VW7O+/eJyiI7n877+N6TZh0//vv6zKviuC/++/mcrsPab/778SSgQWkv/vv0X0a+un/++/XI/C9Shc778rhxbZzvfvv3433bJD/O+/RfRr66f/77/Xvo6d9P/vv49TdCSX/++/mDSVDtb/77+amZmZmZnpvyI3ww34/O+/kDs66PH/779WDi2yne/vv/uUY7K4/++/PE7RkVz+779F9Gvrp//vv8LYcKL2/++/WDm0yHa+77/wO8+dNf/vv1DLQgRr/++/16NwPQrX7781s5YC0v7vv1jFG5lH/u+/AAAAAAAA8L9oMJfAbPrvv6zKviuC/++/rBxaZDvf7788TtGRXP7vvzyQsSWv/++/rfpcbcX+779XlX1XBP/vvwuPR7qw/++/aAbxgR3/779F9Gvrp//vvzQzMzMzM+O/rkfhehSu77+SXP5D+u3vv0X0a+un/++/hxbZzvdT778AAAAAAADwv3LcKR2s/++/FNGvrZ/+7788TtGRXP7vvzxO0ZFc/u+/F4RILIv+778OLbKd76fuvzSAt0CC4u+/NIP4wI7/779F9Gvrp//vv2N57GZw/e+/PE7RkVz+77/RkVz+Q/rvvwEwnkFD/++/QQ5KmGn7778mjwKfev/vv75qZcIv9e+/kML1KFyP6r/HKTqSy//vv1yPwvUoXO+/SS7/If32779L2uTen+/vvwyO4XoUru+/PgrXo3A96r9IcenzrP/vv0X0a+un/++/K4cW2c7377+h9IWQ8/7vv+oj8Ief/++/6iDsaqv/77/qI/CHn//vvwAAAAAAAPA/p77iX7r/779ORL+2fvrvv1yPwvUoXO+/PE7RkVz+77+SXP5D+u3vv+W4UzpY/++/n2vkh2vS7r8rhxbZzvfvvy/dJAaBle+/Vg4tsp3v779F9Gvrp//vv49TdCSX/++/kIMSZtr+77+z6nO1FfvvvzxO0ZFc/u+/IoMm07L/779F9Gvrp//vvwObEMaR/++/zaylgLT/778i+rX10//vv2RyWWor9u+/WvW52or977/TTWIQWDnkvyeiX1s//e+/Vg4tsp3v778oymVoo//vv0X0a+un/++/RfRr66f/77/5kqdIo//vvxfZzvdT4++/BA3nG47+77+xijcyj/zvv1IKur2kMeS/6Gor9pfd77+PU3Qkl//vvzxO0ZFc/u+/wTkjSnuD778U0a+tn/7vv0X0a+un/++/euQPBp5777+HCUIYR/7vv+RCyC6W/++/RfRr66f/77+uKvuuCP7vvxwOpryx+++/VPdodH7/7788TtGRXP7vv6H0hZDz/u+/OmUkMff/778nol9bP/3vvyrLEMe6uOm/WDm0yHa+779aZDvfT43vv1YOLbKd7++/iujX1k//77/NzMzMzMzsv1jFG5lH/u+/HXdKB+v/77+q7/yiBP3vv03chUH0/++/6Gor9pfd7786NUVKmf/vvyG1awoP6e+/RfRr66f/778=\",\"dtype\":\"float64\",\"order\":\"little\",\"shape\":[238]},\"TotalCoinsMined\":{\"__ndarray__\":\"6Wk8DLT/7781qcPFN/7vvyKpsuv0/u+/paGwH7f/7784yCO6H/7vv3NzYrjg/++/RJOXETtD77+76ryP5//vv2X8C8PQ/++/a5GkScz/77+Th+dXD+Tvv0w68////++/OxRo5C79779byri23f3vvyJ8yNPg/++/FqloVLT7779nkqkTLv/vv3PnyU9y/++/BUlIaeH/77/4DzgS7P/vvwzIUNTq/++/3aQHE1/47r8CmNp2TMnuv1AGSLt7MO+/hqCLaKf/77/4DqSzYPzvvwgB1mWt/++/2XejKPv/778gWJnti/zvv295azVe8e+/ieBtw+n+77/tFBaBT//vv1ckxlyrJOq/gfiKpqb/778cTfZbfv3vv59/uR6u/++/2ClGUvv/779rVGVcXv/vv17gqbNU/++/RW7OaOf/779g0B2l19jvv9Ej85DB/++/4DOB7nX6778mCHpS+//vv4r0Q2iZ/++/9acVkZP/779zWl9Nrfbvvy4GC4xH/++/vBtS1J7/778KJSpZ9v/vvw79Iib//++/7vCY4vr/77//+Jfqnf/vv8aRCTEn/++/mhFjQgX+7788OlvwWf/vv9jBdhHAGeS/t9/VvLKN778oOx4U3/7vv5VV/J8h+e+/GYJuYLn977+eabw6///vv7z0Ud96/e+/ADNXPuLy77+Jdo4IGPTvv6GhLCLs/u+/HE9CCOX/77/e5icK1f/vvzSbukmzs++/la8MQkb0778Z7Shg/f/vvxtLFzPL/++/RqheoP//77+8koh8d//vvwzirMbF/++/Q3A8hcH/77/9niHKvP/vv7uvugd2/++/I92TpL/+779toN6I0//vvygB1ds73O2/no7yxbz/77/E9S8Kp//vvzj8GEqG/O+/pa+Efs//779NLNQf2P7vv54Z4d81mO6/Ajpm4UD/77+DD5vX5//vv/4IvU39/++/JQo33Lb/77/2ZFkp5P/vvzDA1CbG/++/fzpyY/3/778un44p+v/vv+4d9vgU/u+/90LW297/77+2bfqL5f/vv4QbS0hz7++/PH+99RD+77/h4udq2f/vvyz7KeTQ/++/clV979//778/Qob5kP/vv4Aylzfo/++/aZpQV8D877+AitnxXPLvv1jayAP8/u+/nFQm2/v/77/VmmI2/P/vv3+oWVvY/++/NHYtDfj/778v0mv1HPfvvyK0uYbR/++/scw8zfL/779zeuVDf//vv3RK0qzi/++/xd3o/Vj+778UUlJtsf/vv93ePYr2/++/q8J7cfD+778242wc1f/vv7Hrlxiq/++/4gJvEzHq77/hUN8Rxv/vv4lLmYPb/u+/KJUULqz/7788xPl2y/3vv61yiQOy/++/uEJuzA3i778SbVIga//vv3VoySyz/++/UvwTG+r/77+x7ICqkf/vv56YQ+P0/++/1FMoAMT/77+coiWUtP/vvwDVdPt9deW/ffQTeuna77+Vnf8a+f3vvw6SCMKz/++/cFbI8f3/778yq0mzR8Hmv+hDC+PW/++/fJm2Dbb/778qvWivdf/vv3wcHCdx/++/egeCGNr/77+/bKwewKnvvx3ydMNE0++/C16jWe7/779bdV4et//vvxeFxgFw/++/9yrqXlj+77/u4veoGf3vvxDxcP3k/++/mTl+9Mn/77/Hs1NK5//vv7JBMQsH+O+/EdpRXeTA7r9Cv1jv7P/vvyw38yBh9++/CXsbuav+778R2iaMsvjvv6V1Wsxkvu+/V6TCjQYO7r96sToV7v/vv6gYvcDe/++/UZFC1wn7778VOiRNP//vv40YshTc/++/iccBkKr/778cK1GDzf/vv1RA8YONkOy/EocTluv/779vluyQyP3vv9wehtKAWu+/q7EWSzn+77+21ChrWPXvvyUyAkXL/++/UltlqS0Q779A4K3KgPzvvwbxo+/m+++/VX/U2qz+779DlX7B7v/vv2w/DRWW/++/uLLpr9H+779HU4sqjP/vv+xJMER5/++/+KgoJLz/77+Q4jy8pv/vv7+xF2fq/++/n85Nofz/779iIZlm4v/vv5ohnaT//++/aGIF2q7/77+ljt7FllTtv7zss2PA/e+/Etz1Erv2779b/7uS3f/vv4N7PV/b/++/7g6b2Or/778MfIj/+f/vv/Tmw/29/++/wD9hR+v/779CHl+Gwf/vv4bhCZFtkOm/4eWQ5D7d779bZdK/6v/vv/B1IK3W/++/020oB+m577+fzLA7xv/vvxJeXsWz/++/WQPL0Bnh77/S9T1Q+f/vv60Tsty8/++/ly2ZR/7/77+gA0CCav/vv83FXs1o/++/QvaBcZX/778aibw8yf/vv1LOKXIi/++/BiG/Cvv/779hwbKEmf7vv8ZuLZYU/++/XyKh47PA77/D2EYLnf/vv9m0tncW8++/uY5tnJ7/779jy478ZBbuv4fv1HTJ/u+/em4LmOr/77+SbU3E2P7vv1icKOHx/++/lQESVFj+779xbW1AmP/vv8Oo3BLH7++/sgg5FuH/778=\",\"dtype\":\"float64\",\"order\":\"little\",\"shape\":[238]},\"class\":[1,1,1,1,1,1,1,1,1,1,1,1,1,1,1,1,1,1,1,1,1,1,1,1,1,1,1,1,1,1,1,1,1,1,1,1,1,1,1,1,1,1,1,1,1,1,1,1,1,1,1,1,1,1,1,1,1,1,1,1,1,1,1,1,1,1,1,1,1,1,1,1,1,1,1,1,1,1,1,1,1,1,1,1,1,1,1,1,1,1,1,1,1,1,1,1,1,1,1,1,1,1,1,1,1,1,1,1,1,1,1,1,1,1,1,1,1,1,1,1,1,1,1,1,1,1,1,1,1,1,1,1,1,1,1,1,1,1,1,1,1,1,1,1,1,1,1,1,1,1,1,1,1,1,1,1,1,1,1,1,1,1,1,1,1,1,1,1,1,1,1,1,1,1,1,1,1,1,1,1,1,1,1,1,1,1,1,1,1,1,1,1,1,1,1,1,1,1,1,1,1,1,1,1,1,1,1,1,1,1,1,1,1,1,1,1,1,1,1,1,1,1,1,1,1,1,1,1,1,1,1,1,1,1,1,1,1,1]},\"selected\":{\"id\":\"2652\"},\"selection_policy\":{\"id\":\"2667\"}},\"id\":\"2651\",\"type\":\"ColumnDataSource\"},{\"attributes\":{\"data\":{\"Algorithm\":[\"VeChainThor Authority\",\"Proof-of-BibleHash\",\"SHA-256 + Hive\",\"Proof-of-Authority\",\"ECC 256K1\",\"Leased POS\"],\"CoinName\":[\"Vechain\",\"BiblePay\",\"LitecoinCash\",\"Poa Network\",\"Acute Angle Cloud\",\"Waves\"],\"TotalCoinSupply\":{\"__ndarray__\":\"wmK02Uxz6r8m5IOezarvv8Mq3sg88u+/6bVHGt37779WDi2yne/vvzxO0ZFc/u+/\",\"dtype\":\"float64\",\"order\":\"little\",\"shape\":[6]},\"TotalCoinsMined\":{\"__ndarray__\":\"GdVs8D1q7L8aV/0lrOLvv1zsuVpv9e+/eGohrp3877+EG0tIc+/vv5UBElRY/u+/\",\"dtype\":\"float64\",\"order\":\"little\",\"shape\":[6]},\"class\":[3,3,3,3,3,3]},\"selected\":{\"id\":\"2692\"},\"selection_policy\":{\"id\":\"2711\"}},\"id\":\"2691\",\"type\":\"ColumnDataSource\"},{\"attributes\":{\"fill_alpha\":{\"value\":0.1},\"fill_color\":{\"value\":\"#ff7e0e\"},\"line_alpha\":{\"value\":0.1},\"line_color\":{\"value\":\"#ff7e0e\"},\"size\":{\"units\":\"screen\",\"value\":5.477225575051661},\"x\":{\"field\":\"TotalCoinsMined\"},\"y\":{\"field\":\"TotalCoinSupply\"}},\"id\":\"2655\",\"type\":\"Scatter\"},{\"attributes\":{},\"id\":\"2632\",\"type\":\"BasicTickFormatter\"},{\"attributes\":{\"above\":[{\"id\":\"2649\"}],\"below\":[{\"id\":\"2608\"}],\"center\":[{\"id\":\"2611\"},{\"id\":\"2615\"}],\"left\":[{\"id\":\"2612\"}],\"margin\":null,\"min_border_bottom\":10,\"min_border_left\":10,\"min_border_right\":10,\"min_border_top\":10,\"plot_height\":400,\"plot_width\":400,\"renderers\":[{\"id\":\"2639\"},{\"id\":\"2657\"},{\"id\":\"2676\"},{\"id\":\"2697\"}],\"sizing_mode\":\"fixed\",\"title\":{\"id\":\"2600\"},\"toolbar\":{\"id\":\"2622\"},\"x_range\":{\"id\":\"2593\"},\"x_scale\":{\"id\":\"2604\"},\"y_range\":{\"id\":\"2594\"},\"y_scale\":{\"id\":\"2606\"}},\"id\":\"2599\",\"subtype\":\"Figure\",\"type\":\"Plot\"},{\"attributes\":{},\"id\":\"2609\",\"type\":\"BasicTicker\"},{\"attributes\":{},\"id\":\"2652\",\"type\":\"Selection\"},{\"attributes\":{\"label\":{\"value\":\"1\"},\"renderers\":[{\"id\":\"2657\"}]},\"id\":\"2669\",\"type\":\"LegendItem\"},{\"attributes\":{\"fill_alpha\":{\"value\":0.2},\"fill_color\":{\"value\":\"#d62628\"},\"line_alpha\":{\"value\":0.2},\"line_color\":{\"value\":\"#d62628\"},\"size\":{\"units\":\"screen\",\"value\":5.477225575051661},\"x\":{\"field\":\"TotalCoinsMined\"},\"y\":{\"field\":\"TotalCoinSupply\"}},\"id\":\"2696\",\"type\":\"Scatter\"},{\"attributes\":{\"fill_color\":{\"value\":\"#d62628\"},\"line_color\":{\"value\":\"#d62628\"},\"size\":{\"units\":\"screen\",\"value\":5.477225575051661},\"x\":{\"field\":\"TotalCoinsMined\"},\"y\":{\"field\":\"TotalCoinSupply\"}},\"id\":\"2694\",\"type\":\"Scatter\"},{\"attributes\":{\"end\":1.2000000000000002,\"reset_end\":1.2000000000000002,\"reset_start\":-1.2,\"start\":-1.2,\"tags\":[[[\"TotalCoinsMined\",\"TotalCoinsMined\",null]]]},\"id\":\"2593\",\"type\":\"Range1d\"},{\"attributes\":{\"bottom_units\":\"screen\",\"fill_alpha\":0.5,\"fill_color\":\"lightgrey\",\"left_units\":\"screen\",\"level\":\"overlay\",\"line_alpha\":1.0,\"line_color\":\"black\",\"line_dash\":[4,4],\"line_width\":2,\"right_units\":\"screen\",\"top_units\":\"screen\"},\"id\":\"2621\",\"type\":\"BoxAnnotation\"},{\"attributes\":{\"fill_color\":{\"value\":\"#2ba02b\"},\"line_color\":{\"value\":\"#2ba02b\"},\"size\":{\"units\":\"screen\",\"value\":5.477225575051661},\"x\":{\"field\":\"TotalCoinsMined\"},\"y\":{\"field\":\"TotalCoinSupply\"}},\"id\":\"2673\",\"type\":\"Scatter\"},{\"attributes\":{\"fill_alpha\":{\"value\":0.1},\"fill_color\":{\"value\":\"#d62628\"},\"line_alpha\":{\"value\":0.1},\"line_color\":{\"value\":\"#d62628\"},\"size\":{\"units\":\"screen\",\"value\":5.477225575051661},\"x\":{\"field\":\"TotalCoinsMined\"},\"y\":{\"field\":\"TotalCoinSupply\"}},\"id\":\"2695\",\"type\":\"Scatter\"},{\"attributes\":{\"callback\":null,\"renderers\":[{\"id\":\"2639\"},{\"id\":\"2657\"},{\"id\":\"2676\"},{\"id\":\"2697\"}],\"tags\":[\"hv_created\"],\"tooltips\":[[\"class\",\"@{class}\"],[\"TotalCoinsMined\",\"@{TotalCoinsMined}\"],[\"TotalCoinSupply\",\"@{TotalCoinSupply}\"],[\"CoinName\",\"@{CoinName}\"],[\"Algorithm\",\"@{Algorithm}\"]]},\"id\":\"2595\",\"type\":\"HoverTool\"},{\"attributes\":{\"fill_alpha\":{\"value\":0.1},\"fill_color\":{\"value\":\"#1f77b3\"},\"line_alpha\":{\"value\":0.1},\"line_color\":{\"value\":\"#1f77b3\"},\"size\":{\"units\":\"screen\",\"value\":5.477225575051661},\"x\":{\"field\":\"TotalCoinsMined\"},\"y\":{\"field\":\"TotalCoinSupply\"}},\"id\":\"2637\",\"type\":\"Scatter\"},{\"attributes\":{},\"id\":\"2647\",\"type\":\"UnionRenderers\"},{\"attributes\":{\"data_source\":{\"id\":\"2691\"},\"glyph\":{\"id\":\"2694\"},\"hover_glyph\":null,\"muted_glyph\":{\"id\":\"2696\"},\"nonselection_glyph\":{\"id\":\"2695\"},\"selection_glyph\":null,\"view\":{\"id\":\"2698\"}},\"id\":\"2697\",\"type\":\"GlyphRenderer\"},{\"attributes\":{\"fill_color\":{\"value\":\"#ff7e0e\"},\"line_color\":{\"value\":\"#ff7e0e\"},\"size\":{\"units\":\"screen\",\"value\":5.477225575051661},\"x\":{\"field\":\"TotalCoinsMined\"},\"y\":{\"field\":\"TotalCoinSupply\"}},\"id\":\"2654\",\"type\":\"Scatter\"},{\"attributes\":{\"axis_label\":\"TotalCoinSupply\",\"bounds\":\"auto\",\"formatter\":{\"id\":\"2632\"},\"major_label_orientation\":\"horizontal\",\"ticker\":{\"id\":\"2613\"}},\"id\":\"2612\",\"type\":\"LinearAxis\"},{\"attributes\":{\"children\":[{\"id\":\"2592\"},{\"id\":\"2599\"},{\"id\":\"2840\"}],\"margin\":[0,0,0,0],\"name\":\"Row05350\",\"tags\":[\"embedded\"]},\"id\":\"2591\",\"type\":\"Row\"},{\"attributes\":{\"source\":{\"id\":\"2633\"}},\"id\":\"2640\",\"type\":\"CDSView\"},{\"attributes\":{\"data\":{\"Algorithm\":[\"TRC10\"],\"CoinName\":[\"BitTorrent\"],\"TotalCoinSupply\":{\"__ndarray__\":\"XI/C9Shc7z8=\",\"dtype\":\"float64\",\"order\":\"little\",\"shape\":[1]},\"TotalCoinsMined\":{\"__ndarray__\":\"AQAAAAAA8D8=\",\"dtype\":\"float64\",\"order\":\"little\",\"shape\":[1]},\"class\":[2]},\"selected\":{\"id\":\"2671\"},\"selection_policy\":{\"id\":\"2688\"}},\"id\":\"2670\",\"type\":\"ColumnDataSource\"},{\"attributes\":{\"fill_alpha\":{\"value\":0.2},\"fill_color\":{\"value\":\"#2ba02b\"},\"line_alpha\":{\"value\":0.2},\"line_color\":{\"value\":\"#2ba02b\"},\"size\":{\"units\":\"screen\",\"value\":5.477225575051661},\"x\":{\"field\":\"TotalCoinsMined\"},\"y\":{\"field\":\"TotalCoinSupply\"}},\"id\":\"2675\",\"type\":\"Scatter\"},{\"attributes\":{\"source\":{\"id\":\"2691\"}},\"id\":\"2698\",\"type\":\"CDSView\"},{\"attributes\":{},\"id\":\"2616\",\"type\":\"SaveTool\"},{\"attributes\":{\"fill_alpha\":{\"value\":0.1},\"fill_color\":{\"value\":\"#2ba02b\"},\"line_alpha\":{\"value\":0.1},\"line_color\":{\"value\":\"#2ba02b\"},\"size\":{\"units\":\"screen\",\"value\":5.477225575051661},\"x\":{\"field\":\"TotalCoinsMined\"},\"y\":{\"field\":\"TotalCoinSupply\"}},\"id\":\"2674\",\"type\":\"Scatter\"},{\"attributes\":{},\"id\":\"2692\",\"type\":\"Selection\"},{\"attributes\":{\"fill_alpha\":{\"value\":0.2},\"fill_color\":{\"value\":\"#1f77b3\"},\"line_alpha\":{\"value\":0.2},\"line_color\":{\"value\":\"#1f77b3\"},\"size\":{\"units\":\"screen\",\"value\":5.477225575051661},\"x\":{\"field\":\"TotalCoinsMined\"},\"y\":{\"field\":\"TotalCoinSupply\"}},\"id\":\"2638\",\"type\":\"Scatter\"},{\"attributes\":{\"label\":{\"value\":\"3\"},\"renderers\":[{\"id\":\"2697\"}]},\"id\":\"2713\",\"type\":\"LegendItem\"},{\"attributes\":{},\"id\":\"2604\",\"type\":\"LinearScale\"},{\"attributes\":{\"data_source\":{\"id\":\"2633\"},\"glyph\":{\"id\":\"2636\"},\"hover_glyph\":null,\"muted_glyph\":{\"id\":\"2638\"},\"nonselection_glyph\":{\"id\":\"2637\"},\"selection_glyph\":null,\"view\":{\"id\":\"2640\"}},\"id\":\"2639\",\"type\":\"GlyphRenderer\"},{\"attributes\":{\"data_source\":{\"id\":\"2670\"},\"glyph\":{\"id\":\"2673\"},\"hover_glyph\":null,\"muted_glyph\":{\"id\":\"2675\"},\"nonselection_glyph\":{\"id\":\"2674\"},\"selection_glyph\":null,\"view\":{\"id\":\"2677\"}},\"id\":\"2676\",\"type\":\"GlyphRenderer\"},{\"attributes\":{\"data\":{\"Algorithm\":[\"Scrypt\",\"Scrypt\",\"X13\",\"X11\",\"SHA-512\",\"SHA-256\",\"SHA-256\",\"X15\",\"Scrypt\",\"Scrypt\",\"Scrypt\",\"Scrypt\",\"Scrypt\",\"Scrypt\",\"Groestl\",\"PoS\",\"Scrypt\",\"Scrypt\",\"X11\",\"X11\",\"SHA3\",\"Scrypt\",\"SHA-256\",\"Scrypt\",\"X13\",\"X13\",\"NeoScrypt\",\"Scrypt\",\"Scrypt\",\"Scrypt\",\"X11\",\"X11\",\"Multiple\",\"PHI1612\",\"X11\",\"Scrypt\",\"Scrypt\",\"Scrypt\",\"X11\",\"Multiple\",\"X13\",\"Scrypt\",\"Shabal256\",\"Counterparty\",\"SHA-256\",\"Groestl\",\"Scrypt\",\"X13\",\"Scrypt\",\"Scrypt\",\"X13\",\"X11\",\"Scrypt\",\"X11\",\"SHA3\",\"QUAIT\",\"X11\",\"Scrypt\",\"X13\",\"SHA-256\",\"X15\",\"BLAKE256\",\"SHA-256\",\"X11\",\"SHA-256\",\"NIST5\",\"Scrypt\",\"Scrypt\",\"X11\",\"Scrypt\",\"SHA-256\",\"Scrypt\",\"PoS\",\"X11\",\"SHA-256\",\"SHA-256\",\"NIST5\",\"X11\",\"POS 3.0\",\"Scrypt\",\"Scrypt\",\"Scrypt\",\"X13\",\"X11\",\"X11\",\"Scrypt\",\"SHA-256\",\"X11\",\"Scrypt\",\"Scrypt\",\"Scrypt\",\"Scrypt\",\"SHA-256D\",\"PoS\",\"Scrypt\",\"X11\",\"PoS\",\"X13\",\"X14\",\"PoS\",\"SHA-256D\",\"DPoS\",\"X11\",\"X13\",\"X11\",\"PoS\",\"Scrypt\",\"Scrypt\",\"PoS\",\"X11\",\"SHA-256\",\"Scrypt\",\"X11\",\"Scrypt\",\"Scrypt\",\"X11\",\"Scrypt\",\"Scrypt\",\"Scrypt\",\"Scrypt\",\"Quark\",\"QuBit\",\"Scrypt\",\"SHA-256\",\"X11\",\"Scrypt\",\"Scrypt\",\"Scrypt\",\"Scrypt\",\"X13\",\"Scrypt\",\"Scrypt\",\"X11\",\"Blake2S\",\"X11\",\"PoS\",\"X11\",\"PoS\",\"X11\",\"Scrypt\",\"Scrypt\",\"Scrypt\",\"SHA-256\",\"X11\",\"Scrypt\",\"PoS\",\"Scrypt\",\"X15\",\"SHA-256\",\"POS 3.0\",\"536\",\"NIST5\",\"NIST5\",\"Skein\",\"X13\",\"Scrypt\",\"X13\",\"SkunkHash v2 Raptor\",\"Skein\",\"X11\",\"Scrypt\",\"PoS\",\"Scrypt\",\"Scrypt\",\"SHA-512\",\"Ouroboros\",\"X11\",\"NeoScrypt\",\"Scrypt\",\"Lyra2REv2\",\"Scrypt\",\"SHA-256\",\"NIST5\",\"PHI1612\",\"Scrypt\",\"Quark\",\"POS 2.0\",\"Scrypt\",\"SHA-256\",\"X11\",\"DPoS\",\"NIST5\",\"X13\",\"Scrypt\",\"NIST5\",\"Quark\",\"Scrypt\",\"Scrypt\",\"X11\",\"Quark\",\"Scrypt\",\"Scrypt\",\"X11\",\"POS 3.0\",\"Ethash\",\"Scrypt\",\"Scrypt\",\"X13\",\"C11\",\"X11\",\"XEVAN\",\"Scrypt\",\"VBFT\",\"NIST5\",\"Scrypt\",\"Scrypt\",\"Scrypt\",\"Green Protocol\",\"PoS\",\"Scrypt\",\"Semux BFT consensus\",\"Quark\",\"PoS\",\"X16R\",\"Scrypt\",\"XEVAN\",\"Scrypt\",\"Scrypt\",\"Scrypt\",\"SHA-256D\",\"Scrypt\",\"X15\",\"Scrypt\",\"Quark\",\"SHA-256\",\"DPoS\",\"X16R\",\"Quark\",\"Quark\",\"Scrypt\",\"Lyra2REv2\",\"Quark\",\"Scrypt\",\"X11\",\"X11\",\"Scrypt\",\"PoS\",\"Keccak\",\"X11\",\"Scrypt\",\"SHA-512\",\"XEVAN\",\"XEVAN\",\"X11\",\"Quark\",\"Equihash\",\"Scrypt\",\"Quark\",\"Quark\",\"Scrypt\",\"X11\",\"Scrypt\",\"XEVAN\",\"SHA-256D\",\"X11\",\"X11\",\"DPoS\",\"Scrypt\",\"X11\",\"Scrypt\",\"Scrypt\",\"SHA-256\",\"Scrypt\",\"X11\",\"Scrypt\",\"SHA-256\",\"X11\",\"Scrypt\",\"Scrypt\",\"X11\",\"Scrypt\",\"PoS\",\"X11\",\"SHA-256\",\"DPoS\",\"Scrypt\",\"Scrypt\",\"NeoScrypt\",\"X13\",\"DPoS\",\"DPoS\",\"SHA-256\",\"PoS\",\"PoS\",\"SHA-256\",\"Scrypt\",\"Scrypt\"],\"CoinName\":[\"42 Coin\",\"404Coin\",\"EliteCoin\",\"Dash\",\"Bitshares\",\"BitcoinDark\",\"PayCoin\",\"KoboCoin\",\"Aurora Coin\",\"BlueCoin\",\"EnergyCoin\",\"BitBar\",\"CryptoBullion\",\"CasinoCoin\",\"Diamond\",\"Exclusive Coin\",\"FlutterCoin\",\"HoboNickels\",\"HyperStake\",\"IOCoin\",\"MaxCoin\",\"MintCoin\",\"MazaCoin\",\"Nautilus Coin\",\"NavCoin\",\"OpalCoin\",\"Orbitcoin\",\"PotCoin\",\"PhoenixCoin\",\"Reddcoin\",\"SuperCoin\",\"SyncCoin\",\"TeslaCoin\",\"TittieCoin\",\"TorCoin\",\"UnitaryStatus Dollar\",\"UltraCoin\",\"VeriCoin\",\"X11 Coin\",\"Crypti\",\"StealthCoin\",\"ZCC Coin\",\"BurstCoin\",\"StorjCoin\",\"Neutron\",\"FairCoin\",\"RubyCoin\",\"Kore\",\"Dnotes\",\"8BIT Coin\",\"Sativa Coin\",\"Ucoin\",\"Vtorrent\",\"IslaCoin\",\"Nexus\",\"Droidz\",\"Squall Coin\",\"Diggits\",\"Paycon\",\"Emercoin\",\"EverGreenCoin\",\"Decred\",\"EDRCoin\",\"Hitcoin\",\"DubaiCoin\",\"PWR Coin\",\"BillaryCoin\",\"GPU Coin\",\"EuropeCoin\",\"ZeitCoin\",\"SwingCoin\",\"SafeExchangeCoin\",\"Nebuchadnezzar\",\"Ratecoin\",\"Revenu\",\"Clockcoin\",\"VIP Tokens\",\"BitSend\",\"Let it Ride\",\"PutinCoin\",\"iBankCoin\",\"Frankywillcoin\",\"MudraCoin\",\"Lutetium Coin\",\"GoldBlocks\",\"CarterCoin\",\"BitTokens\",\"MustangCoin\",\"ZoneCoin\",\"RootCoin\",\"BitCurrency\",\"Swiscoin\",\"BuzzCoin\",\"Opair\",\"PesoBit\",\"Halloween Coin\",\"CoffeeCoin\",\"RoyalCoin\",\"GanjaCoin V2\",\"TeamUP\",\"LanaCoin\",\"ARK\",\"InsaneCoin\",\"EmberCoin\",\"XenixCoin\",\"FreeCoin\",\"PLNCoin\",\"AquariusCoin\",\"Creatio\",\"Eternity\",\"Eurocoin\",\"BitcoinFast\",\"Stakenet\",\"BitConnect Coin\",\"MoneyCoin\",\"Enigma\",\"Russiacoin\",\"PandaCoin\",\"GameUnits\",\"GAKHcoin\",\"Allsafe\",\"LiteCreed\",\"Klingon Empire Darsek\",\"Internet of People\",\"KushCoin\",\"Printerium\",\"Impeach\",\"Zilbercoin\",\"FirstCoin\",\"FindCoin\",\"OpenChat\",\"RenosCoin\",\"VirtacoinPlus\",\"TajCoin\",\"Impact\",\"Atmos\",\"HappyCoin\",\"MacronCoin\",\"Condensate\",\"Independent Money System\",\"ArgusCoin\",\"LomoCoin\",\"ProCurrency\",\"GoldReserve\",\"GrowthCoin\",\"Phreak\",\"Degas Coin\",\"HTML5 Coin\",\"Ultimate Secure Cash\",\"QTUM\",\"Espers\",\"Denarius\",\"Virta Unique Coin\",\"Bitcoin Planet\",\"BritCoin\",\"Linda\",\"DeepOnion\",\"Signatum\",\"Cream\",\"Monoeci\",\"Draftcoin\",\"Stakecoin\",\"CoinonatX\",\"Ethereum Dark\",\"Obsidian\",\"Cardano\",\"Regalcoin\",\"TrezarCoin\",\"TerraNovaCoin\",\"Rupee\",\"WomenCoin\",\"Theresa May Coin\",\"NamoCoin\",\"LUXCoin\",\"Xios\",\"Bitcloud 2.0\",\"KekCoin\",\"BlackholeCoin\",\"Infinity Economics\",\"Magnet\",\"Lamden Tau\",\"Electra\",\"Bitcoin Diamond\",\"Cash & Back Coin\",\"Bulwark\",\"Kalkulus\",\"GermanCoin\",\"LiteCoin Ultra\",\"PhantomX\",\"Digiwage\",\"Trollcoin\",\"Litecoin Plus\",\"Monkey Project\",\"TokenPay\",\"1717 Masonic Commemorative Token\",\"My Big Coin\",\"Unified Society USDEX\",\"Tokyo Coin\",\"Stipend\",\"Pushi\",\"Ellerium\",\"Velox\",\"Ontology\",\"Bitspace\",\"Briacoin\",\"Ignition\",\"MedicCoin\",\"Bitcoin Green\",\"Deviant Coin\",\"Abjcoin\",\"Semux\",\"Carebit\",\"Zealium\",\"Proton\",\"iDealCash\",\"Bitcoin Incognito\",\"HollyWoodCoin\",\"Swisscoin\",\"Xt3ch\",\"TheVig\",\"EmaratCoin\",\"Dekado\",\"Lynx\",\"Poseidon Quark\",\"BitcoinWSpectrum\",\"Muse\",\"Trivechain\",\"Dystem\",\"Giant\",\"Peony Coin\",\"Absolute Coin\",\"Vitae\",\"TPCash\",\"ARENON\",\"EUNO\",\"MMOCoin\",\"Ketan\",\"XDNA\",\"PAXEX\",\"ThunderStake\",\"Kcash\",\"Bettex coin\",\"BitMoney\",\"Junson Ming Chan Coin\",\"HerbCoin\",\"PirateCash\",\"Oduwa\",\"Galilel\",\"Crypto Sports\",\"Credit\",\"Dash Platinum\",\"Nasdacoin\",\"Beetle Coin\",\"Titan Coin\",\"Award\",\"Insane Coin\",\"ALAX\",\"LiteDoge\",\"TruckCoin\",\"OrangeCoin\",\"BitstarCoin\",\"NeosCoin\",\"HyperCoin\",\"PinkCoin\",\"AudioCoin\",\"IncaKoin\",\"Piggy Coin\",\"Genstake\",\"XiaoMiCoin\",\"CapriCoin\",\" ClubCoin\",\"Radium\",\"Creditbit \",\"OKCash\",\"Lisk\",\"HiCoin\",\"WhiteCoin\",\"FriendshipCoin\",\"Triangles Coin\",\"EOS\",\"Oxycoin\",\"TigerCash\",\"Particl\",\"Nxt\",\"ZEPHYR\",\"Gapcoin\",\"BitcoinPlus\"],\"TotalCoinSupply\":{\"__ndarray__\":\"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\",\"dtype\":\"float64\",\"order\":\"little\",\"shape\":[287]},\"TotalCoinsMined\":{\"__ndarray__\":\"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\",\"dtype\":\"float64\",\"order\":\"little\",\"shape\":[287]},\"class\":[0,0,0,0,0,0,0,0,0,0,0,0,0,0,0,0,0,0,0,0,0,0,0,0,0,0,0,0,0,0,0,0,0,0,0,0,0,0,0,0,0,0,0,0,0,0,0,0,0,0,0,0,0,0,0,0,0,0,0,0,0,0,0,0,0,0,0,0,0,0,0,0,0,0,0,0,0,0,0,0,0,0,0,0,0,0,0,0,0,0,0,0,0,0,0,0,0,0,0,0,0,0,0,0,0,0,0,0,0,0,0,0,0,0,0,0,0,0,0,0,0,0,0,0,0,0,0,0,0,0,0,0,0,0,0,0,0,0,0,0,0,0,0,0,0,0,0,0,0,0,0,0,0,0,0,0,0,0,0,0,0,0,0,0,0,0,0,0,0,0,0,0,0,0,0,0,0,0,0,0,0,0,0,0,0,0,0,0,0,0,0,0,0,0,0,0,0,0,0,0,0,0,0,0,0,0,0,0,0,0,0,0,0,0,0,0,0,0,0,0,0,0,0,0,0,0,0,0,0,0,0,0,0,0,0,0,0,0,0,0,0,0,0,0,0,0,0,0,0,0,0,0,0,0,0,0,0,0,0,0,0,0,0,0,0,0,0,0,0,0,0,0,0,0,0,0,0,0,0,0,0,0,0,0,0,0,0]},\"selected\":{\"id\":\"2634\"},\"selection_policy\":{\"id\":\"2647\"}},\"id\":\"2633\",\"type\":\"ColumnDataSource\"},{\"attributes\":{},\"id\":\"2613\",\"type\":\"BasicTicker\"},{\"attributes\":{\"label\":{\"value\":\"0\"},\"renderers\":[{\"id\":\"2639\"}]},\"id\":\"2650\",\"type\":\"LegendItem\"},{\"attributes\":{},\"id\":\"2618\",\"type\":\"WheelZoomTool\"},{\"attributes\":{},\"id\":\"2634\",\"type\":\"Selection\"},{\"attributes\":{},\"id\":\"2671\",\"type\":\"Selection\"},{\"attributes\":{\"axis\":{\"id\":\"2608\"},\"grid_line_color\":null,\"ticker\":null},\"id\":\"2611\",\"type\":\"Grid\"},{\"attributes\":{\"source\":{\"id\":\"2670\"}},\"id\":\"2677\",\"type\":\"CDSView\"},{\"attributes\":{},\"id\":\"2711\",\"type\":\"UnionRenderers\"},{\"attributes\":{\"margin\":[5,5,5,5],\"name\":\"HSpacer05354\",\"sizing_mode\":\"stretch_width\"},\"id\":\"2592\",\"type\":\"Spacer\"},{\"attributes\":{},\"id\":\"2606\",\"type\":\"LinearScale\"},{\"attributes\":{\"label\":{\"value\":\"2\"},\"renderers\":[{\"id\":\"2676\"}]},\"id\":\"2690\",\"type\":\"LegendItem\"},{\"attributes\":{\"axis\":{\"id\":\"2612\"},\"dimension\":1,\"grid_line_color\":null,\"ticker\":null},\"id\":\"2615\",\"type\":\"Grid\"},{\"attributes\":{},\"id\":\"2617\",\"type\":\"PanTool\"},{\"attributes\":{},\"id\":\"2667\",\"type\":\"UnionRenderers\"},{\"attributes\":{\"axis_label\":\"TotalCoinsMined\",\"bounds\":\"auto\",\"formatter\":{\"id\":\"2630\"},\"major_label_orientation\":\"horizontal\",\"ticker\":{\"id\":\"2609\"}},\"id\":\"2608\",\"type\":\"LinearAxis\"},{\"attributes\":{},\"id\":\"2688\",\"type\":\"UnionRenderers\"},{\"attributes\":{},\"id\":\"2620\",\"type\":\"ResetTool\"},{\"attributes\":{\"active_drag\":\"auto\",\"active_inspect\":\"auto\",\"active_multi\":null,\"active_scroll\":\"auto\",\"active_tap\":\"auto\",\"tools\":[{\"id\":\"2595\"},{\"id\":\"2616\"},{\"id\":\"2617\"},{\"id\":\"2618\"},{\"id\":\"2619\"},{\"id\":\"2620\"}]},\"id\":\"2622\",\"type\":\"Toolbar\"},{\"attributes\":{\"overlay\":{\"id\":\"2621\"}},\"id\":\"2619\",\"type\":\"BoxZoomTool\"}],\"root_ids\":[\"2591\"]},\"title\":\"Bokeh Application\",\"version\":\"2.1.1\"}};\n",
       "  var render_items = [{\"docid\":\"41243bef-3ce9-4ed4-8a1f-fcc8c390dde1\",\"root_ids\":[\"2591\"],\"roots\":{\"2591\":\"7ceb2d78-350f-463e-bc72-c80c08565736\"}}];\n",
       "  root.Bokeh.embed.embed_items_notebook(docs_json, render_items);\n",
       "  }\n",
       "if (root.Bokeh !== undefined) {\n",
       "    embed_document(root);\n",
       "  } else {\n",
       "    var attempts = 0;\n",
       "    var timer = setInterval(function(root) {\n",
       "      if (root.Bokeh !== undefined) {\n",
       "        clearInterval(timer);\n",
       "        embed_document(root);\n",
       "      } else if (document.readyState == \"complete\") {\n",
       "        attempts++;\n",
       "        if (attempts > 100) {\n",
       "          clearInterval(timer);\n",
       "          console.log(\"Bokeh: ERROR: Unable to run BokehJS code because BokehJS library is missing\");\n",
       "        }\n",
       "      }\n",
       "    }, 10, root)\n",
       "  }\n",
       "})(window);</script>"
      ],
      "text/plain": [
       ":NdOverlay   [class]\n",
       "   :Scatter   [TotalCoinsMined]   (TotalCoinSupply,CoinName,Algorithm)"
      ]
     },
     "execution_count": 117,
     "metadata": {
      "application/vnd.holoviews_exec.v0+json": {
       "id": "2591"
      }
     },
     "output_type": "execute_result"
    }
   ],
   "source": [
    "# Create a hvplot.scatter plot using x=\"TotalCoinsMined\" and y=\"TotalCoinSupply\".\n",
    "result2.hvplot.scatter(x='TotalCoinsMined', y='TotalCoinSupply', by='class', \n",
    "                  legend='top', height=400, width=400, hover_cols = [\"CoinName\", \"Algorithm\"])\n"
   ]
  },
  {
   "cell_type": "code",
   "execution_count": null,
   "metadata": {},
   "outputs": [],
   "source": []
  }
 ],
 "metadata": {
  "file_extension": ".py",
  "kernelspec": {
   "display_name": "Python 3",
   "language": "python",
   "name": "python3"
  },
  "language_info": {
   "codemirror_mode": {
    "name": "ipython",
    "version": 3
   },
   "file_extension": ".py",
   "mimetype": "text/x-python",
   "name": "python",
   "nbconvert_exporter": "python",
   "pygments_lexer": "ipython3",
   "version": "3.8.3"
  },
  "latex_envs": {
   "LaTeX_envs_menu_present": true,
   "autoclose": false,
   "autocomplete": true,
   "bibliofile": "biblio.bib",
   "cite_by": "apalike",
   "current_citInitial": 1,
   "eqLabelWithNumbers": true,
   "eqNumInitial": 1,
   "hotkeys": {
    "equation": "Ctrl-E",
    "itemize": "Ctrl-I"
   },
   "labels_anchors": false,
   "latex_user_defs": false,
   "report_style_numbering": false,
   "user_envs_cfg": false
  },
  "mimetype": "text/x-python",
  "name": "python",
  "npconvert_exporter": "python",
  "pygments_lexer": "ipython3",
  "version": 3
 },
 "nbformat": 4,
 "nbformat_minor": 2
}
